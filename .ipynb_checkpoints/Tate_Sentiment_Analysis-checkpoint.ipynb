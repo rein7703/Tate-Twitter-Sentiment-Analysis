{
 "cells": [
  {
   "cell_type": "markdown",
   "metadata": {
    "id": "DVyZ9vieC8-W"
   },
   "source": [
    "# Twitter Sentiment Analysis: The Rise (or Fall) of Andrew Tate"
   ]
  },
  {
   "cell_type": "markdown",
   "metadata": {
    "id": "7pbY85jFDFA_"
   },
   "source": [
    "Overview:\n",
    "We're going to analyze people's perception of Andrew Tate on twitter with negative sentiment represented with label '1' and positive sentiment represented with label '0'. We use Logistic Regression algorithm to classify each tweets"
   ]
  },
  {
   "cell_type": "markdown",
   "metadata": {
    "id": "sUUWxpNzvlPs"
   },
   "source": [
    "Training Dataset Source: https://www.coursera.org/projects/twitter-sentiment-analysis\n",
    "\n",
    "Testing dataset to get insight about Andrew Tate from Twitter API\n"
   ]
  },
  {
   "cell_type": "markdown",
   "metadata": {
    "id": "uAE6Icc0uylP"
   },
   "source": [
    "# Step 1: IMPORT LIBRARIES AND DATASETS"
   ]
  },
  {
   "cell_type": "code",
   "execution_count": 101,
   "metadata": {
    "id": "YBp2qDPb8pDo"
   },
   "outputs": [],
   "source": [
    "import pandas as pd\n",
    "import numpy as np\n",
    "import seaborn as sns\n",
    "import matplotlib.pyplot as plt"
   ]
  },
  {
   "cell_type": "code",
   "execution_count": 102,
   "metadata": {
    "id": "tjIiJdM4u1IE"
   },
   "outputs": [],
   "source": [
    "# Load the data\n",
    "df = pd.read_csv('twitter.csv')"
   ]
  },
  {
   "cell_type": "markdown",
   "metadata": {
    "id": "N_oxtwQWwtjo"
   },
   "source": [
    "As we can see from the result below, the data is imbalanced. There are way more positive labeled tweets in comparison to the negatively labeled"
   ]
  },
  {
   "cell_type": "code",
   "execution_count": 103,
   "metadata": {
    "colab": {
     "base_uri": "https://localhost:8080/"
    },
    "id": "c1RCreTIwOk1",
    "outputId": "a6825bd1-dcc3-4bf9-f4e3-640fbfffe625"
   },
   "outputs": [
    {
     "name": "stdout",
     "output_type": "stream",
     "text": [
      "The shape of negative labeled tweets: \n",
      "(2242, 3)\n",
      "The shape of positive labeled tweets: \n",
      "(29720, 3)\n"
     ]
    }
   ],
   "source": [
    "# seeing the number of negative and positive labeled data\n",
    "print(\"The shape of negative labeled tweets: \")\n",
    "print(df[df['label']== 1].shape)\n",
    "print(\"The shape of positive labeled tweets: \")\n",
    "print(df[df['label'] == 0].shape)"
   ]
  },
  {
   "cell_type": "markdown",
   "metadata": {
    "id": "T8-oryGrxTQb"
   },
   "source": [
    "To prevent the bias towards positive labeling, we're sampling the positive labeled tweet to match the amount of the negative labeled tweets, 2242 tweets for each labels"
   ]
  },
  {
   "cell_type": "code",
   "execution_count": 104,
   "metadata": {
    "colab": {
     "base_uri": "https://localhost:8080/"
    },
    "id": "q4_wPDKCu5Uc",
    "outputId": "4361d3b3-c3de-44ae-ba82-eb41a0e2b0b3"
   },
   "outputs": [
    {
     "name": "stderr",
     "output_type": "stream",
     "text": [
      "C:\\Users\\Reinhart\\AppData\\Local\\Temp\\ipykernel_12004\\3220590225.py:5: SettingWithCopyWarning: \n",
      "A value is trying to be set on a copy of a slice from a DataFrame\n",
      "\n",
      "See the caveats in the documentation: https://pandas.pydata.org/pandas-docs/stable/user_guide/indexing.html#returning-a-view-versus-a-copy\n",
      "  df_label_zero.drop(df_label_zero.index[2242:], axis=0, inplace=True)\n"
     ]
    }
   ],
   "source": [
    "df_label_one = df[df['label']==1]\n",
    "df_label_one\n",
    "\n",
    "df_label_zero = df[df['label']==0]\n",
    "df_label_zero.drop(df_label_zero.index[2242:], axis=0, inplace=True)\n",
    "df_label_zero\n",
    "\n",
    "frames_1 = [df_label_zero, df_label_one]\n",
    "pd.set_option('display.max_rows', 10)\n",
    "tweets_df= pd.concat(frames_1, ignore_index = True)"
   ]
  },
  {
   "cell_type": "code",
   "execution_count": 105,
   "metadata": {
    "colab": {
     "base_uri": "https://localhost:8080/"
    },
    "id": "kbG0axf0CGzB",
    "outputId": "92a74e8e-f14a-4f7f-80bd-9006f377c75f"
   },
   "outputs": [
    {
     "name": "stdout",
     "output_type": "stream",
     "text": [
      "(2242, 3)\n",
      "(2242, 3)\n"
     ]
    }
   ],
   "source": [
    "print(df_label_one.shape)\n",
    "print(df_label_zero.shape)"
   ]
  },
  {
   "cell_type": "code",
   "execution_count": 106,
   "metadata": {
    "colab": {
     "base_uri": "https://localhost:8080/"
    },
    "id": "RUt2ON_UxyYk",
    "outputId": "1e198627-56f0-4903-baaf-6ffc00281317"
   },
   "outputs": [
    {
     "name": "stdout",
     "output_type": "stream",
     "text": [
      "<class 'pandas.core.frame.DataFrame'>\n",
      "RangeIndex: 4484 entries, 0 to 4483\n",
      "Data columns (total 3 columns):\n",
      " #   Column  Non-Null Count  Dtype \n",
      "---  ------  --------------  ----- \n",
      " 0   id      4484 non-null   int64 \n",
      " 1   label   4484 non-null   int64 \n",
      " 2   tweet   4484 non-null   object\n",
      "dtypes: int64(2), object(1)\n",
      "memory usage: 105.2+ KB\n"
     ]
    }
   ],
   "source": [
    "tweets_df.info()"
   ]
  },
  {
   "cell_type": "code",
   "execution_count": 107,
   "metadata": {
    "colab": {
     "base_uri": "https://localhost:8080/",
     "height": 424
    },
    "id": "hMq3-KWOx0e1",
    "outputId": "73eaa448-b023-4e34-acc0-9b4611c831dd"
   },
   "outputs": [
    {
     "data": {
      "text/html": [
       "<div>\n",
       "<style scoped>\n",
       "    .dataframe tbody tr th:only-of-type {\n",
       "        vertical-align: middle;\n",
       "    }\n",
       "\n",
       "    .dataframe tbody tr th {\n",
       "        vertical-align: top;\n",
       "    }\n",
       "\n",
       "    .dataframe thead th {\n",
       "        text-align: right;\n",
       "    }\n",
       "</style>\n",
       "<table border=\"1\" class=\"dataframe\">\n",
       "  <thead>\n",
       "    <tr style=\"text-align: right;\">\n",
       "      <th></th>\n",
       "      <th>id</th>\n",
       "      <th>label</th>\n",
       "      <th>tweet</th>\n",
       "    </tr>\n",
       "  </thead>\n",
       "  <tbody>\n",
       "    <tr>\n",
       "      <th>0</th>\n",
       "      <td>1</td>\n",
       "      <td>0</td>\n",
       "      <td>@user when a father is dysfunctional and is s...</td>\n",
       "    </tr>\n",
       "    <tr>\n",
       "      <th>1</th>\n",
       "      <td>2</td>\n",
       "      <td>0</td>\n",
       "      <td>@user @user thanks for #lyft credit i can't us...</td>\n",
       "    </tr>\n",
       "    <tr>\n",
       "      <th>2</th>\n",
       "      <td>3</td>\n",
       "      <td>0</td>\n",
       "      <td>bihday your majesty</td>\n",
       "    </tr>\n",
       "    <tr>\n",
       "      <th>3</th>\n",
       "      <td>4</td>\n",
       "      <td>0</td>\n",
       "      <td>#model   i love u take with u all the time in ...</td>\n",
       "    </tr>\n",
       "    <tr>\n",
       "      <th>4</th>\n",
       "      <td>5</td>\n",
       "      <td>0</td>\n",
       "      <td>factsguide: society now    #motivation</td>\n",
       "    </tr>\n",
       "    <tr>\n",
       "      <th>...</th>\n",
       "      <td>...</td>\n",
       "      <td>...</td>\n",
       "      <td>...</td>\n",
       "    </tr>\n",
       "    <tr>\n",
       "      <th>4479</th>\n",
       "      <td>31935</td>\n",
       "      <td>1</td>\n",
       "      <td>lady banned from kentucky mall. @user  #jcpenn...</td>\n",
       "    </tr>\n",
       "    <tr>\n",
       "      <th>4480</th>\n",
       "      <td>31947</td>\n",
       "      <td>1</td>\n",
       "      <td>@user omfg i'm offended! i'm a  mailbox and i'...</td>\n",
       "    </tr>\n",
       "    <tr>\n",
       "      <th>4481</th>\n",
       "      <td>31948</td>\n",
       "      <td>1</td>\n",
       "      <td>@user @user you don't have the balls to hashta...</td>\n",
       "    </tr>\n",
       "    <tr>\n",
       "      <th>4482</th>\n",
       "      <td>31949</td>\n",
       "      <td>1</td>\n",
       "      <td>makes you ask yourself, who am i? then am i a...</td>\n",
       "    </tr>\n",
       "    <tr>\n",
       "      <th>4483</th>\n",
       "      <td>31961</td>\n",
       "      <td>1</td>\n",
       "      <td>@user #sikh #temple vandalised in in #calgary,...</td>\n",
       "    </tr>\n",
       "  </tbody>\n",
       "</table>\n",
       "<p>4484 rows × 3 columns</p>\n",
       "</div>"
      ],
      "text/plain": [
       "         id  label                                              tweet\n",
       "0         1      0   @user when a father is dysfunctional and is s...\n",
       "1         2      0  @user @user thanks for #lyft credit i can't us...\n",
       "2         3      0                                bihday your majesty\n",
       "3         4      0  #model   i love u take with u all the time in ...\n",
       "4         5      0             factsguide: society now    #motivation\n",
       "...     ...    ...                                                ...\n",
       "4479  31935      1  lady banned from kentucky mall. @user  #jcpenn...\n",
       "4480  31947      1  @user omfg i'm offended! i'm a  mailbox and i'...\n",
       "4481  31948      1  @user @user you don't have the balls to hashta...\n",
       "4482  31949      1   makes you ask yourself, who am i? then am i a...\n",
       "4483  31961      1  @user #sikh #temple vandalised in in #calgary,...\n",
       "\n",
       "[4484 rows x 3 columns]"
      ]
     },
     "execution_count": 107,
     "metadata": {},
     "output_type": "execute_result"
    }
   ],
   "source": [
    "tweets_df.describe()\n",
    "tweets_df"
   ]
  },
  {
   "cell_type": "code",
   "execution_count": 108,
   "metadata": {
    "colab": {
     "base_uri": "https://localhost:8080/",
     "height": 424
    },
    "id": "pMjxoiu_3bs5",
    "outputId": "a2adb9e6-b8a0-46d9-a873-2d9915edfb88"
   },
   "outputs": [
    {
     "data": {
      "text/html": [
       "<div>\n",
       "<style scoped>\n",
       "    .dataframe tbody tr th:only-of-type {\n",
       "        vertical-align: middle;\n",
       "    }\n",
       "\n",
       "    .dataframe tbody tr th {\n",
       "        vertical-align: top;\n",
       "    }\n",
       "\n",
       "    .dataframe thead th {\n",
       "        text-align: right;\n",
       "    }\n",
       "</style>\n",
       "<table border=\"1\" class=\"dataframe\">\n",
       "  <thead>\n",
       "    <tr style=\"text-align: right;\">\n",
       "      <th></th>\n",
       "      <th>label</th>\n",
       "      <th>tweet</th>\n",
       "    </tr>\n",
       "  </thead>\n",
       "  <tbody>\n",
       "    <tr>\n",
       "      <th>0</th>\n",
       "      <td>0</td>\n",
       "      <td>@user when a father is dysfunctional and is s...</td>\n",
       "    </tr>\n",
       "    <tr>\n",
       "      <th>1</th>\n",
       "      <td>0</td>\n",
       "      <td>@user @user thanks for #lyft credit i can't us...</td>\n",
       "    </tr>\n",
       "    <tr>\n",
       "      <th>2</th>\n",
       "      <td>0</td>\n",
       "      <td>bihday your majesty</td>\n",
       "    </tr>\n",
       "    <tr>\n",
       "      <th>3</th>\n",
       "      <td>0</td>\n",
       "      <td>#model   i love u take with u all the time in ...</td>\n",
       "    </tr>\n",
       "    <tr>\n",
       "      <th>4</th>\n",
       "      <td>0</td>\n",
       "      <td>factsguide: society now    #motivation</td>\n",
       "    </tr>\n",
       "    <tr>\n",
       "      <th>...</th>\n",
       "      <td>...</td>\n",
       "      <td>...</td>\n",
       "    </tr>\n",
       "    <tr>\n",
       "      <th>4479</th>\n",
       "      <td>1</td>\n",
       "      <td>lady banned from kentucky mall. @user  #jcpenn...</td>\n",
       "    </tr>\n",
       "    <tr>\n",
       "      <th>4480</th>\n",
       "      <td>1</td>\n",
       "      <td>@user omfg i'm offended! i'm a  mailbox and i'...</td>\n",
       "    </tr>\n",
       "    <tr>\n",
       "      <th>4481</th>\n",
       "      <td>1</td>\n",
       "      <td>@user @user you don't have the balls to hashta...</td>\n",
       "    </tr>\n",
       "    <tr>\n",
       "      <th>4482</th>\n",
       "      <td>1</td>\n",
       "      <td>makes you ask yourself, who am i? then am i a...</td>\n",
       "    </tr>\n",
       "    <tr>\n",
       "      <th>4483</th>\n",
       "      <td>1</td>\n",
       "      <td>@user #sikh #temple vandalised in in #calgary,...</td>\n",
       "    </tr>\n",
       "  </tbody>\n",
       "</table>\n",
       "<p>4484 rows × 2 columns</p>\n",
       "</div>"
      ],
      "text/plain": [
       "      label                                              tweet\n",
       "0         0   @user when a father is dysfunctional and is s...\n",
       "1         0  @user @user thanks for #lyft credit i can't us...\n",
       "2         0                                bihday your majesty\n",
       "3         0  #model   i love u take with u all the time in ...\n",
       "4         0             factsguide: society now    #motivation\n",
       "...     ...                                                ...\n",
       "4479      1  lady banned from kentucky mall. @user  #jcpenn...\n",
       "4480      1  @user omfg i'm offended! i'm a  mailbox and i'...\n",
       "4481      1  @user @user you don't have the balls to hashta...\n",
       "4482      1   makes you ask yourself, who am i? then am i a...\n",
       "4483      1  @user #sikh #temple vandalised in in #calgary,...\n",
       "\n",
       "[4484 rows x 2 columns]"
      ]
     },
     "execution_count": 108,
     "metadata": {},
     "output_type": "execute_result"
    }
   ],
   "source": [
    "# Drop the 'id' column\n",
    "tweets_df = tweets_df.drop(['id'], axis=1)\n",
    "tweets_df"
   ]
  },
  {
   "cell_type": "markdown",
   "metadata": {
    "id": "kGmZtjZI2k5G"
   },
   "source": [
    "# Step 2: Importing data from Twitter API"
   ]
  },
  {
   "cell_type": "code",
   "execution_count": 109,
   "metadata": {
    "id": "rC7PWufWKgNl"
   },
   "outputs": [],
   "source": [
    "from tweepy import API \n",
    "from tweepy import Cursor\n",
    "from tweepy.streaming import StreamListener\n",
    "from tweepy import OAuthHandler\n",
    "from tweepy import Stream\n",
    "\n",
    "from textblob import TextBlob\n",
    "import re\n"
   ]
  },
  {
   "cell_type": "code",
   "execution_count": 110,
   "metadata": {
    "id": "FCHXz03SNhB-"
   },
   "outputs": [],
   "source": [
    "# For twitter API credentials\n",
    "class Credentials():\n",
    "  def __init__(self, access_token, access_token_secret, consumer_key, consumer_secret):\n",
    "    self.ACCESS_TOKEN = access_token\n",
    "    self.ACCESS_TOKEN_SECRET = access_token_secret\n",
    "    self.CONSUMER_KEY = consumer_key\n",
    "    self.CONSUMER_SECRET = consumer_secret\n",
    "ACCESS_TOKEN = \"1153291455340765184-AH0fD3WMlIOmdChkVMmAtWV18zD8OE\"\n",
    "ACCESS_TOKEN_SECRET = \"b8QtThweLDp0hGEiawIqRxFZAtCKILpCh3keWcft56AO4\"\n",
    "CONSUMER_KEY = \"i9UvhwXbvVxWCI6ymXb6gUuSv\"\n",
    "CONSUMER_SECRET = \"fRAzewVdYvjDt2edPh8EhCZMVBniTMKCtNaSqpELa9Ka63IQr8\"\n",
    "twitter_credentials = Credentials(ACCESS_TOKEN, ACCESS_TOKEN_SECRET, CONSUMER_KEY, CONSUMER_SECRET)\n",
    "\n",
    "#To Authenticate the access to twitter API\n",
    "class TwitterAuthenticator():\n",
    "    def authenticate_twitter_app(self):\n",
    "        auth = OAuthHandler(twitter_credentials.CONSUMER_KEY, twitter_credentials.CONSUMER_SECRET)\n",
    "        auth.set_access_token(twitter_credentials.ACCESS_TOKEN, twitter_credentials.ACCESS_TOKEN_SECRET)\n",
    "        return auth\n",
    "\n",
    "class TwitterClient():\n",
    "    def __init__(self, twitter_user=None):\n",
    "        self.auth = TwitterAuthenticator().authenticate_twitter_app()\n",
    "        self.twitter_client = API(self.auth)\n",
    "\n",
    "        self.twitter_user = twitter_user\n",
    "    def get_twitter_client_api(self):\n",
    "      return self.twitter_client\n",
    "\n",
    "#To convert the JSON data to pandas dataframe\n",
    "class TweetAnalyzer():\n",
    "\n",
    "    def tweets_to_data_frame(self, tweets):\n",
    "        df = pd.DataFrame(data=[tweet.text for tweet in tweets], columns=['tweet'])\n",
    "\n",
    "        return df\n",
    "\n"
   ]
  },
  {
   "cell_type": "code",
   "execution_count": 111,
   "metadata": {
    "id": "oAGD2BzEO8N6"
   },
   "outputs": [],
   "source": [
    "twitter_client = TwitterClient()\n",
    "tweet_analyzer = TweetAnalyzer()\n",
    "api = twitter_client.get_twitter_client_api()\n",
    "tweets = api.search(q = \"\\\"andrew tate\\\" lang:en until:2022-10-08 since:2022-09-01 -filter:links\", count=100)\n",
    "df_tate = tweet_analyzer.tweets_to_data_frame(tweets)\n"
   ]
  },
  {
   "cell_type": "markdown",
   "metadata": {
    "id": "BjXsTyJhCceU"
   },
   "source": [
    "We then combine the data from the dataset and the twitter API into df_all dataframe. This is important to ensure equal number of features for both dataset"
   ]
  },
  {
   "cell_type": "markdown",
   "metadata": {
    "id": "QY6gFe5QD4DC"
   },
   "source": [
    "The data from twitter API is not labeled. Therefore, for the sake of dataset completeness to make it possible to combine both dataframe, we assign all tweets with label '1'. This doesnt matter because the label won't be used as an input to the classifier model. It's done with the code below:"
   ]
  },
  {
   "cell_type": "code",
   "execution_count": 112,
   "metadata": {
    "colab": {
     "base_uri": "https://localhost:8080/",
     "height": 424
    },
    "id": "8QLsKCe1D0mO",
    "outputId": "cde176d0-d448-490a-b6e8-30e0b81d799d"
   },
   "outputs": [
    {
     "data": {
      "text/html": [
       "<div>\n",
       "<style scoped>\n",
       "    .dataframe tbody tr th:only-of-type {\n",
       "        vertical-align: middle;\n",
       "    }\n",
       "\n",
       "    .dataframe tbody tr th {\n",
       "        vertical-align: top;\n",
       "    }\n",
       "\n",
       "    .dataframe thead th {\n",
       "        text-align: right;\n",
       "    }\n",
       "</style>\n",
       "<table border=\"1\" class=\"dataframe\">\n",
       "  <thead>\n",
       "    <tr style=\"text-align: right;\">\n",
       "      <th></th>\n",
       "      <th>label</th>\n",
       "      <th>tweet</th>\n",
       "    </tr>\n",
       "  </thead>\n",
       "  <tbody>\n",
       "    <tr>\n",
       "      <th>0</th>\n",
       "      <td>0</td>\n",
       "      <td>@user when a father is dysfunctional and is s...</td>\n",
       "    </tr>\n",
       "    <tr>\n",
       "      <th>1</th>\n",
       "      <td>0</td>\n",
       "      <td>@user @user thanks for #lyft credit i can't us...</td>\n",
       "    </tr>\n",
       "    <tr>\n",
       "      <th>2</th>\n",
       "      <td>0</td>\n",
       "      <td>bihday your majesty</td>\n",
       "    </tr>\n",
       "    <tr>\n",
       "      <th>3</th>\n",
       "      <td>0</td>\n",
       "      <td>#model   i love u take with u all the time in ...</td>\n",
       "    </tr>\n",
       "    <tr>\n",
       "      <th>4</th>\n",
       "      <td>0</td>\n",
       "      <td>factsguide: society now    #motivation</td>\n",
       "    </tr>\n",
       "    <tr>\n",
       "      <th>...</th>\n",
       "      <td>...</td>\n",
       "      <td>...</td>\n",
       "    </tr>\n",
       "    <tr>\n",
       "      <th>4579</th>\n",
       "      <td>1</td>\n",
       "      <td>Piers Morgan &amp;amp; Andrew Tate converse. Enter...</td>\n",
       "    </tr>\n",
       "    <tr>\n",
       "      <th>4580</th>\n",
       "      <td>1</td>\n",
       "      <td>@emilyhewertson Putin, Piers Morgan, Jeremy Co...</td>\n",
       "    </tr>\n",
       "    <tr>\n",
       "      <th>4581</th>\n",
       "      <td>1</td>\n",
       "      <td>RT @SheerOpulence2: @RockiiiiRoadd I feel like...</td>\n",
       "    </tr>\n",
       "    <tr>\n",
       "      <th>4582</th>\n",
       "      <td>1</td>\n",
       "      <td>@RyanGellatly Mario - Still Captain Lou\\nLuigi...</td>\n",
       "    </tr>\n",
       "    <tr>\n",
       "      <th>4583</th>\n",
       "      <td>1</td>\n",
       "      <td>I wonder why @piersmorgan was so compassionate...</td>\n",
       "    </tr>\n",
       "  </tbody>\n",
       "</table>\n",
       "<p>4584 rows × 2 columns</p>\n",
       "</div>"
      ],
      "text/plain": [
       "      label                                              tweet\n",
       "0         0   @user when a father is dysfunctional and is s...\n",
       "1         0  @user @user thanks for #lyft credit i can't us...\n",
       "2         0                                bihday your majesty\n",
       "3         0  #model   i love u take with u all the time in ...\n",
       "4         0             factsguide: society now    #motivation\n",
       "...     ...                                                ...\n",
       "4579      1  Piers Morgan &amp; Andrew Tate converse. Enter...\n",
       "4580      1  @emilyhewertson Putin, Piers Morgan, Jeremy Co...\n",
       "4581      1  RT @SheerOpulence2: @RockiiiiRoadd I feel like...\n",
       "4582      1  @RyanGellatly Mario - Still Captain Lou\\nLuigi...\n",
       "4583      1  I wonder why @piersmorgan was so compassionate...\n",
       "\n",
       "[4584 rows x 2 columns]"
      ]
     },
     "execution_count": 112,
     "metadata": {},
     "output_type": "execute_result"
    }
   ],
   "source": [
    "one_label = [1 for i in range(100)]\n",
    "df_tate['label'] = one_label #assigning all tweets with label '1'\n",
    "\n",
    "# Combining model and testing dataset\n",
    "frames = [tweets_df, df_tate]\n",
    "pd.set_option('display.max_rows', 10)\n",
    "df_all= pd.concat(frames, ignore_index = True)\n",
    "df_all"
   ]
  },
  {
   "cell_type": "markdown",
   "metadata": {
    "id": "2geMzGITbZPJ"
   },
   "source": [
    "# Step 3: Removing Punctuations and Stopwords"
   ]
  },
  {
   "cell_type": "markdown",
   "metadata": {
    "id": "ywXejZ2AEVLZ"
   },
   "source": [
    "To ensure the value of each data, both the punctuations and stopwords will be removed"
   ]
  },
  {
   "cell_type": "code",
   "execution_count": 113,
   "metadata": {
    "colab": {
     "base_uri": "https://localhost:8080/"
    },
    "id": "RtLrFyNuy_XE",
    "outputId": "d4d25b1a-75cd-4e03-f0d9-f861f31962b4"
   },
   "outputs": [
    {
     "name": "stderr",
     "output_type": "stream",
     "text": [
      "[nltk_data] Downloading package stopwords to\n",
      "[nltk_data]     C:\\Users\\Reinhart\\AppData\\Roaming\\nltk_data...\n",
      "[nltk_data]   Package stopwords is already up-to-date!\n"
     ]
    }
   ],
   "source": [
    "import string\n",
    "import nltk\n",
    "nltk.download('stopwords')\n",
    "from nltk.corpus import stopwords"
   ]
  },
  {
   "cell_type": "code",
   "execution_count": 114,
   "metadata": {
    "id": "WHJnbIDeSmlm"
   },
   "outputs": [],
   "source": [
    "\n",
    "# Remove Punctuation and Stopwords\n",
    "def message_cleaning(message):\n",
    "    Test_punc_removed = [char for char in message if char not in string.punctuation]\n",
    "    Test_punc_removed_join = ''.join(Test_punc_removed)\n",
    "    Test_punc_removed_join_clean = [word for word in Test_punc_removed_join.split() if word.lower() not in stopwords.words('english')]\n",
    "    return Test_punc_removed_join_clean"
   ]
  },
  {
   "cell_type": "code",
   "execution_count": 115,
   "metadata": {
    "id": "TxAYpIXXSmoZ"
   },
   "outputs": [],
   "source": [
    "# Trying the function\n",
    "df_all_cleaned = df_all['tweet'].apply(message_cleaning)"
   ]
  },
  {
   "cell_type": "code",
   "execution_count": 116,
   "metadata": {
    "colab": {
     "base_uri": "https://localhost:8080/"
    },
    "id": "DXnYj4Q8SmrH",
    "outputId": "f3fa5c75-c274-4f7e-f349-5d543031ba3b"
   },
   "outputs": [
    {
     "name": "stdout",
     "output_type": "stream",
     "text": [
      "['RT', 'Limonadaman', 'think', 'Andrew', 'Tate', 'bought', 'NFT', 'Curious']\n"
     ]
    }
   ],
   "source": [
    "print(df_all_cleaned.iloc[-10]) # show the cleaned up version"
   ]
  },
  {
   "cell_type": "code",
   "execution_count": 117,
   "metadata": {
    "colab": {
     "base_uri": "https://localhost:8080/"
    },
    "id": "ygy78EHZTGTD",
    "outputId": "a7041f32-803b-4451-8235-d12aeef7d826"
   },
   "outputs": [
    {
     "name": "stdout",
     "output_type": "stream",
     "text": [
      "RT @Limonadaman: You think Andrew Tate has bought an NFT? Curious.\n"
     ]
    }
   ],
   "source": [
    "print(df_all.iloc[-10]['tweet']) # show the original version"
   ]
  },
  {
   "cell_type": "markdown",
   "metadata": {
    "id": "BeKsIy3qzRtS"
   },
   "source": [
    "# Step 4: Performing Vectorization"
   ]
  },
  {
   "cell_type": "markdown",
   "metadata": {
    "id": "3yG_ufuiEgAs"
   },
   "source": [
    "To ensure model fitting can happen, we convert the tweet data into vectors through vectorization"
   ]
  },
  {
   "cell_type": "code",
   "execution_count": 118,
   "metadata": {
    "colab": {
     "base_uri": "https://localhost:8080/"
    },
    "id": "lBMfXgw5YEtP",
    "outputId": "61be26ad-f862-4192-fea8-e3bfb04d1d5d"
   },
   "outputs": [
    {
     "name": "stdout",
     "output_type": "stream",
     "text": [
      "      0      1      2      3      4      5      6      7      8      9      \\\n",
      "0         0      0      0      0      0      0      0      0      0      0   \n",
      "1         0      0      0      0      0      0      0      0      0      0   \n",
      "2         0      0      0      0      0      0      0      0      0      0   \n",
      "3         0      0      0      0      0      0      0      0      0      0   \n",
      "4         0      0      0      0      0      0      0      0      0      0   \n",
      "...     ...    ...    ...    ...    ...    ...    ...    ...    ...    ...   \n",
      "4579      0      0      0      0      0      0      0      0      0      0   \n",
      "4580      0      0      0      0      0      0      0      0      0      0   \n",
      "4581      0      0      0      0      0      0      0      0      0      0   \n",
      "4582      0      0      0      0      0      0      0      0      0      0   \n",
      "4583      0      0      0      0      0      0      0      0      0      0   \n",
      "\n",
      "      ...  12117  12118  12119  12120  12121  12122  12123  12124  12125  \\\n",
      "0     ...      0      0      0      0      0      0      0      0      0   \n",
      "1     ...      0      0      0      0      0      0      0      0      0   \n",
      "2     ...      0      0      0      0      0      0      0      0      0   \n",
      "3     ...      0      0      0      0      0      0      0      0      0   \n",
      "4     ...      0      0      0      0      0      0      0      0      0   \n",
      "...   ...    ...    ...    ...    ...    ...    ...    ...    ...    ...   \n",
      "4579  ...      0      0      0      0      0      0      0      0      0   \n",
      "4580  ...      0      0      0      0      0      0      0      0      0   \n",
      "4581  ...      0      0      0      0      0      0      0      0      0   \n",
      "4582  ...      0      0      0      0      0      0      0      0      0   \n",
      "4583  ...      0      0      0      0      0      0      0      0      0   \n",
      "\n",
      "      12126  \n",
      "0         0  \n",
      "1         0  \n",
      "2         0  \n",
      "3         0  \n",
      "4         0  \n",
      "...     ...  \n",
      "4579      0  \n",
      "4580      0  \n",
      "4581      0  \n",
      "4582      0  \n",
      "4583      0  \n",
      "\n",
      "[4584 rows x 12127 columns]\n"
     ]
    }
   ],
   "source": [
    "from sklearn.feature_extraction.text import CountVectorizer\n",
    "vectorizer = CountVectorizer(analyzer = message_cleaning, dtype = np.uint8)\n",
    "tweets_countvectorizer = vectorizer.fit_transform(df_all['tweet'])\n",
    "X_all = pd.DataFrame(tweets_countvectorizer.toarray())\n",
    "print(X_all)"
   ]
  },
  {
   "cell_type": "code",
   "execution_count": 119,
   "metadata": {},
   "outputs": [
    {
     "name": "stdout",
     "output_type": "stream",
     "text": [
      "['0', '001', '02', '03', '030916', '05', '0620', '07040', '07190', '07800', '07850', '07930', '07950', '08â\\x80¦', '0najite', '1', '10', '100', '1000', '1000x', '100k', '101', '1014', '10670', '10k', '11', '1111', '1117', '11400', '116', '12', '1200', '12000', '123', '12313', '1260', '12daystoolong', '12mill', '13', '13479', '136', '13cabs', '13daystogo', '13th', '13thdocumentary', '14', '14000', '1406', '142017', '1426', '14509', '146540383315', '146587684966', '146604726015', '148', '14th', '15', '15thcentury', '16', '1625', '16mm', '17', '17062016', '1719', '18', '1800s', '187', '18th', '1900', '1930s', '1960', '1977', '1996', '1999', '19days', '1d', '1hitmusicstation', '1in5', '1love', '1pun', '1st', '1stammendment', '1struggle', '1world', '2', '20', '200', '2000', '2008', '200k', '2013', '2014', '2015', '2016', '201606190619sunday', '201617', '2016busy', '2016election', '2016highlights', '2016in4words', '2016in4wordsâ\\x80¦', '2016in4wordâ\\x80¦', '2016in4worlds', '2016in4â\\x80¦', '2016inâ\\x80¦', '2016iâ\\x80¦', '2016neotour', '2016release', '2016â\\x80¦', '2017', '2017fail', '2017in3words', '2017in3wordsâ\\x80¦', '2017npr', '201â\\x80¦', '20days', '20poundnote', '20th', '21', '2100', '2101', '21st', '21thbihday', '22', '22092016', '2230', '225', '23', '230', '230pmet', '24', '241', '247', '24900', '2499mkf', '24hrs', '24th', '25', '250', '250days', '25mm', '26th', '27', '27th', '28', '280', '298', '299', '29hrs', '29thwithrisp', '29weeks', '2a', '2b', '2c', '2day', '2daywho', '2likes', '2morro', '2morrow', '2nd', '2ndamendment', '2nite', '2nites', '2play', '2pm', '2raise', '2stand', '2yearold', '2years', '2â\\x80¦', '3', '30', '300dayshappy', '301', '30bihday', '30for30', '30isthenew20', '31', '318', '330', '333', '3334', '342', '35', '35th', '360', '36pm', '37', '37days', '38billion', '399', '3d', '3k', '3lines', '3rd', '3s', '4', '40', '4000', '400000', '42', '43', '435', '4499', '4500', '4798', '47pm', '484', '4960', '499', '4daystogokianandjc', '4hr', '4likeâ\\x80¦', '4maps', '4th', '4way', '4week', '5', '50', '5000', '503', '5040', '50s', '51', '564943', '5b', '5hardweeksuntilsummerð\\x9f¤\\x90', '5pm', '5th', '5wordtrumplethinskin', '6', '60', '600', '60minutes', '60s', '622', '625', '63', '630', '6417153640', '642', '648', '649', '67', '6am', '6bring', '6th', '6weeks', '6yearolds', '7', '70', '700', '700000', '712', '72', '720p', '724', '74', '75', '77', '78years', '799', '8', '80', '80days', '80snostalgia', '83', '8990', '8degree', '8lbs', '8pm', '9', '90', '911', '92â\\x80¦', '940pm', '946', '95', '952', '96', '960', '99c', '99c99p', '99c99pâ\\x80¦', '99cents', '99câ\\x80¦', '99p', 'ANDREW', 'According', 'Also', 'Andrew', 'AndrewTate', 'Apparently', 'Austin', 'Become', 'Best', 'BrokenBlade', 'CARE', 'CEOofReines', 'Captain', 'CarlosR', 'Cernovich', 'Collab', 'CoolB110', 'Corbyn', 'Cordan', 'Curious', 'DEVIL’', 'DWG', 'DailyLoud', 'Donald', 'EVER', 'Entertainment', 'ErlineP', 'FUNNIEST', 'Farage', 'Farcry', 'FlakkedLoL', 'G2', 'G2Caps', 'G2Jankos', 'G2esports', 'GEN', 'GagasGreen', 'Got', 'Graeme', 'Hes', 'Hey', 'Hopkins', 'Ibadan', 'Immediately', 'Immediately…', 'Infamous', 'In…', 'Iran', 'I’m', 'I’ve', 'James', 'Jeremy', 'Jordan', 'Kanye', 'Kanye’s', 'Katie', 'KyleKulinski', 'Kyl…', 'LMAO', 'LTFCCol77', 'LeftistVegan', 'LeftwardBound', 'LilNasX', 'Limonadaman', 'Lou', 'Luigi', 'Make', 'MarcusLCrassus', 'Mario', 'Matrix', 'Maybe', 'Morgan', 'MorganAndrew', 'Morpheusresist', 'MuchDank', 'NFT', 'New', 'Nick', 'NickAdamsinUSA', 'Nicol…', 'Nigel', 'Oh', 'Olakanfari', 'OrdinaryGamers', 'P', 'Pawnstar', 'Peterson', 'Piers', 'PiersMorganAndrewTate', 'PiersUncensored', 'Pitbull', 'Putin', 'RT', 'Raymond18701746', 'Rick', 'Rivers', 'RockiiiiRoadd', 'RyanGellatly', 'SAYING', 'SNEAKO', 'Sandra', 'SheerOpulence2', 'Souness', 'SportsFanFred13', 'Still', 'Strives2BGreat', 'Suck', 'Super', 'TATE', 'THING', 'TWERKING', 'TalkTV', 'Targamas', 'Tate', 'Tate’s', 'Tate…', 'Tate…but', 'Tate😭', 'Ta…', 'ThePengoddesss', 'Thunder', 'Tiger', 'Tik', 'Tok', 'TopG', 'Trump', 'WANT', 'Waluigi', 'Wants', 'War', 'Wario', 'Wes…', 'What’s', 'Women', 'YesItsJaime', 'ZoOfficiel', 'Z…', 'aIImenaretrash', 'aaahh', 'aaahhhhh', 'aaberg', 'aampe', 'aande', 'aap', 'aaps', 'abandons', 'abba', 'abc2020', 'abd', 'abe', 'abeed', 'aberdeen', 'aberrant', 'abetting', 'able', 'ableism', 'ableismâ\\x80¦', 'aboion', 'abouâ\\x80¦', 'abpoli', 'abrahamhicks', 'abs', 'absence', 'absolute', 'absolutely', 'abstract', 'absurd', 'abt', 'abuja', 'abundant', 'abuse', 'abusive', 'acab', 'academia', 'acc', 'accent', 'accept', 'acceptable', 'acceptableâ\\x80¦', 'acceptance', 'accepting', 'access', 'accessories', 'accessoriesitalyromatop', 'accident', 'according', 'account', 'accountable', 'acctâ\\x80¦', 'accurately', 'accusations', 'accuse', 'accused', 'accusing', 'ace', 'aced', 'ache', 'aches', 'achieve', 'achievement', 'achilles', 'acknowledge', 'acne', 'act', 'acted', 'acting', 'action', 'actions', 'active', 'actively', 'activism', 'activist', 'activists', 'actor', 'actors', 'actorslife', 'actress', 'acts', 'actual', 'actually', 'actuallyy', 'ad', 'adam', 'adamitv', 'adamsaleh', 'adapt', 'adaptation', 'add', 'added', 'addiction', 'adding', 'addition', 'address', 'addâ\\x80¦', 'adele', 'adhan', 'adjustment', 'adl', 'admin', 'administration', 'adorable', 'adore', 'adores', 'ads', 'adtr', 'adult', 'adultedu', 'adultery', 'adults', 'advance', 'advanced', 'advancement', 'adveising', 'adveisments', 'adventure', 'adventuretime', 'adves', 'advice', 'advisors', 'advocate', 'advocates', 'aebylujo', 'aed', 'afamhist', 'affair', 'affected', 'affectionately', 'affects', 'affiliated', 'affirmation', 'affirmations', 'affirmativeaction', 'affirmativeactionâ\\x80¦', 'afflumazing', 'afghan', 'afghanistan', 'afghans', 'afl', 'afp', 'afraid', 'africa', 'african', 'africanamerican', 'africanamericans', 'africans', 'afrofuturism', 'afternoon', 'afterpas', 'afterschool', 'aftr', 'ag', 'againstâ\\x80¦', 'againð\\x9f\\x99\\x84ð\\x9f\\x99\\x83ð\\x9f\\x96\\x95ð\\x9f\\x8f¼', 'age', 'ageisjustanumber', 'ageism', 'ageless', 'agenda', 'agents', 'ageoftrump', 'ages', 'ageð\\x9f\\x98\\x87', 'agitator', 'ago', 'agree', 'agreed', 'ah', 'ahahahahahah', 'ahead', 'aheadfullofdreamstour', 'ahhhh', 'ahole', 'ai', 'aicle', 'aicles', 'aid', 'aidingenemies', 'aids', 'aiel', 'aielmaharashtra', 'aiiight', 'aiime', 'aimed', 'aims', 'aint', 'air', 'airbroker', 'airingofthegrievances', 'airlines', 'airplane', 'airpo', 'aist', 'aists', 'aistâ\\x80¦', 'ajournal', 'aka', 'akaiproâ\\x80¦', 'akira', 'ako', 'akxxxinft', 'al', 'alabama', 'alamindah', 'alamode', 'alapoet', 'alarm', 'alas', 'albanpilgrimage', 'albino', 'album', 'alcatraz', 'alcohol', 'alcoholic', 'ale', 'alejandragil', 'aleksandr', 'aleppo', 'alexjones', 'alexmagic', 'alexpascal', 'alfie', 'algona', 'ali', 'aliens', 'alike', 'alina', 'alissa', 'alive', 'allahsoil', 'allbc', 'allblack', 'allday', 'alleged', 'alleges', 'allen', 'allergy', 'allgrownup', 'allies', 'alliesforblacklives', 'alligator', 'allin', 'allin216', 'alllivesmatter', 'allof', 'allow', 'allowed', 'allowing', 'allows', 'allshowandnogo', 'allsmiles', 'alltheway', 'ally', 'almight', 'almighty', 'almost', 'almostthere', 'almostâ\\x80¦', 'aloeveragel', 'aloha', 'alohabeachbus', 'alohafriday', 'alone', 'along', 'alongside', 'alot', 'already', 'alreemgroup', 'also', 'alt', 'alternate', 'alternative', 'alternatively', 'alternet', 'although', 'altmarket', 'altogether', 'altright', 'altrightcards', 'altrightâ\\x80¦', 'altwaystoheal', 'alway', 'always', 'alwayscheersyouup', 'alwys', 'alyalshahawy', 'alywys', 'amanda', 'amandanunes', 'amarinder', 'amateur', 'amazed', 'amazing', 'amazon', 'ambassador', 'amber', 'ambiance', 'ambition', 'ambivalent', 'amen', 'amendment', 'amendments', 'america', 'americad', 'americadoesntwantyou', 'americafirst', 'american', 'americans', 'americas', 'amerikkka', 'ameture', 'amid', 'amigos', 'amjoy', 'amma', 'amo', 'among', 'amor', 'amoral', 'amounts', 'amour', 'amoureuxâ\\x80¦', 'amp', 'ampallaccess', 'ampamp', 'ampfunny', 'ampmy', 'ampor', 'ampthankful', 'ampthe', 'ampthey', 'amptired', 'ampâ\\x80¦', 'amrica', 'amsterdam', 'amused', 'amwriting', 'amy', 'ana', 'anacoes', 'anahatachakra', 'anal', 'analysis', 'analytics', 'anarchism', 'anas', 'anc', 'ancestral', 'anchor', 'anderson', 'andor', 'andrew', 'andrewanglin', 'andromeda', 'andysessions', 'andâ\\x80¦', 'angelic', 'angelou', 'angels', 'anger', 'angering', 'anges', 'angry', 'angrygaymafia', 'angryignorantand', 'angryð\\x9f\\x98\\x90got7', 'angst', 'animal', 'animaladvocate', 'animalfriend', 'animalrights', 'animals', 'animation', 'anime', 'animea', 'animeconvention', 'animeedit', 'anna', 'annakahnuielsen', 'annaswelshzoo', 'annihilated', 'anniversaries', 'anniversary', 'announce', 'announced', 'announcement', 'announcementits', 'announcements', 'announcers', 'announces', 'annoy', 'annoyed', 'annoying', 'annual', 'annukah', 'anon', 'anonymous', 'anorexic', 'another', 'anothr', 'anslinger', 'answer', 'answered', 'answeredprayer', 'answering', 'answers', 'antalya', 'anteater', 'anti', 'antiamerican', 'antiblack', 'antiblackness', 'antics', 'antiegalitarianism', 'antijewish', 'antimorality', 'antinational', 'antiracism', 'antiracist', 'antisemetic', 'antisemite', 'antisemites', 'antisemitic', 'antisemitism', 'antisemtism', 'antismoking', 'antiwhite', 'antiwhites', 'anton', 'antonio', 'antonyelchin', 'anxiety', 'anxious', 'any1', 'anya', 'anybody', 'anymore', 'anyone', 'anything', 'anytime', 'anyway', 'anywayâ\\x80¦', 'anywhere', 'anz', 'apa', 'apaheid', 'apaments', 'apart', 'ape', 'apes', 'apologies', 'apologists', 'apologize', 'apostolis', 'app', 'appalled', 'appalling', 'apparel', 'apparent', 'apparently', 'appeal', 'appearance', 'appeared', 'appearing', 'appease', 'appendix', 'applauding', 'apple', 'apples', 'appletstag', 'applicable', 'application', 'applications', 'applies', 'appreciate', 'appreciated', 'appreciates', 'appreciation', 'appreciations', 'approaches', 'appropriate', 'appropriating', 'approval', 'approved', 'approx', 'apps', 'april', 'aptly', 'aquifer', 'ar15', 'arabian', 'arabic', 'arabs', 'arabsâ\\x80¦', 'arc', 'architecture', 'archiveday', 'archives', 'area', 'areaam', 'areakudos', 'arebut', 'areclueless', 'arency', 'arent', 'arenâ\\x80\\x99t', 'aren’t', 'arep', 'areyouready', 'areâ\\x80¦', 'are…', 'argentina2015', 'argentine', 'argue', 'argued', 'argues', 'argument', 'arianagrandedrawing', 'arianegrandeâ\\x80¦', 'aricent', 'arigatou', 'arise', 'arizona', 'arjun', 'ark', 'arkansas', 'arm', 'armaanamaalontkss', 'armcandy', 'armchair', 'armenian', 'armpit', 'arms', 'armthehomeless', 'arnt', 'around', 'arrangements', 'arrest', 'arrested', 'arresting', 'arrests', 'arrests60mill', 'arrive', 'arrived', 'arrives', 'arriving', 'arrogant', 'aryanbrotherhood', 'aryans', 'asap', 'ascot', 'asean', 'ash', 'ashamed', 'ashiq', 'ashley', 'asia', 'asian', 'asianladyboy', 'asianmen', 'asians', 'ask', 'asked', 'asking', 'askingoh', 'asks', 'ass', 'assailed', 'assalamoalaikum', 'assassinating', 'assault', 'assaults', 'asses', 'assets', 'asshat', 'asshole', 'assholes', 'assigned', 'assistants', 'asslicker', 'associated', 'associates', 'assoment', 'asssssworst', 'assume', 'assumed', 'assumptions', 'assured', 'astrologer', 'astrology', 'aswell', 'asylumseekers', 'atheistâ\\x80¦', 'athens', 'athletes', 'ating', 'atk', 'atlanta', 'atlantas', 'atmosphere', 'atmospherics', 'atpchallengeour', 'atsiâ\\x80¦', 'attack', 'attacked', 'attacks', 'attempt', 'attempted', 'attempting', 'attempts', 'attend', 'attendants', 'attending', 'attention', 'attest', 'attire', 'attitude', 'attorney', 'attorneygeneral', 'attorneys', 'attract', 'attracted', 'attractive', 'att…', 'atwater', 'audiblechannels', 'audience', 'audio', 'audism', 'audusd', 'aufstehn', 'augmented', 'august', 'augusta', 'aungsansuukyi', 'aunt', 'aunty', 'aus', 'auspol', 'aussie', 'austin', 'australia', 'australian', 'australians', 'authoritarian', 'authorities', 'authority', 'authors', 'autocorrects', 'autograph', 'av', 'available', 'avenue', 'average', 'averse', 'aviciiâ\\x80¦', 'avitar', 'avocado', 'avocados', 'avoice', 'avoid', 'avon', 'aw', 'await', 'awaited', 'awaiting', 'awake', 'awarded', 'awards', 'aware', 'away', 'awayhe', 'awesome', 'awful', 'awhile', 'awlrite', 'awork', 'aworks', 'awsome', 'aww', 'awww', 'axed', 'ayenge', 'ayyyy', 'az', 'azealia', 'azmilkproducers', 'aâ\\x80¦', 'aâ\\x9d\\x8câ\\x9d\\x8c', 'b', 'b4', 'baba', 'babai', 'babað\\x9f\\x92\\x93ð\\x9f\\x91', 'babe', 'babies', 'babiescat', 'baboons', 'baby', 'babygirl', 'babyits', 'babyremih', 'bacca', 'bachelorette', 'bachelorhood', 'back', 'backfired', 'background', 'backhanders', 'backing', 'backlash', 'backseat', 'backseaâ\\x80¦', 'backside', 'backwards', 'backwho', 'bacon', 'bad', 'badal', 'badday', 'badges', 'badly', 'badmonday', 'bae', 'bag', 'bagdad', 'bagel', 'bags', 'bagâ\\x80¦', 'bagð\\x9f\\x8e\\x89', 'bailed', 'bailey', 'baillie', 'bailreform', 'baiting', 'bajrang', 'bake', 'baking', 'bakker', 'balance', 'balanceâ\\x80¦', 'balayya', 'balconyview', 'bald', 'bale', 'ball', 'balls', 'bama', 'bamas', 'bambi', 'bampq', 'ban', 'band', 'bandying', 'bangkok', 'bangladeshis', 'bank', 'bankett', 'bankrupt', 'bankruptcy', 'banks', 'banksjimmy', 'banned', 'banner', 'banning', 'bans', 'baptized', 'bar', 'barack', 'barackobama', 'barbaric', 'barbeque', 'barbiets93', 'baritone', 'barn', 'barnsley', 'baroque', 'barrackobama', 'barrelno', 'barrier', 'barry', 'bars', 'base', 'based', 'baseless', 'bash', 'bashing', 'basically', 'basilicabotanica', 'basing', 'basis', 'basis14weeks', 'basket', 'basketball', 'bass', 'bassist', 'bastard', 'bastards', 'bates', 'bath', 'bathed', 'bathtime', 'batman', 'bats', 'batshit', 'battle', 'batty', 'baycat', 'bazaarmagâ\\x80¦', 'bb18', 'bbc', 'bbcnews', 'bbh', 'bbq', 'bbqâ\\x80¦', 'bbuk', 'bc', 'bcot', 'bday', 'bds', 'bdsm', 'beach', 'beachday', 'beachlife', 'beachpark', 'beachy', 'beachâ\\x80¦', 'beams', 'bean', 'bear', 'beard', 'bearlovestravel', 'bearâ\\x80\\x99s', 'beast', 'beat', 'beaten', 'beating', 'beatles', 'beats', 'beatz', 'beauregard', 'beautiful', 'beautifulday', 'beautifulworld', 'beauty', 'beberexaftnickiminaj', 'became', 'becauseimhappy', 'becauseofhim', 'become', 'becomes', 'becoming', 'becomingboring', 'becominâ\\x80¦', 'becrazyâ\\x80¦', 'bed', 'bedifferent', 'bedroom', 'beds', 'bee', 'beefed', 'beendoinggreat', 'beensqueezing', 'beeping', 'beer', 'beers', 'beforesex', 'befree', 'befriending', 'begin', 'beginner', 'beginning', 'begins', 'beginsð\\x9f\\x98\\x8a', 'begs', 'begun', 'begunfamilyfreeeventfestival', 'behappy', 'behaving', 'behavior', 'behaviour', 'behello', 'behind', 'bei', 'beingassuming', 'belgian', 'belief', 'believable', 'believe', 'believes', 'believetou', 'belive', 'belize', 'belline', 'bellyburningbootcamp', 'bellyup', 'belongs', 'beloved', 'beloy', 'ben', 'benefits', 'benghazi', 'bengreenfield', 'benidorm', 'bentley', 'berachah', 'berating', 'berberian', 'berlin', 'berlinattack', 'bernanke', 'bernie', 'berniebros', 'bernieorbust', 'bersama', 'beside', 'besides', 'best', 'bestfeature', 'bestfriend', 'bestfriendbestfriendsgoodfriendsbestiesmemories', 'bestfriends', 'bestfriendsday', 'bestfriendswedding', 'bestie', 'bestof2016', 'bestoftheday', 'bestoftheweek', 'bestquote', 'bestseller', 'bet', 'beta', 'bethechange', 'bethesda', 'bethlehem', 'betrayed', 'betrays', 'better', 'betterâ\\x80¦', 'betwn', 'betâ\\x80¦', 'beutiful', 'beverlywhalingreinstated', 'beware', 'bewitched', 'beyond', 'beyonddepressed', 'beyondmad', 'beâ\\x80¦', 'bf', 'bfest', 'bff', 'bffl', 'bffâ¬\\x87ï¸\\x8f', 'bgp', 'bhakt', 'bham', 'bhblxxx', 'bhl', 'biased', 'biases', 'bible', 'biblical', 'bicycle', 'biden', 'biebersacunt', 'bieeee', 'bierce', 'big', 'bigapple', 'bigbang', 'bigger', 'biggerproblems', 'biggest', 'biggestever', 'biggotry', 'bigkid', 'bigly', 'bigmouthamper', 'bigot', 'bigoted', 'bigotry', 'bigotryâ\\x80¦', 'bigots', 'bigotâ\\x80¦', 'bih', 'bihcontrol', 'bihday', 'bihdaybalayya', 'bihdayboy', 'bihdaycelebrations', 'bihdaydrinks', 'bihdaygirl', 'bihdays', 'bihdayuser', 'bihdayweeksucks', 'bihdayyourmajesty', 'bihdayâ\\x80¦', 'bihdayé\\x87\\x8eæ\\x9b¿æ\\x84\\x81å¹³', 'bihdayð\\x9f\\x8e\\x89', 'biher', 'biherism', 'bike', 'bikes', 'bikini', 'bikinibody', 'bikinis', 'bikram', 'bilal', 'bill', 'billing', 'billion', 'billionaire', 'bills', 'billy', 'billys', 'bin', 'binds', 'bing', 'binge', 'binondoâ\\x80¦', 'biological', 'biopolitics', 'bipolar', 'biracial', 'birchington', 'birday', 'birds', 'birdsofafeather', 'birdsstellabadprincess', 'birdsstellaforkinâ\\x80¦', 'birmingham', 'bistro', 'bit', 'bitch', 'bitches', 'bitchesbelike', 'bitchezzzz', 'bitching', 'bitchâ\\x80¦', 'bite', 'bites', 'bithday27', 'biting', 'bitter', 'bjmckenzie', 'bjmuzic', 'bjork', 'black', 'blackandwhite', 'blackboys', 'blackbrown', 'blackbutler', 'blackface', 'blackgirlspole', 'blackkittenâ\\x80¦', 'blacklightslide', 'blacklistinâ\\x80¦', 'blacklivesmatter', 'blacklivesmatters', 'blacklivesâ\\x80¦', 'blackman', 'blackmen', 'blackonblack', 'blackpeople', 'blackperson', 'blackpool', 'blacks', 'blacksabbath', 'blacksagainsttrump', 'blacksupremacist', 'blacktwitter', 'blackvote', 'blackvotehispanicvote', 'blackwidow', 'blackwomen', 'blagoevgrad', 'blains', 'blame', 'blamed', 'blaming', 'blank', 'blast', 'blasting', 'blatant', 'blatantly', 'blated', 'blaze', 'blazing', 'blaâ\\x80¦', 'bleating', 'bleedpurple', 'bless', 'blessampkeep', 'blessed', 'blessedsundays', 'blessedt', 'blessedthankful', 'blessedâ\\x80¦', 'blessing', 'blessingsamplonglyf', 'blessothers', 'blicqerâ\\x84¢', 'blind', 'bliss', 'blk', 'blm', 'bloated', 'block', 'blocked', 'blocks', 'blog', 'blog42', 'blogger', 'bloggers', 'bloggersblast', 'blogging', 'blogpost', 'bloke', 'blonde', 'blondegirl', 'blood', 'bloomed', 'blooms', 'bloomsflowers', 'blowjob', 'blu', 'blue', 'blueberrypancakes', 'bluedressâ\\x80¦', 'blueeyesbrowneyes', 'bluegrass', 'bluelivesmatter', 'bluesky', 'blueâ\\x80¦', 'blunt', 'bluntly', 'blur', 'bmamper', 'bml', 'bml16', 'bn', 'bng', 'board', 'boarding', 'boards', 'boasty', 'boat', 'bodies', 'body', 'bodyandpole', 'bodyimage', 'boe', 'bogard', 'bogummylove', 'boil', 'boiler', 'bold', 'boldandbeautiful', 'bollywood', 'bollywoodâ\\x80¦', 'bolt', 'bolts', 'bomb', 'bondage', 'bong', 'bonhoeffer', 'bonus', 'bonuses', 'bonustolongrest', 'boo', 'boob', 'boobies', 'boobs', 'boohiss', 'book', 'booked', 'booking', 'bookporn', 'bookpublishing', 'bookreview', 'books', 'booktime', 'bookworm', 'boom', 'boost', 'boosâ\\x80¦', 'boot', 'boots', 'bootsâ\\x80\\x9d', 'booze', 'booâ\\x80¦', 'bored', 'boredomit', 'boricua', 'boricuaâ\\x80¦', 'boring', 'born', 'born2win', 'boss', 'bots', 'bottles', 'bottom', 'bought', 'bounce', 'bounced', 'bouncing', 'bouncingbaby', 'bouncy', 'bound', 'boundaries', 'bourbon', 'bout', 'bow', 'box', 'boy', 'boycott', 'boycottaustralia', 'boycottdelta', 'boycotting', 'boycottjcpenney', 'boycotts', 'boycotttigerwoods', 'boycottâ\\x80¦', 'boyden', 'boyfriend', 'boys', 'boyâ\\x80¦', 'bozzoli', 'bp', 'bracelet', 'bradshaw', 'brady', 'brag', 'bragged', 'braids', 'brain', 'brainsjust', 'brainwashed', 'branch', 'branches', 'brand', 'brandon', 'brands', 'brandâ\\x80¦', 'brave', 'brazil', 'brazilians', 'brb', 'bread', 'breadroll', 'break', 'breakfast', 'breaking', 'breaks', 'breakups', 'breast', 'breath', 'breathe', 'breathelove', 'breathes', 'breaths', 'breathâ\\x98º', 'breed', 'breeds', 'bregret', 'breitba', 'brentwood', 'brewed', 'brewers', 'brexit', 'bribieisland', 'brickingit', 'bridal', 'bride', 'bridesmaid', 'bridge', 'bridgeamp', 'bridges', 'bridget', 'bridpo', 'brief', 'brigade', 'bright', 'brighter', 'brighton', 'brilliant', 'brilliantly', 'brilliantð\\x9f\\x91\\x8fð\\x9f\\x8f»ð\\x9f\\x91\\x8fð\\x9f\\x8f»', 'bring', 'bringbackgladiators', 'bringbackhappiness', 'bringbackpage3', 'bringing', 'bringiton', 'brings', 'bringsâ\\x80¦', 'brisbane', 'briskandvagabondeyeopener2007enviromentalproductng076web2007ukhxint', 'bristol', 'britain', 'britainâ\\x80\\x99s', 'brithday', 'british', 'britishroyals', 'britmuâ\\x80¦', 'bro', 'broad', 'broadcast', 'broader', 'broads', 'broadway', 'broadwayâ\\x80¦', 'broall', 'brochures', 'brockely', 'broda', 'broke', 'brokedonald', 'broken', 'broken5116', 'brokenhea', 'brokenâ\\x80¦', 'brokers', 'brooklyn', 'brother', 'brotherhood', 'brothers', 'brought', 'brown', 'brownshi', 'brownwood', 'brows', 'browser', 'brsitol', 'bruh', 'brunch', 'brunette', 'brutality', 'bs', 'bst', 'btch', 'btw', 'bubble', 'bubbly', 'bucket', 'bucks', 'bud', 'buddhas', 'buddhism', 'buddhist', 'buddy', 'budget', 'buffalo', 'buffaloâ\\x80¦', 'buggeroffboris', 'buggâ\\x80¦', 'build', 'builders', 'building', 'buildings', 'buildthewall', 'buisness', 'buka', 'buliding', 'bull', 'bullies', 'bulls', 'bullshit', 'bully', 'bullying', 'bunch', 'buranus', 'burbank', 'bureau', 'burgos', 'buried', 'burka', 'burlesque', 'burma', 'burmese', 'burn', 'burnet', 'burning', 'burninhell', 'burnsurvivor', 'bury', 'bus', 'bush', 'bushfires', 'busily', 'business', 'businesses', 'businessâ\\x80¦', 'busiâ\\x80¦', 'bustyescos', 'bustymilf', 'busy', 'butreally', 'butstillontime', 'butt', 'butter', 'butterflies', 'buttholemouth', 'butthucreepers', 'buttoning', 'buttons', 'buttrue', 'butâ\\x80¦', 'buxton', 'buy', 'buzz', 'buzzfeeds', 'buzzing', 'bwahahahahaha', 'bye', 'byâ\\x80¦', 'bâ\\x80¦', 'c', 'c2c', 'c9', 'ca', 'cab', 'cabaret', 'cabinet', 'cable', 'cadiz', 'caer', 'cafenoirproject', 'caffeine', 'caffeineaddict', 'caitlin', 'caitlyn', 'cake', 'cakes', 'cakesbytheocean', 'calataridaâ\\x80¦', 'calendar', 'calgary', 'california', 'call', 'called', 'callin', 'calling', 'callme', 'calls', 'callsign', 'callâ\\x80¦', 'calm', 'calming', 'calmly', 'cam', 'camber', 'cambersands', 'cambma', 'camden', 'came', 'cameo', 'cameron', 'cameronstaff', 'camp', 'campadams', 'campaign', 'campfire', 'camping', 'camps', 'campsite', 'camron', 'camstaff', 'canada', 'canadas', 'canadian', 'canadianravers', 'canadians', 'canadianvalues', 'canamp039t', 'cancel', 'cancer', 'candid', 'candidate', 'candidates', 'candide', 'candy', 'cannabis', 'cannon', 'cannot', 'canny', 'canpoli', 'cant', 'cantankerous', 'cantotallyrelate', 'cantwait', 'cantwaitâ\\x80¦', 'canucks', 'canâ\\x80\\x99t', 'caoon', 'caoonish', 'caoons', 'capabilities', 'capable', 'capas', 'cape', 'capen', 'capetown', 'capitalism', 'capitalist', 'capitol', 'capone', 'captain', 'captainsisko', 'caption', 'captive', 'car', 'card', 'cardi', 'cardinals', 'cardio', 'cardiâ\\x80¦', 'cards', 'care', 'cared', 'career', 'careerconvos', 'careful', 'carefully', 'carer', 'cares', 'cari', 'caribbean', 'carl', 'carlos', 'carlpaladino', 'carlpaladinoelection', 'carlpaladinos', 'carlpalidino', 'carlpalladino', 'carlsbad', 'carmelvalley', 'carolina', 'caroline', 'carolsbycandlelight', 'carolyn', 'carowinds', 'carriefisher', 'carries', 'carrieunderwood', 'carrying', 'carson', 'case', 'casewe', 'cash', 'cashgoddess', 'cashing', 'cast', 'cat', 'catalunya', 'catalyst', 'catbalogan', 'catcalled', 'catch', 'catchup', 'catdjt', 'cathedral', 'catholicchurch', 'cats', 'catsbelike', 'caturday', 'caucasians', 'caught', 'cause', 'caused', 'causes', 'causing', 'cave', 'cavs', 'cawaii', 'cbb', 'cbc', 'cbc2017', 'cbubesyo', 'cc', 'ccmf2016', 'ccot', 'cctv', 'ccâ\\x80¦', 'cdnpoli', 'cdnpoliâ\\x80¦', 'cds', 'ceain', 'cease', 'ceased', 'cedarpoint', 'celebrate', 'celebrates', 'celebrating', 'celebration', 'celebrations', 'celebrities', 'celebrity', 'celebritydeath', 'celebspot', 'celery', 'celestial', 'celiac', 'celinedion', 'cell', 'celtic', 'cena', 'censored', 'censorship', 'cent', 'center', 'centre', 'centred', 'centrenotredame', 'century', 'ceo', 'cept', 'ceremony', 'cfisdrrr', 'chaer', 'chain', 'chair', 'challenge', 'challenged', 'challenges', 'challengingâ\\x80¦', 'champ', 'champagne', 'championed', 'champions', 'championship', 'chanapa', 'chance', 'chances', 'chandeliers', 'chandigarh', 'change', 'changed', 'changes', 'changing', 'channel', 'channelfriend', 'channels', 'chant', 'chaos', 'chaplin', 'chapones', 'chappell', 'chapter', 'character', 'charge', 'charges', 'charging', 'charismatic', 'charity', 'charles', 'chase', 'chat', 'chateau', 'chatiado', 'chatted', 'chauvinist', 'cheap', 'cheapmeal', 'cheapshot', 'cheatday', 'cheaters', 'cheating', 'check', 'checkcashing', 'checked', 'checks', 'cheeky', 'cheer', 'cheering', 'cheerleader', 'cheers', 'cheese', 'cheesy', 'cheetahs', 'chelsea', 'chelski', 'chemical', 'chemicals', 'chemistry', 'chepstow', 'cherish', 'cherry', 'chess', 'chester', 'chi', 'chicago', 'chicagofire', 'chick', 'chickflick', 'chickies', 'chicks', 'chief', 'chihuahuas', 'child', 'childabuse', 'childfreeâ\\x80¦', 'childhoodunplugged', 'childish', 'childlabor', 'childrape', 'children', 'childrenofcolor', 'childrenphoto', 'childrens', 'chill', 'chilled', 'chillinn', 'chin', 'china', 'chinatown', 'chinese', 'chinesefood', 'chinesestyle', 'chinguas', 'chippewa', 'chivalry', 'chocolate', 'choice', 'choices', 'choir', 'choked', 'chokes', 'choking', 'chomsky', 'choose', 'chops', 'chose', 'chosen', 'chris', 'chrisevans', 'chrismukkah', 'christ', 'christian', 'christianity', 'christians', 'christiaâ\\x80¦', 'christina', 'christinagrimmie', 'christinarip', 'christmas', 'christmasadve', 'christmaseve', 'christmassy', 'chriâ\\x80¦', 'chroma', 'chronic', 'chubbygirl', 'chump', 'chumps', 'church', 'churchill', 'churchs', 'ciani', 'cider', 'cielphantomhive', 'cigarettes', 'cipd', 'circle', 'cite', 'cities', 'citizenaction', 'citizenry', 'citizens', 'citiâ\\x80¦', 'city', 'cityjournal', 'citys', 'citytissues', 'civil', 'civilians', 'cjreform', 'claim', 'claimedâ\\x80¦', 'claiming', 'claims', 'clapping', 'clarice', 'clarity', 'class', 'classes', 'classez', 'classic', 'classical', 'classifieds', 'classifies', 'classifying', 'classism', 'classmate', 'classroom', 'classy', 'classâ\\x98ºï¸\\x8f', 'claycountydevelopmentcorp', 'cld', 'clean', 'cleaned', 'cleaning', 'cleanings', 'cleansing', 'clear', 'clearly', 'clears', 'clementine', 'cleveland', 'clevelandcavaliers', 'clever', 'cliche', 'cliches', 'click', 'clickbait', 'clients', 'climatechange', 'climatecrimes', 'climateâ\\x80¦', 'climb', 'climbed', 'climbing', 'clings', 'clinical', 'clinton', 'clintons', 'clintonâ\\x80\\x99s', 'clio', 'clip', 'clock', 'clogs', 'clonakilty', 'close', 'closed', 'closeencounters', 'closely', 'closemaybe', 'closest', 'closeted', 'clothes', 'clothing', 'cloths', 'cloud', 'cloudchaser', 'cloudgate', 'clouds', 'cloudy', 'clown', 'club', 'clueless', 'cmon', 'cmtredcarpet', 'cnn', 'cnnelection', 'cnnâ\\x80¦', 'cnv', 'co', 'coach', 'coal', 'coalitionist', 'coast', 'coc', 'cochair', 'cochairman', 'cock', 'cocktails', 'cockwomble', 'code', 'codeword', 'codified', 'coffee', 'coffin', 'cognizant', 'coherently', 'cold', 'coldplay', 'colds', 'colinpowell', 'collab', 'colleague', 'colleagues', 'collection', 'collectively', 'college', 'collegebound', 'collegeofspirituality', 'colloboration', 'colluder', 'cologne', 'colombia', 'colonialism', 'colonisation', 'color', 'colorblind', 'colored', 'colorful', 'colorized', 'colors', 'colors2016', 'colorâ\\x80¦', 'colour', 'colourful', 'colourism', 'colourmehappy', 'colours', 'colouâ\\x80¦', 'colts', 'columbiamd', 'columbus', 'colâ\\x80¦', 'com', 'comatose', 'combat', 'combined', 'combover', 'come', 'comedians', 'comedy', 'comejoin', 'comes', 'comfo', 'comfy', 'comiccon', 'comics', 'coming', 'comingsoon', 'comitment', 'comment', 'commenting', 'comments', 'commentsyou', 'commercial', 'commercials', 'commerzbank', 'commie', 'commit', 'commitment', 'committed', 'common', 'commonsense', 'commonwealth', 'commonâ\\x80¦', 'communication', 'communism', 'communismislam', 'communismâ\\x80¦', 'communist', 'communists', 'communities', 'community', 'communitystandards', 'communitythey', 'commutations', 'commute', 'companies', 'company', 'compared', 'comparisons', 'compassion', 'compassionate', 'compassâ\\x80¦', 'compensatory', 'competency', 'competing', 'competition', 'competitiveness', 'competitor', 'competâ\\x80¦', 'complain', 'complained', 'complaint', 'compleanno', 'complementarian', 'complementarianism', 'complete', 'completely', 'complicity', 'comprehend', 'computers', 'computing', 'comrade', 'comusic', 'comâ\\x80¦', 'conaist', 'conce', 'conceded', 'concelebrate', 'concept', 'concern', 'concerned', 'conces', 'concord', 'concur', 'concurrency', 'condemn', 'condemns', 'condescending', 'condescension', 'condition', 'condoleezzarice', 'condolences', 'condone', 'condoning', 'coneofshame', 'confederateflag', 'conference', 'conferences', 'confession', 'confessions', 'confetti', 'confidence', 'confident', 'confined', 'confirm', 'confirmation', 'confirmed', 'conflate', 'conflates', 'conflict', 'conflictâ\\x80¦', 'confused', 'congestive', 'congrats', 'congratulations', 'congress', 'congressman', 'conjob', 'conjuring2', 'conman', 'conn', 'connect', 'connecting', 'connection', 'conormcgregor', 'cons', 'consent', 'consequences', 'conservative', 'conservatives', 'consideration', 'considered', 'considering', 'conspiracy', 'constant', 'constantly', 'constitution', 'constitutional', 'constrained', 'construction', 'consultant', 'consumer', 'consumers', 'contact', 'contagious', 'contempt', 'contender', 'content', 'contestants', 'continue', 'continues', 'continuous', 'contradictions', 'control', 'controlled', 'controversial', 'controversy', 'conveniently', 'conversations', 'converse', 'conviction', 'convince', 'convinced', 'convo', 'conâ\\x80¦', 'cooke', 'cookies', 'cookin', 'cooking', 'cool', 'coolestlifehack', 'coolâ\\x80¦', 'cooper', 'coopting', 'coord', 'coordinateð\\x9f\\x92\\x97', 'cop', 'copaamerica', 'copkiller', 'copped', 'cops', 'copy', 'cor', 'cora', 'corbinrayp', 'corbyn', 'corgi', 'cornered', 'coronial', 'corporate', 'corporatebs', 'corps', 'corpuz', 'correct', 'correlation', 'corrupt', 'corrupted', 'corruptgop', 'corruption', 'corrupttrump', 'cos', 'cosmeticsbrand', 'cosplay', 'cost', 'costa', 'costarica', 'costars', 'costest', 'costumechinesefestivalâ\\x80¦', 'cosy', 'cotd', 'cottage', 'cottoned', 'cou', 'couesy', 'could', 'coulda', 'couldnt', 'could’ve', 'council', 'count', 'countdown', 'countered', 'counting', 'countries', 'country', 'countryis', 'countrymusic', 'countys', 'couple', 'couples', 'coupleâ\\x80¦', 'coupons', 'courage', 'course', 'cousins', 'couture', 'cover', 'coverage', 'covering', 'coverinâ\\x80¦', 'coverlove', 'covers', 'coverups', 'cow', 'coward', 'cowardcopsâ\\x80¦', 'cowardâ\\x80¦', 'cowboy', 'cowboys', 'coworker', 'cows', 'cox', 'coybig', 'coz', 'cozy', 'coâ\\x80¦', 'cpc', 'cpcldr', 'cpd', 'cr7', 'crabs', 'crack', 'crackalogic', 'cracker', 'crackers', 'crackhead', 'craftbeee', 'crafts', 'craig', 'cramped', 'crankykitty', 'crap', 'crappy', 'crapsac', 'crash', 'crashed', 'crashes', 'craving', 'crazed', 'craziest', 'craziestpeoples', 'crazieð\\x9f\\x98\\x81ð\\x9f\\x98\\x81ð\\x9f\\x98\\x81', 'craziness', 'crazy', 'crazybengiefbps', 'crcker', 'cream', 'creamamp', 'create', 'created', 'creates', 'creating', 'creation', 'creative', 'creature', 'cred', 'credibilityâ\\x80¦', 'credit', 'creepy', 'creepyð\\x9f\\x98±ð\\x9f\\x91»', 'crescâ\\x80¦', 'cress', 'crete', 'cretin', 'crew', 'crewed', 'crews', 'cricker', 'cricket', 'cried', 'crime', 'crimes', 'criminal', 'criminalhope', 'criminals', 'criminalsâ\\x80¦', 'cringe', 'crisis', 'critical', 'criticism', 'criticize', 'criticized', 'critics', 'criticsâ\\x80¦â\\x80¦', 'critiquing', 'croatia', 'crony', 'crook', 'crooked', 'crookedhillary', 'crookedtrump', 'cross', 'crossbody', 'crosscheckingvoter', 'crosses', 'crossing', 'crow', 'crowd', 'crowded', 'crude', 'cruel', 'cruise', 'crush', 'crushing', 'cruz', 'cry', 'crybully', 'crying', 'crystal', 'cspan', 'cssday', 'ctf', 'cto', 'cuain', 'cuandojuegachilemepongo', 'cuba', 'cube', 'cuck', 'cuckold', 'cucumbers', 'cud', 'cuddle', 'cuddles', 'cuddlesâ\\x80¦', 'cuddling', 'culinaryfunbecause', 'culpable', 'cult', 'cultism', 'culturalenrichment', 'culture', 'cultureofdevelopment', 'cultures', 'culturesways', 'cum', 'cumple', 'cunt', 'cuomo', 'cup', 'cupcakes', 'cupgood', 'curb', 'curbyourenthusiasm', 'curious', 'current', 'currently', 'curriculum', 'curse', 'curses', 'curvymodel', 'cuser', 'cushions', 'cussed', 'custom', 'customcasetab', 'customer', 'customers', 'customerservice', 'custompaydecor', 'cut', 'cute', 'cutebaby', 'cuteness', 'cuteoutfit', 'cutest', 'cuteâ\\x80¦', 'cuties', 'cutscenses', 'cutsie', 'cutysð\\x9f\\x98\\x8dð\\x9f\\x98\\x8dð\\x9f\\x98\\x8dð\\x9f\\x98\\x8dð\\x9f\\x98\\x8dð\\x9f\\x98\\x8dð\\x9f\\x98\\x9að\\x9f\\x98\\x9að\\x9f\\x98\\x9að\\x9f\\x98\\x9að\\x9f\\x98\\x9að\\x9f\\x98\\x9að\\x9f\\x98\\x9að\\x9f\\x98\\x9að\\x9f\\x92\\x9fð\\x9f\\x92\\x9fð\\x9f\\x92\\x9fð\\x9f\\x92\\x9fð\\x9f\\x92\\x9fð\\x9f\\x91\\x8dð\\x9f\\x91\\x8dð\\x9f\\x91\\x8dð\\x9f\\x91\\x8d', 'cuz', 'cwt', 'cycle', 'cycling', 'cymru', 'cymruambyth', 'czech', 'câ\\x80¦', 'd1bound', 'da', 'daaay', 'daam', 'dachshund', 'dad', 'daddy', 'daddy1st', 'daddygavemeamillion', 'daddyâ\\x80¦', 'dads', 'dadâ\\x80\\x99s', 'daffodils', 'dahlan', 'dahvader', 'daily', 'dairy', 'daisy', 'dal', 'dalat', 'dallas', 'dalston', 'dam', 'damage', 'damaged', 'damiakamelia', 'damn', 'damned', 'damning', 'damon', 'damonsajnani', 'dance', 'dancers', 'dances', 'dancing', 'dancingqueenonly17', 'dandy', 'danger', 'dangerous', 'dangerwith', 'danian', 'dankmemes', 'dannyâ\\x80¦', 'danske', 'dansoman', 'dard', 'dare', 'dares', 'daria', 'dark', 'darkerhair', 'darkest', 'darkness', 'darling', 'darn', 'dash', 'data', 'database', 'date', 'dates', 'datesletstalkabout', 'dating', 'datingapps', 'daughter', 'david', 'dawned', 'day', 'day1â\\x80¦', 'day4', 'day77', 'daygod', 'daylets', 'daylove', 'days', 'dayseventyseven', 'dayshand', 'daysâ\\x80¦', 'dayum', 'daywithfriends', 'dayâ\\x80¦', 'dayð\\x9f\\x91\\x94', 'dayð\\x9f\\x92\\x9fð\\x9f\\x92\\x9f', 'dayð\\x9f\\x98\\x80ð\\x9f\\x91\\x8b', 'dayð\\x9f\\x98\\x8eð\\x9f\\x8e\\x88ð\\x9f\\x8e\\x80ð\\x9f\\x8e\\x88ð\\x9f\\x8e\\x80ð\\x9f\\x8e\\x88ð\\x9f\\x98\\x8e', 'dazblack', 'daâ\\x80¦', 'dc', 'dclife', 'dcvotes', 'ddb', 'ddnt', 'de', 'dead', 'deadaccording', 'deadass', 'deadliest', 'deadlifts', 'deadly', 'deafed', 'deafening', 'deafinprison', 'deal', 'dealing', 'dear', 'dearest', 'dearfellowwhitepeople', 'death', 'deathpenalty', 'deaths', 'debacle', 'debate', 'debeloping', 'deborahð\\x9f\\x8c»ð\\x9f\\x8c»user', 'debts', 'debut', 'dec', 'decade', 'decades', 'deceit', 'decent', 'decide', 'decided', 'decision', 'decisions', 'deckedupbeauties', 'declared', 'declining', 'decolonization', 'decolonizing', 'decoration', 'decorative', 'decors', 'decorð\\x9f\\x8c·ð\\x9f\\x8c¸ð\\x9f\\x8cºwedding', 'decree', 'decriminalizâ\\x80¦', 'deen', 'deep', 'deeper', 'deepest', 'deeply', 'deeplytouched', 'defame', 'default', 'defeat', 'defeated', 'defeats', 'defend', 'defended', 'defenders', 'defending', 'defense', 'defensive', 'deffo', 'defile', 'define', 'defined', 'defineepitome', 'defines', 'definitely', 'definition', 'definitions', 'definitive', 'defintely', 'deflect', 'defunding', 'degrading', 'dehumanize', 'dejeuner', 'del', 'delayed', 'delete', 'deleted', 'deletetweets', 'delhi', 'deliberately', 'delicious', 'delighted', 'delivery', 'dellaishaislamizaraadhitya', 'delta', 'deltaairlines', 'delusional', 'dem', 'demagoguery', 'demand', 'demanding', 'demeaning', 'deming', 'demo', 'demob', 'democracy', 'democrat', 'democrate', 'democratic', 'democraticpay', 'democrats', 'demoing', 'demonic', 'demonize', 'demonstrated', 'demoralizing', 'dems', 'den', 'denial', 'denied', 'dennis', 'dennys', 'denounce', 'dental', 'deny', 'denzelwashington', 'depament', 'dependent', 'deploraball', 'deplorable', 'deplorables', 'deployed', 'deploying', 'deplâ\\x80¦', 'depoation', 'depok', 'depressed', 'depressedquotes', 'depressing', 'depression', 'depressionquotes', 'dept', 'derek', 'derrick', 'derrickhoh', 'describe', 'describes', 'dese', 'deseret', 'deserve', 'deserving', 'deseâ\\x80¦', 'design', 'designed', 'designer', 'designers', 'designing', 'desire', 'desirehatred', 'desperate', 'despicable', 'despise', 'despite', 'desse', 'desseð\\x9f\\x8e\\x89ð\\x9f\\x98\\x8að\\x9f\\x91\\x8d', 'destigmatize', 'destinations', 'destiny', 'destroy', 'destroyed', 'destroying', 'destruction', 'destructive', 'desync', 'details', 'detention', 'determination', 'determined', 'detre', 'detroit', 'devastating', 'developer', 'developers', 'development', 'deviant', 'device', 'devided', 'devika', 'devil', 'devolved', 'devoted', 'dey', 'deâ\\x80¦', 'dhsi2016', 'di', 'diagnosed', 'diagram', 'dial', 'diamonds', 'diary', 'diaz', 'dick', 'dickhole', 'dicks', 'dick”', 'dictate', 'dictator', 'dictionaries', 'dictionary', 'diddo', 'didnot', 'didnt', 'didnâ\\x80\\x99t', 'didâ\\x80¦', 'die', 'died', 'diego', 'dies', 'diet', 'dieting', 'dieð\\x9f\\x9a¨', 'diff', 'difference', 'differences', 'different', 'differently', 'difficult', 'dig', 'digged', 'digitsâ\\x80¦', 'digme', 'dignity', 'diisgusted', 'dike', 'dincwear', 'dining', 'dinner', 'dinnerdate', 'dinosaur', 'dinosaurs', 'diplomadoenmarketingdigital', 'dipped', 'dipshit', 'direct', 'directed', 'direction', 'directioner', 'directly', 'dirty', 'dis', 'disabilities', 'disabled', 'disabling', 'disadvantaged', 'disagree', 'disallowd', 'disapointed', 'disappeared', 'disappointed', 'disappointing', 'disappointment', 'disavow', 'disciples', 'discourse', 'discoved', 'discovered', 'discredit', 'discrepancy', 'discretion', 'discriminating', 'discrimination', 'discuss', 'discussed', 'discussing', 'discâ\\x80¦', 'disdain', 'disease', 'disenfranchised', 'disgrace', 'disgraced', 'disgraceful', 'disgusted', 'disgusting', 'disingenuous', 'dismantle', 'dismantling', 'disney', 'disneygatorattack', 'disneyland', 'disneylooney', 'disneysmagickingdom', 'disorder', 'disorganised', 'disparo', 'displaced', 'dispose', 'disputes', 'disrespect', 'disrespectful', 'dissent', 'distance', 'distant', 'distinct', 'distinguished', 'distos', 'distractions', 'district', 'districts', 'disturb', 'disturbing', 'diva', 'dive', 'diversity', 'diversityandcreativity', 'divide', 'divider', 'dividerofanation', 'dividing', 'divinginstilettosfirst', 'divisive', 'divorce', 'divulgaÃ§Ã£oeparceria', 'diy', 'diysos', 'diâ\\x80¦', 'dj', 'djt', 'dkpol', 'dkwedding2016', 'dkweddking', 'dl', 'dlc', 'dm', 'dma', 'dna', 'dnc', 'dncchair', 'dnd', 'dness', 'doact', 'doctor', 'doctorâ\\x80¦', 'doctrine', 'documentary', 'documented', 'doesnt', 'doesn’t', 'dog', 'dogbite', 'dogdads', 'doggie', 'dogs', 'dogslife', 'dogsoftwitter', 'dogtreat', 'dogwalking', 'dogwhistle', 'doj', 'dokichu17', 'dolbf', 'dollar', 'dollars', 'dolled', 'dolls', 'dolores', 'domestic', 'domestics', 'domesticviolence', 'dominate', 'dominicanblogger', 'domÃ©nica', 'donald', 'donalddrumpf', 'donaldduck', 'donalds', 'donaldtrump', 'donaldtrumps', 'donate', 'donation', 'donations', 'done', 'donkey', 'donny', 'dono', 'dont', 'dontbuythesun', 'dontgiveup', 'dontphotoshopeverything', 'dontwanttogrowup', 'donuldtrump', 'donâ\\x80\\x99t', 'don’t', 'doom', 'door', 'doosh', 'dope', 'dordarshan', 'dory', 'double', 'doubledown', 'doublestandard', 'doublestandards', 'doublestanâ\\x80¦', 'doubletree', 'doubt', 'douchebag', 'douchelord', 'douchewaffle', 'doves', 'dowhatyoulove', 'downasquadmember', 'download', 'downtown', 'downwiththetriarchy', 'downâ\\x80¦', 'dr', 'draftdodger', 'drafting', 'draghi', 'dragon', 'dragons', 'drags', 'draining', 'draintheswamp', 'drake', 'drakeandjosh', 'draw', 'drawing', 'dreads', 'dream', 'dreamcatcher', 'dreamed', 'dreaming', 'dreams', 'dreamscometrue', 'dreamy', 'dreamâ\\x80¦', 'dress', 'dresser', 'drfranciscresswelsing', 'drill', 'drink', 'drinkdark', 'drinking', 'drinks', 'dripping', 'drive', 'driver', 'drivers', 'drives', 'driveway', 'driving', 'drop', 'dropped', 'dropping', 'droughtisrealreel', 'drown', 'drs', 'drsuess', 'drug', 'drugaddicts', 'drugsâ\\x80¦', 'drunk', 'drunkgirls', 'drunknights', 'drupal', 'drusillas', 'ds9', 'dtla', 'dts', 'duane', 'dublin', 'duca', 'duck', 'dud', 'dude', 'dudes', 'due', 'dugin', 'duh', 'duke', 'dull', 'dumb', 'dumbass', 'dumbest', 'dumbfuck', 'dumbingdownofamerica', 'dumbism', 'dumblondemafia', 'dummies', 'dumping', 'dumptrump', 'dundalk', 'duper', 'dust', 'dutch', 'duty', 'dutycalls', 'dvbmultimediagroup', 'dw', 'dwd', 'dwyane', 'dying', 'dylann', 'dysfunction', 'dysfunctional', 'dystopian', 'dzange', 'dÃ\\xada73', 'dâ\\x80¦', 'e', 'e3', 'e32016', 'ea', 'eac', 'eacbpm', 'eacâ\\x80¦', 'eah', 'eahs', 'ear', 'early', 'earn', 'earned', 'easier', 'easiest', 'easily', 'east', 'eastcapehunting', 'eastcoast', 'easteuropeans', 'eastlondon', 'easy', 'eat', 'eatallyoucan', 'eating', 'eats', 'eatâ\\x80¦', 'ebay', 'ebonics', 'ebook', 'echeveria', 'echo', 'echobelly', 'echoes', 'eco', 'ecocide', 'economic', 'economicapaheid', 'economicapahied', 'economicsanctions', 'economy', 'ect', 'ecuador', 'ed', 'edc', 'edchat', 'eddie', 'eden', 'edge', 'edgy', 'edinburgh', 'edit', 'edited', 'editor', 'editorial', 'edits', 'edm', 'edmunds', 'educate', 'educated', 'educating', 'education', 'educational', 'educationfest', 'educationâ\\x80¦', 'edwardsville', 'ee', 'eek', 'eevalancaster', 'eff', 'effect', 'effective', 'effects', 'effing', 'effo', 'effos', 'eg', 'eggs', 'egna', 'ego', 'egomaniac', 'egregious', 'egã\\x80\\x9cï¼\\x9fï¼\\x9fï¼\\x9f', 'eh', 'eia', 'eid', 'either', 'ejected', 'ek', 'ekk', 'elbow', 'elder', 'elect', 'elected', 'election', 'elections', 'elections2016', 'electoralcollege', 'electrical', 'electro', 'elects', 'elegant', 'elegy', 'elements', 'elevates', 'eliminate', 'elite', 'elitist', 'elitists', 'ellen', 'ellicottsquarebuilding', 'eloise', 'else', 'eltham', 'elxn42', 'em', 'em2016', 'emailgate', 'emails', 'embarrass', 'embarrassing', 'embodied', 'emboldened', 'embrace', 'embraceyourself', 'embracâ\\x80¦', 'embâ\\x80¦', 'emea', 'emergency', 'emilyhewertson', 'emiratis', 'emiratisâ\\x80¦', 'emiratiâ\\x80¦', 'emiratâ\\x80¦', 'emma', 'emmastone', 'emoji', 'emojis', 'emotional', 'emotionalwreckâ\\x80¦', 'emotions', 'empathy', 'emperor', 'empire', 'employed', 'employee', 'employees', 'empower', 'empowerd', 'empowering', 'empowerment', 'empress', 'empty', 'emâ\\x80¦', 'emð\\x9f\\x92\\x99', 'enable', 'enabled', 'enablerâ\\x80¦', 'enabling', 'encounter', 'encounters', 'encouraging', 'end', 'ended', 'endhateâ\\x80¦', 'ending', 'endingî\\x81\\x96î\\x81\\x96', 'endless', 'endlessly', 'endof2016', 'endofcivilization', 'endofthe', 'endorse', 'endorses', 'ends', 'endthenation', 'enduring', 'enemes', 'enemies', 'enemy', 'energy', 'eng', 'engage', 'engaged', 'engagement', 'engerland', 'england', 'englandrussia', 'english', 'englishlearning', 'englishpremierleague', 'engwal', 'enjoy', 'enjoyable', 'enjoyed', 'enjoying', 'enjoylife', 'enjoyâ\\x80¦', 'enlightenment', 'enough', 'enoughisenough', 'enteainment', 'entered', 'entering', 'entire', 'entities', 'entitled', 'entitlement', 'entrenched', 'entrepreneur', 'entreteiment', 'entry', 'environment', 'environmental', 'environmentalist', 'eod', 'eos', 'ep', 'ep6', 'epic', 'epicurian', 'epicâ\\x80¦', 'epidemic', 'episode', 'episodes', 'epitomeofsorrow', 'equal', 'equaling', 'equality', 'equalityâ\\x80¦', 'equally', 'equalâ\\x80\\x99', 'equate', 'equated', 'equity', 'equivalent', 'era', 'eradicate', 'erased', 'eren', 'ergo', 'erica', 'ericeira', 'erich', 'ericprydz', 'errand', 'error', 'escape', 'escaped', 'esp', 'espaÃ±a', 'especially', 'espn', 'essaissunlewissuppoð\\x9f\\x8f\\x8eð\\x9f\\x8f\\x8e', 'essay', 'essence', 'essential', 'essentialoils', 'establishing', 'establishment', 'estate', 'esteem', 'estmoksss', 'esy', 'et', 'etc', 'eternally', 'eternity', 'ethnic', 'ethnically', 'ethnicity', 'ethnocentrism', 'etsy', 'eu', 'eugenics', 'eugenie', 'euphorix', 'eur', 'euref', 'eurgbp', 'euro', 'euro2016', 'euroconservatism', 'eurogamer', 'eurogamer2016', 'europaleaguefinal', 'europe', 'europe2016', 'european', 'europeangp', 'europeð\\x9f\\x91\\x8fð\\x9f\\x8f»â\\x9c\\x88ï¸\\x8f', 'euros', 'euros2016', 'eurosceptic', 'eurusd', 'evan', 'evans', 'evansð\\x9f\\x8e\\x87ð\\x9f\\x8e\\x89ð\\x9f\\x8e\\x8að\\x9f\\x8e\\x81ð\\x9f\\x8e\\x82ð\\x9f\\x8e\\x86ð\\x9f\\x8e\\x88', 'evasion', 'eve', 'even', 'evening', 'event', 'events', 'ever', 'everlord', 'every', 'everybody', 'everybodys', 'everyday', 'everydaycounts', 'everydaydrawing', 'everydaygood', 'everydayheroes', 'everyone', 'everyones', 'everyoneâ\\x9c\\x8cï¸\\x8fð\\x9f\\x92\\x96â\\x9c\\x8cð\\x9f\\x92\\x96', 'everyonâ\\x80¦', 'everyplacethreatn', 'everything', 'everythingisracist', 'everytime', 'everywhere', 'evidence', 'evil', 'evolution', 'evolutions', 'evora', 'ewa', 'ewabeach', 'ex', 'exactly', 'exaggeration', 'exam', 'example', 'examresultsâ\\x80¦', 'exams', 'examsð\\x9f\\x98¯', 'excellence', 'excellent', 'except', 'exceptional', 'excit', 'excite', 'excited', 'excitem', 'excitement', 'exciting', 'excitâ\\x80¦', 'exclaiming', 'excludedmarginalised', 'exclusive', 'excouncillor', 'excrement', 'excuse', 'excuses', 'executive', 'exemplifies', 'exercise', 'exhausted', 'exigences', 'exist', 'existed', 'existenceâ\\x80¦', 'existing', 'exists', 'exit', 'exits', 'exoflex', 'expanded', 'expanse', 'expats', 'expe', 'expect', 'expectations', 'expected', 'expecttrumps', 'expensive', 'experience', 'experienced', 'experiences', 'expes', 'explain', 'explained', 'explains', 'explanation', 'explanations', 'explodedhair', 'exploitation', 'explore', 'expose', 'exposed', 'exposeracism', 'exposing', 'expressed', 'expression', 'expressions', 'expressjs', 'expresso', 'extending', 'extends', 'extension', 'external', 'extinction', 'extoion17', 'extraordinaire', 'extraordinaryladyspeaks', 'extras', 'extremely', 'extremism', 'extremist', 'extremists', 'exuberant', 'exâ\\x80¦', 'eye', 'eyebrows', 'eyed', 'eyeing', 'eyelids', 'eyes', 'eyesvote', 'eyetalian', 'eâ\\x80¦', 'f', 'f1', 'f1baku', 'f4f', 'fab', 'fabric', 'fabricate', 'fabricsourcing', 'fabulous', 'facade', 'face', 'facebook', 'facebooks', 'facebookâ\\x80\\x99s', 'faced', 'facemask', 'facepalm', 'faces', 'facetime', 'faceâ\\x80¦', 'facility', 'fact', 'factophobia', 'factor', 'factors', 'factory', 'facts', 'factsguide', 'factâ\\x80¦', 'faded', 'fail', 'failed', 'failing', 'fails', 'failure', 'failures', 'fair', 'fairmont', 'fairness', 'fairy', 'faisal', 'faith', 'faithful', 'faithsâ\\x80¦', 'faiytail', 'fake', 'fakefood', 'fakenews', 'fakenewsale', 'fakenewsmedia', 'fakequity', 'faking', 'fall', 'fallacy', 'falling', 'falls', 'false', 'falseequavalency', 'falsely', 'falsenarrative', 'fam', 'fame', 'familia', 'familiar', 'families', 'families33smile', 'familiesâ\\x80\\x9dfamilycircus', 'familly', 'family', 'familybut', 'familyfun', 'familyfunuser', 'familyrevival', 'familys', 'familyâ\\x80\\x99s', 'familyâ\\x80¦', 'famous', 'fan', 'fana', 'fancied', 'fancy', 'fang', 'fangirl', 'fans', 'fanson', 'fantastic', 'fantasy', 'fan’s', 'far', 'farah', 'faraz', 'fare', 'farewell', 'fargo', 'farhad', 'farishta', 'farm', 'farmer', 'farmerscare', 'farms', 'farrah', 'fascinating', 'fascism', 'fascismo', 'fascismâ\\x80¦', 'fascist', 'fascists', 'fashion', 'fashionblog', 'fashiondesign', 'fashions', 'fashionâ\\x80¦', 'fashioâ\\x80¦', 'fast', 'fastingi', 'fat', 'fatheobe', 'father', 'fatherday', 'fatherhood', 'fatherly', 'fathers', 'fathersday', 'fathersdaygiftideas', 'fathersdaynikeâ\\x9c\\x94nikeairmaxairmaxiâ\\x80¦', 'fathersdayuser', 'fatherÃ¢Â\\x80Â\\x99s', 'fatherâ\\x80\\x99s', 'fathâ\\x80¦', 'fatigue', 'fatkid', 'fatkidinacandystore', 'fatkind', 'fatness', 'fatty', 'fault', 'fauxnews', 'fave', 'favoismatitsfinest', 'favored', 'favorite', 'favorites', 'favourite', 'faye', 'faâ\\x80¦', 'fb', 'fbi', 'fcbd', 'fck', 'fear', 'feared', 'fearful', 'fearless', 'fearlessly', 'fearmongering', 'fearâ\\x80¦', 'featuring', 'feaâ\\x80¦', 'feb', 'fed', 'federline', 'feds', 'feed', 'feedback', 'feeding', 'feel', 'feelgoodfriday', 'feelgoodmusic', 'feelgoodsummer', 'feelin', 'feeling', 'feelingcrapmehhhhh', 'feelingmyself', 'feelingpositive', 'feelings', 'feelinhappy', 'feels', 'fees', 'feet', 'feetbabysweetwelcomechampcanon50mmnepalkathmandu', 'feetâ\\x80¦', 'feigned', 'feku', 'felix', 'felixfoisgolf', 'feliz', 'feliz2017', 'felizdomingo', 'felizsabado', 'fell', 'fellow', 'fellowship', 'felony', 'felt', 'female', 'females', 'feminism', 'feminismiscancer', 'feminismisterrorism', 'feminismmuktbharat', 'feminismâ\\x80¦', 'feminist', 'feminists', 'ferguson', 'fergusonâ\\x80¦', 'ferrari', 'ferrarimercsð\\x9f\\x98\\x8d', 'fest', 'festival', 'festivalï¼\\x81', 'festive', 'fetish', 'fetishes', 'fever', 'feâ\\x80¦', 'ff', 'ff13s', 'ff14', 'fffwithjanelle', 'ffxiv', 'fiancÃ©', 'fibromyalgia', 'fiddlers', 'field', 'fiends', 'fiestar', 'fight', 'fightback', 'fighters', 'fighting', 'fightlikeagirlâ\\x80¦', 'fights', 'fightâ\\x80¦', 'figure', 'figures', 'fill', 'filled', 'fills', 'film', 'filmfestival', 'films', 'filth', 'filthy', 'final', 'finaldate', 'finalise', 'finalised', 'finally', 'finals', 'financial', 'find', 'finding', 'findom', 'finds', 'fine', 'fined', 'finepass', 'finest', 'finger', 'finish', 'finished', 'finishing', 'finland', 'finn', 'finnishgirl', 'fire', 'firearms', 'fired', 'firefly', 'firefly2016', 'fireflymusicfestival', 'firework', 'fireworks', 'firm', 'firms', 'first', 'firstequity', 'firstfamily', 'firstnations', 'firsttime', 'firstworldproblems', 'fish', 'fishburn', 'fishing', 'fit', 'fitandfierce', 'fitlifeâ\\x80¦', 'fitmom', 'fitness', 'fitted', 'fix', 'fixed', 'fizzy', 'fk', 'fl', 'flag', 'flagday', 'flags', 'flapping', 'flareup', 'flashbackfriday', 'flashbacks', 'flashgames', 'flat', 'flats', 'flattering', 'flea', 'fled', 'fleeting', 'fleurette', 'flibabes', 'fliers', 'flight', 'flights', 'flightâ\\x80¦', 'flip', 'flippant', 'flipping', 'floatationtherapy', 'floating', 'flood', 'flooding', 'floor', 'flop', 'flopping', 'floral', 'florida', 'florida2016', 'flow', 'flowers', 'flt', 'fluently', 'flushedð\\x9f\\x9a½â\\x80¦', 'fly', 'flyer', 'flying', 'fml', 'fn', 'fo', 'focus', 'foitude', 'folk', 'folks', 'follow', 'follow4follow', 'followback', 'followed', 'follower', 'followers', 'followi', 'following', 'followme', 'followâ\\x80¦', 'folx', 'fomc', 'fondant', 'food', 'food4thought', 'foodfriendssummerswagquotes', 'foodie', 'foodporn', 'foodstalls', 'foodtravelchat', 'fooh', 'fool', 'fooled', 'foolin', 'foolish', 'foot', 'footage', 'football', 'footballbut', 'forbidden', 'force', 'forced', 'forcing', 'forecast', 'forecasted', 'foreign', 'foresses', 'forestpark', 'foretold', 'forever', 'foreverhope', 'foreverinourheas', 'foreverliving', 'foreverlivingproducts', 'forex', 'forget', 'forgot', 'forher', 'fork', 'form', 'former', 'forms', 'forsale', 'forward', 'forwards', 'forza', 'forâ\\x80¦', 'forð\\x9f\\x92\\x9e', 'fostercare', 'fotiadis', 'fought', 'founate', 'found', 'founder', 'founders', 'four', 'fowoh', 'fox', 'foxnews', 'foy', 'foâ\\x80¦', 'fpace', 'fpÃ\\x96', 'fr', 'fragile', 'fragility', 'frail', 'frame', 'france', 'frances', 'franklin', 'franziskafacella', 'frat', 'fraud', 'freak', 'freaked', 'freaking', 'freaks', 'freakshake', 'fred', 'free', 'freed', 'freedom', 'freedomconference16', 'freedomofspeech', 'freedoms', 'freedomtower', 'freedownload', 'freegames', 'freeman', 'freemasons', 'freemilo', 'freepik', 'freespeech', 'freespirit', 'freethenipple', 'freetime', 'freeways', 'freezers', 'french', 'frenchvintage', 'fresh', 'freshly', 'freshmen', 'freshsta', 'fri', 'friday', 'fridayfeeling', 'fridayfun', 'fridaymorning', 'fridaynightâ\\x80¦', 'friend', 'friendfriendsfunnyfriendshipchill', 'friends', 'friendship', 'friendshipneverends', 'friendsswedenreunion', 'friendszxc', 'friendsâ\\x80¦', 'friendsâ\\x9d¤ï¸\\x8fâ\\x9d¤ï¸\\x8fâ\\x9d¤ï¸\\x8fâ\\x9d¤ï¸\\x8fâ\\x9d¤ï¸\\x8fâ\\x9d¤ï¸\\x8fâ\\x9d¤ï¸\\x8f', 'fries', 'frikiegirl2016', 'fringesqcbagssummer', 'friyay', 'frm', 'frnd', 'frnds', 'fromâ\\x80¦', 'front', 'frontrow', 'frozenyogu', 'fruit', 'frustrated', 'fry', 'fuck', 'fuckdonaldtrump', 'fucked', 'fuckers', 'fuckhashtags', 'fuckin', 'fucking', 'fuckoffnevercomingbacktosky', 'fucks', 'fuckthisshit', 'fucktrump', 'fucku2016', 'fueeventura', 'fuel', 'fugly', 'fuher', 'fuhered', 'full', 'fullmoon', 'fullnessâ\\x80¦', 'fullretard', 'fully', 'fuming', 'fun', 'fund', 'fundamentalism', 'funday', 'fundayó¾\\x8c¬ó¾\\x8c¬', 'funded', 'fundeâ\\x80¦', 'funding', 'fundraising', 'funeral', 'funholiday', 'funks', 'funny', 'funnyjace', 'funnynotfunny', 'funnyâ\\x80¦', 'funwreekend', 'funâ\\x80¦', 'funð\\x9f\\x8c\\x9fâ\\x98\\x80ï¸\\x8fð\\x9f\\x8c\\x9f', 'funð\\x9f\\x99\\x84', 'furbabies', 'furbaby', 'furkid', 'furniture', 'furore', 'furry', 'fury', 'fusiona', 'fuss', 'future', 'futureplumber', 'futureâ\\x80¦', 'fuuuunn', 'fuuuuuuuuuuuuck', 'fvck', 'fyi', 'fâ\\x80¦', 'g', 'gaaftershocks', 'gabychina20', 'gains', 'gainwithxtiandelashoutoutgaininstant', 'gala', 'galery', 'galib', 'game', 'gamedev', 'gameofthrones', 'gameplay', 'gamer', 'gameready', 'games', 'gameshow', 'gaming', 'gamingchannel', 'gamingforeveryone', 'gamma', 'gandhi', 'gangs', 'garbage', 'garbagepailkids', 'garden', 'gardening', 'gareki', 'garrison', 'gary', 'gaslighting', 'gasoline', 'gate', 'gates', 'gators', 'gave', 'gawa', 'gay', 'gayguy', 'gaymen', 'gays', 'gaystyle', 'gaza', 'gazza', 'gb', 'gbp', 'gbpusd', 'gbu', 'gd', 'gdegblog', 'gdragon', 'gdt', 'gear', 'geared', 'gee', 'geek', 'geeked', 'geeks', 'geezripanton', 'gegenrechts', 'gem', 'gemini', 'gen', 'gender', 'genderequity', 'genderinequality', 'genderstereotypes', 'genealogy', 'general', 'generally', 'generation', 'generationkkk', 'generations', 'genes', 'genetics', 'genius', 'genocide', 'genocidedefender', 'gentleman', 'gentlemen', 'gentleâ\\x80¦', 'genuinely', 'geographic', 'geordie', 'george', 'georgia', 'ger', 'german', 'germans', 'germany', 'germanys', 'get', 'getalife', 'getbackup', 'getreal', 'gets', 'getthanked', 'getting', 'gettingfed', 'gettingfit', 'gettingfitter', 'gettingold', 'gewitter', 'gf', 'gfe', 'gfy', 'ghazal', 'ghazals', 'giannena', 'giant', 'gifdidt', 'gift', 'gifted', 'gifts', 'gifð\\x9f\\x98\\x83ð\\x9f\\x98\\x82â\\x98ºit', 'gig', 'giggles', 'gigi', 'gimmie', 'gin', 'ginger', 'girl', 'girles', 'girlfriend', 'girlgamer', 'girliguessimwithher', 'girls', 'girlsâ\\x80¦', 'girlâ\\x80¦', 'give', 'giveaway', 'giveittomealready', 'given', 'gives', 'givethanksforlife', 'giveâ\\x80¦', 'giving', 'glad', 'gladshesgone', 'glamtastic', 'glasgow', 'glass', 'glasses', 'glasto', 'glastofest', 'glastonbury', 'glastonbury2016', 'glee', 'glinda', 'glitter', 'global', 'globalnews', 'globe', 'glorious', 'gloucesterrugby', 'glyfada', 'gmo', 'go', 'goaded', 'goal', 'goals', 'goat', 'goatmilk', 'goats', 'goblizzard', 'god', 'godbless', 'goddamn', 'godisgreat', 'goes', 'gofigure', 'gofrogs', 'gogreenâ\\x80¦', 'goin', 'going', 'gold', 'goldenretriever', 'goldenstatewarriors', 'golf', 'golfstrengthandconditioning', 'golfâ\\x80¦', 'golinglobal', 'golinuntern', 'gollybar', 'gomez', 'gon', 'gone', 'gonetoosoon', 'gonna', 'gonzovgonzo', 'good', 'goodbbwloubis', 'goodbye', 'goodday', 'goodellsucksâ\\x80¦', 'goodes', 'goodfoune', 'goodlife', 'goodluck', 'goodmood', 'goodmorning', 'goodmusic', 'goodness', 'goodnight', 'goodonedean', 'goods', 'goodson', 'goodtimes', 'goodtimesgoodfriends', 'goodtimeswithgoâ\\x80¦', 'goodtogreat', 'goodvibes', 'goodvibesonly', 'goodweek', 'google', 'goon', 'goood', 'goosebumps', 'gop', 'goppropaganda', 'gopro', 'gorgeous', 'gorilla', 'gorka', 'got', 'gotheextramileâ\\x80¦', 'goto', 'gotta', 'gotten', 'gotthenerves', 'gov', 'govegan', 'goverment', 'government', 'governmentestablishment', 'governments', 'governmentâ\\x80\\x99s', 'governor', 'govt', 'gowns', 'goyim', 'goð\\x9f\\x98\\x89', 'gp', 'gr', 'gr8', 'grab', 'grabbing', 'grabyourwallet', 'grace', 'gracedâ\\x80¦', 'graceless', 'gracemugabe', 'gracious', 'graduated', 'graduates', 'graduating', 'graduation', 'graffiti', 'grainne', 'grand', 'grandfinal', 'grandma', 'grandmother', 'grandsons', 'granny', 'granted', 'grassrootsaction', 'grassrootsmusic', 'grateful', 'gratefullove', 'gratitude', 'grave', 'graves', 'gravity', 'gray', 'grayneedstogo', 'great', 'greater', 'greatest', 'greathonour', 'greatness', 'greatquotesâ\\x80¦', 'greats', 'greattime', 'greece', 'greed', 'greek', 'green', 'greens', 'greenspan', 'greenspanâ\\x80\\x99s', 'greentownÂ²', 'greenwood', 'greetings', 'greggs', 'gregorian', 'grenada', 'grenade', 'grenades', 'grew', 'griffiths', 'grill', 'grimm', 'grimmie', 'grimmies', 'grind', 'grins', 'groom', 'groomers', 'grooving', 'grosseto', 'ground', 'group', 'groupoffriends', 'groups', 'grouâ\\x80¦', 'grow', 'growing', 'growingup', 'grown', 'grows', 'growth', 'growthmindset', 'growthwithhubspot', 'grp', 'grrrrrrrr', 'grube', 'grumpy', 'gsw', 'gt', 'gt10', 'gt15', 'gt2', 'gt4', 'gt6', 'gt9', 'gtblack', 'gtfoh', 'gtgt', 'gtgtgt', 'gtgtgtgtgtgtgt', 'guacamole', 'guarani', 'guaranteed', 'guard', 'guardian', 'gud', 'gudmorning', 'guess', 'guessed', 'guessing', 'guests', 'guide', 'guillermo', 'guilty', 'guitar', 'guitars', 'gummy', 'gun', 'guna', 'guncontrol', 'gunman', 'guns', 'gunviolence', 'gunâ\\x80\\x99s', 'guru', 'gurujimsgapparels', 'guster', 'gutted', 'gutter', 'guy', 'guys', 'guyâ\\x80¦', 'guzzling', 'guâ\\x80¦', 'gweh', 'gwent', 'gwot', 'gym', 'gymmorgon', 'g’', 'h', 'h20', 'ha', 'haahhh', 'habits', 'hackaton', 'hacketts', 'hacking', 'hadnt', 'hags', 'haha', 'hahaha', 'haii', 'haiku', 'haim', 'hair', 'hairdresser', 'hairly', 'hairy', 'hairâ\\x80¦', 'half', 'halfempty', 'halffull', 'hall', 'hamids', 'hammock', 'hampden', 'hamper', 'hamster', 'hamza', 'hamzayusuf', 'hand', 'handle', 'handmade', 'handout', 'handover', 'hands', 'handsome', 'handwritten', 'hang', 'hanging', 'hangingon', 'hangs', 'hannity', 'hansen', 'hanukkah', 'hapn', 'happen', 'happened', 'happene…', 'happengreat', 'happening', 'happens', 'happier', 'happiest', 'happiness', 'happinessdelight', 'happinessproject', 'happy', 'happyblessed', 'happyhappy', 'happyholidays', 'happyholidaysâ\\x80¦', 'happykwanzaa', 'happynewyear', 'happynewyear2017', 'happyâ\\x80¦when', 'happyð\\x9f\\x92\\x99', 'happyð\\x9f\\x98\\x8að\\x9f\\x92\\x9eð\\x9f\\x99\\x8c', 'harambe', 'harassers', 'harassment', 'harbaugh', 'hard', 'hardcore', 'hardcoresex', 'harder', 'hardly', 'hardwork', 'hardworkpaysoff', 'harianja', 'harlem', 'harm', 'harmful', 'harmless', 'harmony', 'harmâ\\x80¦', 'harold', 'harp', 'harry', 'harrypotter', 'harsh', 'harvardsq', 'harvest', 'hasbeen', 'hashbrown', 'hashtag', 'hashtags', 'hasnt', 'hat', 'hate', 'hatecrime', 'hated', 'hatefear', 'hatefilled', 'hateful', 'hategroup', 'hater', 'haters', 'hates', 'hatespeech', 'hateâ\\x80¦', 'hathaway', 'hating', 'hatred', 'hatredgreedamp', 'hatredâ\\x80¦', 'haul', 'haunt', 'haunting', 'hav', 'havefun', 'havent', 'haveâ\\x80¦', 'havin', 'hawaii', 'hawaiian', 'hawk', 'ha…', 'hbd', 'hc', 'hdtc', 'hea', 'heaache', 'heabreak', 'heabreaking', 'heabroken', 'head', 'headache', 'headed', 'heading', 'headline', 'headlines', 'headlock', 'heal', 'healand', 'healing', 'health', 'healthmen', 'healthy', 'healthyeating', 'healthyliving', 'healthyâ\\x80¦', 'hear', 'heard', 'hearing', 'heas', 'heat', 'heater', 'heatherfitzpatrick', 'heaven', 'heavenjesusempowersampsavesask', 'heavy', 'hebbuli', 'hebrews', 'heck', 'hed', 'heed', 'heededâ\\x80¦', 'heel', 'heels', 'heelsâ\\x80\\x99', 'heights', 'heiraten', 'held', 'helix', 'hell', 'hellfest', 'hello', 'helloexperience', 'helloâ\\x80¦', 'hellyeah', 'hellyshah', 'hellytweets', 'helm', 'help', 'help700', 'helpcovedolphins', 'helped', 'helpfulâ\\x80¦', 'helping', 'helpless', 'helpme', 'helps', 'helthy', 'hem', 'henderson', 'henna', 'henrico', 'henry', 'hens', 'hepburn', 'herb', 'herbal', 'herbalife', 'herballife', 'hereeeee', 'hereicome', 'heres', 'hereticfoundation', 'herewecome', 'hereð\\x9f\\x99\\x8cð\\x9f\\x98\\x89ð\\x9f\\x98\\x98ð\\x9f\\x92\\x99ð\\x9f\\x98\\x8a', 'heritage', 'hero', 'heroes', 'heroines', 'heroku', 'herschlags', 'hes', 'hey', 'heâ\\x80\\x99d', 'heâ\\x80¦', 'he’s', 'hfmd', 'hi', 'hi5', 'hid', 'hidden', 'hide', 'hiding', 'high', 'higher', 'highereducation', 'highest', 'highfashion', 'highlandreserve', 'highlight', 'highlycontested', 'highs', 'highstool', 'hijacked', 'hiking', 'hilarious', 'hill', 'hillary', 'hillary2016', 'hillaryclinton', 'hillarylostâ\\x80¦', 'hillbilly', 'hillbots', 'hilton', 'himhe', 'himselffor', 'himâ\\x80¦', 'hindusena', 'hint', 'hip', 'hiphop', 'hiphoptheatre', 'hipocrit', 'hippie', 'hippy', 'hipster', 'hire', 'hired', 'hires', 'hispanic', 'hispanicvote', 'hispters', 'historian', 'historic', 'historicalamnesia', 'historically', 'history', 'historyâ\\x80\\x99', 'his…', 'hit', 'hitchens', 'hitler', 'hitlerjugend', 'hitting', 'hiv', 'hjó¾®\\x9eð\\x9f\\x8f½', 'hm', 'hmmmsounds', 'ho', 'hockey', 'hocomd', 'hocoschools', 'hodgson', 'hoe', 'hoes', 'hold', 'holds', 'hole', 'holes', 'holiday', 'holidayblues', 'holidayprep', 'holidays', 'holier', 'hollaback', 'hollowbones', 'hollywood', 'holy', 'home', 'homefood', 'homegrown', 'homemadebygreenvera', 'homeopathic', 'homeowner', 'homes', 'homesta', 'homesweethome', 'homeð\\x9f\\x99\\x8bð\\x9f\\x8f¼ð\\x9f\\x98\\x8e', 'homicides', 'homophobe', 'homophobia', 'homophobiaenablin', 'homophobic', 'homoresistantâ\\x80¦', 'homosex', 'homosexuality', 'honest', 'honestly', 'honesty', 'honeymoon', 'hongkong', 'hood', 'hoodie', 'hoodiesup', 'hook', 'hooked', 'hookup', 'hope', 'hopeful', 'hopefully', 'hopelly', 'hopes', 'hoping', 'horizon', 'horizonâ\\x80\\x95always', 'horny', 'horrible', 'horribly', 'horrific', 'horrifying', 'horror', 'horse', 'horsepower', 'hospital', 'hospitalized', 'host', 'hostel', 'hostility', 'hosts', 'hot', 'hotel', 'hotgoss', 'hotline', 'hottweets', 'hotvideo', 'hour', 'hours', 'house', 'household', 'householdname', 'housemusic', 'houseofolive', 'houses', 'housewife', 'housewives', 'houseâ\\x80¦', 'houston', 'howell', 'however', 'hows', 'howto', 'hppy', 'hr', 'hrc', 'hrcs', 'hrs', 'ht', 'httpstco0OBajMlj65', 'httpstco7DzOMuj71b', 'httpstco7xjXxUcArm', 'httpstco9JAPtfjZ0n', 'httpstcoAhWiULz9ky', 'httpstcoCyj0vVXRkR', 'httpstcoJsReIAbEaj', 'httpstcoSM4BNewmZL', 'httpstcoW71PePnrrE', 'httpstcoeohRTYOs4j', 'httpstcoiswEeEz8YG', 'httpstcottzOBir0df', 'httpstcoweePsp41Zh', 'httâ\\x80¦', 'htâ\\x80¦', 'hu', 'hube', 'huddersfield', 'huffington', 'hug', 'huge', 'hugh', 'hugot', 'hugs', 'huh', 'hulk', 'hulksmash', 'hull', 'human', 'humanity', 'humankind', 'humanrights', 'humanrightswatch', 'humans', 'humble', 'humiliated', 'humiliating', 'humor', 'humorous', 'humour', 'hump', 'humpday', 'humpersð\\x9f\\x98©', 'humphrey', 'humping', 'hungariangirls', 'hungary', 'hunger', 'hungry', 'hunting', 'hurryup', 'hus', 'husband', 'huss', 'hustandbymyself', 'hustle', 'huâ\\x80¦', 'hv', 'hvg', 'hybrid', 'hyena', 'hyeâ\\x80¦', 'hype', 'hyperviolent', 'hypocrisy', 'hypocrite', 'hypocrites', 'hypocriteâ\\x80¦', 'hypocritical', 'hypu', 'hâ\\x80¦', 'i95', 'i95n', 'iah', 'iam', 'iamhardstyle', 'iamnotabe', 'iampossible', 'iandrewmusic', 'ibiza', 'ibiza2016', 'ibooks', 'ica16', 'ice', 'icecream', 'icepole', 'icon', 'iconic', 'iconsâ\\x80\\x9d', 'icrs2016', 'icymi', 'id', 'idea', 'ideal', 'ideals', 'ideas', 'identify', 'identity', 'ideology', 'ideologyâ\\x80¦', 'idiocracy', 'idiocy', 'idiot', 'idiotic', 'idiots', 'idol', 'idola', 'idolized', 'idontcareifhesbritish', 'idwp', 'id…', 'ie', 'iefascistdemocracy', 'ifftar', 'iftar', 'iftars', 'ifyouonlyknew', 'ifyourenotwhiteyourenotracist', 'ifyousawinyouwhatisee', 'ifâ\\x80¦', 'ig', 'igdaily', 'igers', 'igmilitia', 'ignorance', 'ignorancehate', 'ignorant', 'ignorantly', 'ignore', 'ignored', 'ignoring', 'ihateschool', 'ihavenofriends', 'ihearadio', 'ihop', 'iiba', 'iii', 'iiiiiiið\\x9f\\x87¨ð\\x9f\\x87±ð\\x9f\\x87¨ð\\x9f\\x87±ð\\x9f\\x87¨ð\\x9f\\x87±ð\\x9f\\x87¨ð\\x9f\\x87±ð\\x9f\\x87¨ð\\x9f\\x87±', 'ik', 'ikâ\\x80¦', 'il', 'ill', 'illegal', 'illegalguns', 'illegalisraelisettlements', 'illegally', 'illegals', 'illegalsettlements', 'illegitimate', 'illness', 'illustrated', 'illustration', 'illustrationâ\\x80¦', 'ilovehim', 'iloveme', 'ilovemysisterâ\\x80¦', 'ilovethesecret', 'im', 'ima', 'imaaâ\\x80¦', 'image', 'imagemakeovers', 'images', 'imagine', 'imapetrosexual', 'iminlove', 'imissyou', 'imitations', 'immanuelâ\\x80\\x9d', 'immature', 'immediately', 'immigrant', 'immigrantampproud', 'immigrants', 'immigration', 'imnotgettinganysleeptonight', 'imnotold', 'imnotusetothis', 'imo', 'impact', 'impacts', 'impeachtrump', 'impeachtrumpâ\\x80¦', 'imperfections', 'imperialism', 'imperialsm', 'implication', 'implying', 'impo', 'impoance', 'impoant', 'impoed', 'impossible', 'impression', 'impressions', 'impressive', 'imprint', 'imready', 'imthestar', 'imwithher', 'imy', 'in2017iwantto', 'inadequate', 'inaspanof', 'inauguration', 'inbred', 'incapable', 'incessant', 'incest', 'incident', 'incidents', 'incineration', 'incite', 'incl', 'include', 'including', 'inclusivity', 'income', 'incompitent', 'inconsequenâ\\x80¦', 'increased', 'increasing', 'increasingly', 'incredible', 'incredibly', 'incubus', 'incurable', 'indecent', 'indeed', 'indefininetly', 'independence', 'independenceday', 'independent', 'index', 'india', 'indian', 'indianapolis', 'indianindiecinema', 'indians', 'indias', 'indie', 'indiedev', 'indiegame', 'indiegamedev', 'indiegogo', 'indigenous', 'indignenous', 'indirect', 'indisputably', 'indoctrinating', 'indoctrination', 'indonesiaâ\\x80¦', 'indraloka', 'indulge', 'induoevents', 'industry', 'ineedtosavethereceipt', 'inequality', 'inequity', 'inevitable', 'inevitably', 'inexistence', 'infamous', 'infantile', 'infants', 'infection', 'inferior', 'inferioritycomplex', 'infidel', 'inflame', 'inflict', 'influence', 'info', 'information', 'informing', 'ingers', 'inherent', 'inhumaneâ\\x80¦', 'inhumans', 'initiating', 'injured', 'injures', 'injustice', 'injustoutbook', 'inlove', 'inmates', 'innate', 'innerchild', 'innercity', 'innocent', 'innocents', 'innovative', 'innovativenous', 'innâ\\x80¦', 'inquest', 'inquiry', 'insane', 'insanity', 'inse', 'insecurity', 'insensitive', 'inshot', 'inside', 'insident', 'insightful', 'insights', 'insparation', 'inspiration', 'inspirational', 'inspirechange', 'inspired', 'inspireme', 'instaaoftheday', 'instaboyinstamansefieseptumfriend', 'instacool', 'instadaily', 'instadog', 'instagay', 'instagood', 'instagram', 'instagramhub', 'instagrams', 'instahappy', 'instahappyday', 'instahappyâ\\x80¦', 'instalike', 'instalikeâ\\x80¦', 'installation', 'instaloveâ\\x80¦', 'instamoment', 'instamood', 'instanaijaweddingsâ\\x80¦', 'instapic', 'instasize', 'instasmile', 'instatraveling', 'instaviÃ±a', 'instead', 'insteadâ\\x80\\x9d', 'insteadâ\\x80¦', 'instilling', 'instinct', 'institution', 'institutionalized', 'instragram', 'instragrammeâ\\x80¦', 'instructed', 'instrumental', 'insult', 'insulting', 'insults', 'insure', 'integration', 'integrity', 'intellectual', 'intellicred', 'intelligence', 'intelligent', 'intend', 'intense', 'intent', 'intentions', 'interacts', 'intercourse', 'interest', 'interested', 'interesting', 'interference', 'interfering', 'interior', 'intermarket', 'intermittently', 'internal', 'internalize', 'internalized', 'internationaldayofyoga2016', 'internationallaw', 'internationalmonth', 'internet', 'internship', 'interracial', 'intersectional', 'intersectionality', 'interstellar', 'interterrestrial', 'intervene', 'interview', 'interviews', 'intestinal', 'intl', 'intolerance', 'intolerant', 'intruduceyourself', 'intrumpsamerica', 'intrusively', 'inuit', 'invasion', 'inveed', 'invented', 'inventory', 'invest', 'investigate', 'invited', 'involved', 'inâ\\x80¦', 'iphone', 'iphonesia', 'iq', 'iqbal', 'iqg', 'iqgt95', 'iran', 'iraq', 'ireland', 'irish', 'irishman', 'ironic', 'ironies', 'irony', 'irrefutable', 'irritated', 'irritations', 'isis', 'isisnt', 'isisâ\\x80\\x9d', 'islam', 'islamaphobia', 'islamaphobic', 'islamic', 'islamichomophobicrapistwho', 'islamicradicals', 'islamicterror', 'islamicterrorist', 'islamofascist', 'islamophobe', 'islamophobes', 'islamophobia', 'islamophobic', 'islamophoâ\\x80¦', 'islamâ\\x80¦', 'island', 'isnt', 'isnâ\\x80\\x99t', 'isn’t', 'isolationist', 'israel', 'israeli', 'israelis', 'israelisettlements', 'israeliã\\x80\\x80kpop', 'isrâ\\x80¦', 'issue', 'issued', 'issues', 'istanbul', 'istandard', 'istg', 'istore', 'isum', 'iswarâ\\x80¦', 'isÂ', 'isâ\\x80¦', 'ita', 'itakoaloneits', 'italian', 'italians', 'itcouldvebeenme', 'item', 'items', 'itgirlâ\\x80¦', 'ithizar', 'itjesus', 'itsEvers', 'itstheendoftheworldand', 'itunes', 'itz', 'itâ\\x80\\x99s', 'itâ\\x80\\x9d', 'itâ\\x80¦maybe', 'itð\\x9f\\x92ªð\\x9f\\x8f¼', 'itð\\x9f\\x98¢ð\\x9f\\x98\\x94ð\\x9f\\x92\\x8bð\\x9f\\x8e¶', 'it’s', 'ivanka', 'ivankatrump', 'ive', 'iwearbanana', 'iâ\\x80\\x99ve', 'iâ\\x80¦', 'i…', 'jabs', 'jackals', 'jackass', 'jacket', 'jackie', 'jackson', 'jacksonthe', 'jacksonville', 'jacobmarley', 'jagerbombs', 'jaguar', 'jaguarfpaceâ\\x80¦', 'jaguarstb', 'jaguarstellenbosch', 'jaibalayya', 'jail', 'jailed', 'jakaa', 'jake', 'jalanjalanmenâ\\x80¦', 'jam', 'james', 'jamesnffc2', 'jan', 'janapersonalfitness', 'janeelliot', 'january', 'januaryð\\x9f\\x98\\x81', 'janâ\\x80¦', 'japan', 'japanese', 'japanesegardens', 'japantokyobeautifulâ\\x80¦', 'jarodtaylor', 'jars', 'jasmine', 'jaws', 'jax', 'jc', 'jcpenney', 'jcpenny', 'jealous', 'jealousy', 'jeanne', 'jeans', 'jeep', 'jeeplife', 'jeepmafia', 'jeff', 'jeffery', 'jeffreycwilliams', 'jeffsessions', 'jehovas', 'jemele', 'jenner', 'jeremy', 'jeremyjoseph', 'jerk', 'jerodtwin', 'jerry', 'jersey', 'jerusalem', 'jessica', 'jesus', 'jetlagged', 'jew', 'jewelry', 'jewelrymaking', 'jewish', 'jewishjokeâ\\x80¦', 'jewishsupremacist', 'jews', 'jewsâ\\x80¦', 'jewworldorder', 'jgirl', 'jibes', 'jihad', 'jim', 'jimmy', 'jind', 'jissus', 'jiyong', 'jj', 'jk', 'jkt48', 'jlaw', 'jo', 'job', 'jobs', 'jobsearch', 'jobâ\\x80\\x9d', 'joe', 'joemixon', 'joepalacios', 'joerogan', 'john', 'johnlennon', 'johnlewis', 'johnmaun', 'johnny', 'johnnyð\\x9f\\x8c¹', 'johnrkhoward', 'johnxsafaris', 'joie', 'join', 'joined', 'joining', 'joins', 'joint', 'joke', 'jokeoftheday', 'jokes', 'joking', 'jolly', 'jonjo', 'jordanbpeterson', 'jordans', 'joseon', 'joseph', 'josephjett', 'journal', 'journalism', 'journalist', 'journalists', 'journey', 'journeyquotes', 'journeys', 'journo', 'journos', 'joy', 'joytrain', 'joyâ\\x84¢', 'jp', 'jpy', 'jre', 'jsms', 'jts88', 'juan', 'judd', 'judea', 'judge', 'judged', 'judges', 'juhanshuttai', 'juice', 'july', 'july4th', 'julycant', 'jumat', 'jump', 'jumpedtheshark', 'jumpedtheshâ\\x80¦', 'jumps', 'jumpsuit', 'june', 'june16', 'juneteenth', 'jungles', 'junior', 'juniors', 'justakid', 'justalillate', 'justeyelashes', 'justice', 'justicereform', 'justified', 'justify', 'justinbieber', 'justindb', 'justindrewbieber', 'justjustice', 'justmarried', 'justsaying', 'justsayingâ\\x80¦', 'juvenile', 'juvenilejustice', 'kaaba', 'kaepernick', 'kaepop', 'kajal', 'kala', 'kana', 'kanami', 'kansas', 'kanyewest', 'kappa', 'karachi', 'karaoke', 'karen', 'karina', 'karl', 'karma', 'kass', 'katana', 'katerynag', 'kathy', 'katiequeue', 'katiesikphoto', 'katsubi', 'kayak', 'kazunari', 'ke', 'keep', 'keeping', 'keeps', 'keepsmilinâ\\x80¦', 'keepyoureyesontheprizemlk', 'keithellisons', 'keithx', 'kejriwal', 'kelly', 'kellyampbabymonrosale', 'kellyann', 'kent', 'kentucky', 'kenya', 'kenyamy', 'kept', 'kerala', 'kettering', 'kettled', 'kevin', 'kevyn', 'key', 'keyboard', 'keys', 'khan', 'khushal', 'ki', 'kick', 'kicked', 'kicking', 'kickitout', 'kickoff', 'kickrocks', 'kid', 'kidcolorwithgranny', 'kids', 'kidð\\x9f\\x98¥ð\\x9f\\x90\\x8a', 'kiki', 'kikidance', 'kill', 'killallwhitemen', 'killary', 'killed', 'killer', 'killing', 'killings', 'killme', 'kills', 'kilos', 'kim', 'kimberâ\\x80¦', 'kimburrell', 'kimi7', 'kimmy', 'kin', 'kind', 'kinda', 'kindle', 'kindledeals', 'kindleunlimited', 'kindly', 'kindness', 'kinds', 'king', 'kingconrad', 'kingfisher', 'kingslanding', 'kinky', 'kiss', 'kisses', 'kissmyarse', 'kit', 'kitazato', 'kitazatoshibasaburo', 'kitchen', 'kitesurf', 'kits', 'kitten', 'kitty', 'kiâ\\x80¦', 'kkk', 'kkkblm', 'klan', 'klanservative', 'klux', 'km', 'kneejerk', 'knew', 'knicks', 'knitting', 'kno', 'knocked', 'knocks', 'know', 'knowing', 'knowledge', 'knowledgeable', 'known', 'knownð\\x9f\\x92\\x93', 'knows', 'knowð\\x9f\\x98\\x8að\\x9f\\x92\\x96', 'kochi', 'koetankauk', 'komo', 'koolaid', 'korea', 'korean', 'koreans', 'korematsu', 'kpop', 'kpopdance', 'krakow', 'kripas', 'ks', 'ksa', 'ksleg', 'ku', 'kudabalist', 'kumbaya', 'kundaliniyoga', 'kurds', 'kwanza', 'kwanzaa', 'kwonjiyong', 'ky', 'kylie', 'kyrie', 'kyâ\\x80¦', 'kâ\\x80¦', 'l', 'l4l', 'la', 'lab', 'label', 'labeling', 'labelit', 'laborviolations', 'labour', 'labrador', 'labradorretriever', 'lack', 'lackey', 'lactation', 'ladies', 'ladiesð\\x9f\\x98\\x84ð\\x9f\\x98\\x84', 'lady', 'ladyagat', 'ladyboy', 'laguna', 'laid', 'lake', 'lakers', 'lakeway', 'lalafell', 'lallana', 'lambshanks', 'lame', 'lamp', 'lanasprayberry', 'lancashire', 'lancaster', 'land', 'landholding', 'language', 'languages', 'lanâ\\x80¦', 'lapdog', 'laps', 'large', 'largely', 'largelyunrepentant', 'larger', 'largest', 'larry', 'larrydavid', 'las', 'laser', 'laserena', 'lasses', 'last', 'lastnight', 'lastoneeveryounginstadailyqueening', 'lasvegas', 'lasvegasâ\\x80¦', 'late', 'lately', 'latenights', 'latent', 'latepost', 'later', 'lateral', 'latergram', 'lateró¾\\x8cµâ\\x9d¤', 'latesnews', 'latest', 'lateâ\\x80¦', 'latin', 'latina', 'latinas', 'latino', 'latinos', 'latvia', 'laugh', 'laughable', 'laughing', 'laughs', 'laughter', 'laughâ\\x80¦', 'launch', 'launched', 'launching', 'laundry', 'laundryday', 'laurasworld', 'lauren', 'laurenduca', 'law', 'lawenforcement', 'lawmakers', 'lawofattraction', 'lawrence', 'laws', 'lawyerâ\\x80¦', 'lawâ\\x80¦', 'lay', 'lazioâ\\x80¦', 'lazy', 'laâ\\x80¦', 'lbgt', 'lcck9comfodog', 'lct16', 'lds', 'le', 'lead', 'leader', 'leaders', 'leadership', 'leadershipfreak', 'leading', 'leads', 'league', 'leak', 'leakage', 'learn', 'learned', 'learning', 'least', 'leather', 'leave', 'leaveeu', 'leavers', 'leaves', 'leaving', 'leb', 'lebron', 'lecture', 'led', 'lede', 'lee', 'leejasper', 'lef', 'left', 'leftard', 'leftist', 'leftistlunatics', 'leftists', 'leftright', 'leg', 'legacy', 'legal', 'legalgun', 'legend', 'legendary', 'legislative', 'legislature', 'legitimizing', 'legs', 'lehman', 'lemme', 'lemon', 'lennar', 'lesbian', 'lesbians', 'less', 'lesshate', 'lesson', 'lessons', 'let', 'letmehitit', 'lets', 'letsdothis', 'letsgo', 'letsmake', 'letstalkabout', 'lett', 'letter', 'letthembelittle', 'letting', 'lettuce', 'letâ\\x80\\x99s', 'leukemia', 'level', 'levels', 'levin', 'lewis', 'ley', 'lfc', 'lg', 'lgbt', 'lgbtfamilybut', 'lgbti', 'lgbtq', 'lgbtqhatestrumppay', 'lgm', 'lgâ\\x80¦', 'lhasaapso', 'liam', 'liar', 'liars', 'liarâ\\x80¦', 'lib', 'libcrib', 'libearian', 'liberal', 'liberalism', 'liberalisme', 'liberallogic', 'liberals', 'liberated', 'liberating', 'libey', 'library', 'libtard', 'libtards', 'lichfield', 'licking', 'lid', 'lie', 'lied', 'lies', 'lieslander', 'life', 'lifeaftersurgery', 'lifecoach', 'lifegroup', 'lifeguards', 'lifeisbeautiful', 'lifeisgood', 'lifelessons', 'lifeofsam', 'lifes', 'lifestyle', 'lifewellspent', 'lifeâ\\x80\\x99s', 'lifeâ\\x80¦', 'lifted', 'light', 'lightroom', 'lights', 'lighttherapy', 'lightweight', 'like', 'like4like', 'like4likeâ\\x80¦', 'like4tag', 'liked', 'likefoag', 'likeforlike', 'likeit', 'likely', 'likes', 'likeâ\\x80¦', 'lil', 'limes', 'limit', 'limited', 'limiting', 'line', 'linear', 'lines', 'lineup', 'linguistics', 'link', 'linkedin', 'linstagram', 'linzy', 'lion', 'lip', 'lips', 'lipstick', 'lipsticks', 'liquidhappieness', 'lisa', 'list', 'listen', 'listened', 'listening', 'listing', 'listings', 'lit', 'literacy', 'literally', 'literate', 'lithuania', 'littering', 'little', 'littlebear', 'littleenglander', 'littlegirl', 'littlemix', 'littlest', 'littlewonders', 'liv', 'live', 'livefree', 'liveleap', 'livelife', 'livelifetothefullest', 'livelong', 'livelovelife', 'livelypics', 'livemusic', 'liveoncam', 'liverpool', 'lives', 'livesbut', 'livestream', 'living', 'livingthedream', 'liye', 'liz', 'lizmeley', 'liâ\\x80¦', 'lking', 'lmao', 'lmfao', 'loa', 'loaded', 'loathsome', 'lobotomy', 'local', 'location', 'lock', 'lockandkey', 'lockerroomtalk', 'locks', 'log', 'logic', 'logins', 'logo', 'lol', 'lollipop', 'lolol', 'london', 'londonâ\\x80¦', 'lonely', 'lonelyand', 'long', 'longer', 'longhair', 'longing', 'lonley', 'loo', 'look', 'lookcraze', 'looked', 'lookin', 'looking', 'looks', 'lookup', 'loop', 'loosahs', 'loose', 'looseâ\\x80\\x99', 'lord', 'los', 'losangeles', 'lose', 'loser', 'loserpizza', 'losers', 'loses', 'losing', 'loss', 'losses', 'lost', 'lostpopularvote', 'lot', 'loteni', 'lots', 'lotstocome', 'lottery', 'loudest', 'loudly', 'louis', 'louisehayaffirmation', 'louisville', 'lousy', 'louth', 'love', 'lovebeingalegend', 'lovecamping', 'loveconquershate', 'lovecraft', 'loved', 'lovedailydose', 'lovegodgirl', 'loveher', 'loveherbreakups', 'loveislove', 'loveit', 'lovekefunday', 'loveknow', 'lovelies', 'lovelife', 'lovelifequotes', 'lovely', 'lovemylife', 'lovemylifeâ\\x80¦', 'loveoften', 'lovepoetry', 'lovequotes', 'lover', 'loves', 'lovethemâ\\x80¦', 'loveyou', 'loveyoudesi', 'loveyourself', 'loveâ\\x80¦', 'loveð\\x9f\\x91¼', 'loveð\\x9f\\x92\\x8bð\\x9f\\x92«', 'lovin', 'loving', 'lovinglife', 'lovingteam', 'lovvvvvvvveeeeeeee', 'low', 'lowblow', 'lowest', 'lowry', 'lows', 'lowtopsâ\\x80¦', 'loyal', 'loyalcustomer', 'loyalty', 'loâ\\x80¦', 'lpc', 'lpool', 'lst', 'lstv', 'lt', 'lt3', 'lt33', 'ltagt', 'lthtmlgt', 'ltlt', 'luck', 'luckily', 'lucky', 'luckygirl', 'luckyplz', 'luicalibres', 'luis', 'luke', 'luks', 'lulic', 'lumia950xl', 'luminous', 'lumpy', 'lunatic', 'lunatics', 'lunch', 'lunchtime', 'lure', 'luv', 'luxury', 'luxuryprovider', 'lyf', 'lyft', 'lyindon', 'lying', 'lyks', 'lyle', 'lylepierce', 'lynchingâ\\x80\\x99', 'lyric', 'lyrics', 'lâ\\x80¦', 'm16', 'mac', 'macdonald', 'machine', 'macos', 'macysâ\\x80¦', 'mad', 'maddow', 'made', 'madevasse', 'madness', 'madnessâ\\x80¦', 'mafuckas', 'maga', 'maga3x', 'magic', 'magical', 'magicalhappydrinks', 'magickingdom', 'magicrealism', 'magnettherapy', 'magnificent', 'mail', 'mailbox', 'mailboxpride', 'maimane', 'main', 'mainique', 'mainus', 'maison', 'majestic', 'majesty', 'major', 'majority', 'make', 'makeamericagreatagain', 'makecomics', 'makehappy', 'makeing', 'makeoâ\\x80¦', 'makeredau', 'makers', 'makerspace', 'makes', 'makeup', 'makin', 'making', 'makingbeats', 'malawi', 'malay', 'malayalees', 'malcolm', 'male', 'malema', 'males', 'malesâ\\x80\\x9d', 'malevote', 'malia', 'malibu', 'malign', 'malikrichmond', 'malinois', 'malinoislovers', 'mall', 'mallorca', 'malta', 'malvern', 'mama', 'man', 'manage', 'managed', 'management', 'manager', 'manchester', 'mandala', 'mandate', 'maneuver', 'mangiafuori', 'mango', 'manhate', 'manhattan', 'manifestdestiny', 'manipin', 'manipulationlawlessness', 'manipur', 'manmade', 'mannequinchallenge', 'manner', 'manning', 'mans', 'mansion', 'mansplaining', 'manspreading', 'manspreadingâ\\x80¦', 'manus', 'many', 'manypols', 'mar', 'marathi', 'marble', 'marbs', 'march', 'marchampitâ\\x80¦', 'marco', 'marcus', 'margaret', 'marginalized', 'maria', 'marijuana', 'marilynmonroe', 'marine', 'mario', 'mark', 'market', 'marketing', 'marking', 'marks', 'marquees', 'marriage', 'married', 'marry', 'marrying', 'mars', 'marseille', 'marshall', 'marvel', 'marx', 'marxism', 'marxist', 'marxs', 'maryland', 'mascara', 'mascot', 'masjids', 'maslowmusic', 'mason', 'mass', 'massacre', 'masses', 'massincarceration', 'massive', 'mast', 'masterkeyexperience', 'masters', 'masterð\\x9f\\x90\\x8d', 'masts', 'masutanicouple', 'mat', 'match', 'mateen', 'materia', 'material', 'materials', 'materialsâ\\x80¦', 'maters', 'math', 'matinee', 'mating', 'mato', 'matt', 'matter', 'matters', 'matthew', 'mattruffâ\\x80¦', 'matttookthisone', 'mature', 'mawia', 'max', 'may', 'maya', 'maybe', 'maybemono', 'maybe…', 'mayfair', 'mayhem', 'mayor', 'mbb', 'mbps', 'mc', 'mccain', 'mcconnell', 'mcdaniel', 'mcdonalds', 'mcdonaldâ\\x80\\x99s', 'mcfadden', 'mcmillanjames', 'mdcollege', 'mea', 'meal', 'meamp', 'mean', 'meaning', 'meaningful', 'meaningless', 'means', 'meant', 'meanwhile', 'measure', 'measured', 'measures', 'meccalive', 'mechtechplumbing', 'medal', 'media', 'mediamisogyny', 'mediamy', 'mediatization', 'mediaâ\\x80¦', 'medication', 'medicine', 'mediocre', 'meditation', 'meditations', 'meds', 'medâ\\x80¦', 'meet', 'meeting', 'megaupload', 'megreatfultogod', 'megyn', 'mei', 'melancholy', 'melancholymusic', 'melania', 'melanin', 'melbourne', 'melo', 'melons', 'melted', 'meltingpot', 'melts', 'member', 'members', 'membership', 'meme', 'memes', 'memo', 'memoies', 'memories', 'memory', 'men', 'mendoza', 'menmodelsâ\\x80¦', 'menorah', 'mens', 'mental', 'mentalhealth', 'mentalillness', 'mentality', 'mentioned', 'mentioning', 'menu', 'meow', 'mep', 'meps', 'mercyâ\\x80¦', 'mere', 'merely', 'merge', 'merica', 'merkel', 'merocrush', 'merry', 'merrychristmas', 'mess', 'message', 'messages', 'messengerjust', 'messi', 'messiah', 'messiha', 'messihas', 'messing', 'met', 'metal', 'metaphorâ\\x80¦', 'methis', 'metoo', 'metrics', 'metsh', 'mexican', 'mexicanfood', 'mexicans', 'mexico', 'meylucky', 'mezuniyet', 'meâ\\x80¦', 'með\\x9f\\x98\\x89ð\\x9f\\x8c¹â\\x9d¤ï¸\\x8f', 'með\\x9f\\x98\\x9dsurprised', 'mf', 'mfer', 'mfs', 'mgtâ\\x80¦', 'mi', 'mia', 'miabbook', 'miami', 'miamiâ\\x80¦', 'mic', 'micahow', 'michael', 'michaelacoel', 'michaelkors', 'micheleobama', 'michelle', 'michelleobama', 'michelleobamaâ\\x80¦', 'michigan', 'mickey', 'microaggressions', 'micropoetry', 'microsoft', 'middle', 'midnight', 'midsummers', 'midtantrum', 'midtown', 'midweek', 'might', 'migitorio', 'migrant', 'mik', 'mike', 'mikeashley', 'mil', 'milan', 'milano', 'milers', 'miles', 'milestones', 'military', 'milk', 'milkmatters', 'milkâ\\x80¦', 'millennials', 'miller', 'million', 'millions', 'mills', 'milo', 'miloyiannopoulos', 'milwaukee', 'mimosa', 'mind', 'mindblown', 'minded', 'mindful', 'mindfulness', 'minds', 'mindset', 'mine', 'minions', 'minister', 'minneapolis', 'minnesotavikings', 'minorities', 'minority', 'minoritypresident', 'mins', 'minute', 'minutes', 'miranda', 'miriam', 'mirror', 'mirrors', 'misandry', 'misconceptions', 'misogny', 'misogony', 'misogynist', 'misogynistic', 'misogynists', 'misogynisttrump', 'misogynistâ\\x80¦', 'misogyny', 'misogynyâ\\x80¦', 'mispronouncing', 'misrepresentation', 'miss', 'missed', 'missing', 'mission', 'missmycuddlebuddy', 'missyou', 'mistake', 'misunderstood', 'mitchell', 'mitchellrattle', 'mix', 'mixed', 'mixedemotions', 'mizaj', 'mizzou', 'miâ\\x80¦', 'mk', 'mlb', 'mm', 'mma', 'mmiw', 'mmiwg', 'mmusimaimane', 'mo', 'moHamid2k04', 'mob', 'mobile', 'mochithepug', 'mock', 'mocked', 'moda', 'mode', 'model', 'models', 'modemoda', 'modern', 'modi', 'modimarketing', 'mods', 'mofo', 'mogage', 'mohammedali', 'mohsin', 'moi', 'moira', 'mojo', 'mol', 'mom', 'moma', 'moment', 'moments', 'momentâ\\x80¦', 'momlife', 'mommyduties', 'mommylife', 'mommyproblems', 'moms', 'mon', 'monacorestochezedgardgrandprixf1', 'monday', 'mondaymorning', 'mondaymotivation', 'mondayneeded', 'monetary', 'money', 'moneyovermorals', 'mongering', 'mongers', 'monitor', 'monkeys', 'mono', 'monochrome', 'monroeampnick', 'monsoon2016', 'monster', 'monsters', 'montana', 'monterrey', 'month', 'monthly', 'months', 'montreal', 'mood', 'moods', 'moody', 'moon', 'moonman', 'moonrise', 'moooooorning', 'moored', 'moose', 'moosey', 'morality', 'morals', 'moredun', 'morelove', 'morgan', 'morganfreeman', 'mormon', 'mormonism', 'mormonisâ\\x80¦', 'morning', 'mornings', 'morningâ\\x80¦', 'moron', 'moronsmatter', 'mosque', 'mostly', 'mother', 'motherfucker', 'motherhoodunscripted', 'motionposter', 'motivate', 'motivated', 'motivating', 'motivation', 'moto', 'motorcycle', 'motos', 'motoâ\\x80\\x99sâ\\x80¦', 'motoð\\x9f\\x92ª', 'mountain', 'mountains', 'mountaintop', 'mounts', 'mourn', 'mouse', 'mouth', 'mouthpiece', 'move', 'moveable', 'moved', 'movement', 'movementâ\\x80\\x99s', 'moves', 'movie', 'moviefone', 'moviegenres', 'moviemad', 'movies', 'moviescenes', 'moving', 'movinghouâ\\x80¦', 'moâ\\x80¦', 'mp', 'mps', 'mr', 'mrampmrsâ\\x80¦', 'mrb', 'mrbaileybaby', 'mrminority', 'mrs', 'mrstanton76', 'msdhu', 'msg', 'msgapparelstoday', 'msian', 'msm', 'msnbc', 'mt', 'mtb', 'mtv', 'mtvwhiteguys', 'much', 'muchlove', 'muchð\\x9f\\x98\\x98', 'mud', 'mufg', 'mugabe', 'muir', 'multiconnexions', 'multimillion', 'multiple', 'multiracial', 'mumbai', 'mumbairains', 'mummersparade', 'mummy', 'mums', 'munich', 'municipalities', 'munmid', 'mupparimanam', 'murata', 'murder', 'murdered', 'murderer', 'murdering', 'murders', 'murray', 'murrayhaters', 'muscari', 'muscle', 'music', 'musica', 'musicbooks', 'musicbut', 'musiclife', 'musicnow', 'musicvideo', 'musicâ\\x80¦', 'muslim', 'muslimbrotherhood', 'muslimpos', 'muslims', 'muslimsâ\\x80¦', 'must', 'mustfall', 'mustread', 'mustve', 'muthafucka', 'muttering', 'mutual', 'muzlin', 'muzzies', 'mxm', 'myanmar', 'myanmars', 'myavonstory', 'mybabygirl', 'mybrotherskeeper', 'mychurch', 'mydadmyhero', 'mydubaiâ\\x80¦', 'myfavorite', 'myfriend', 'mygrind', 'myhappycapture', 'mykonos', 'myoneresolution', 'mysecretlove', 'mysoginist', 'mysonshine', 'mystery', 'myth', 'myview', 'n', 'na', 'naacp', 'nabilah', 'naboomspruit', 'nackt', 'nadalind', 'nafrisâ\\x80¦', 'nah', 'nailed', 'nailswagg', 'nake', 'naked', 'namaste', 'name', 'named', 'namely', 'names', 'namesâ\\x80¦', 'namibia', 'naming', 'nancy', 'nano', 'naoyuki', 'narcissimâ\\x80\\x93misogynyâ\\x80\\x93', 'narcissism', 'narcissist', 'narcissistic', 'narrative', 'narratives', 'narrow', 'nashvilleforever', 'nashvilletour2016', 'nasty', 'nation', 'national', 'nationalanthem', 'nationalaâ\\x80¦', 'nationalbestfriendsday', 'nationalbestfriendsdayð\\x9f\\x91\\xadð\\x9f\\x91«ð\\x9f\\x91¬', 'nationalism', 'nationalist', 'nationality', 'nationdivider', 'nations', 'nationâ\\x80\\x99s', 'native', 'natsu', 'natt', 'natural', 'naturally', 'nature', 'naturelove', 'naturelâ\\x80¦', 'natureperfection', 'naturism', 'naughty', 'navy', 'navyblue', 'nazi', 'nazis', 'naziâ\\x80¦', 'naz…', 'naâ\\x80¦', 'nba', 'nbadraft', 'nbafinals', 'nbaupdates', 'nbavote', 'nbc', 'nbjc', 'nc', 'ncaa', 'ndn', 'nds', 'ndtv', 'near', 'nearly', 'nearterm', 'neck', 'necklace', 'neco', 'need', 'need2know', 'needed', 'needing', 'needs', 'needsâ\\x80¦', 'needâ\\x80¦', 'negate', 'negative', 'negativity', 'negligence', 'negligencewhy', 'negro', 'negros', 'neighbor', 'neighborhood', 'neighborhoods', 'neighbors', 'neighbourhood', 'neighbours', 'neilerikson', 'neither', 'nelsonmandela', 'neo', 'neocolonialism', 'neoconfederate', 'neogaf', 'neoliberalism', 'neonazi', 'neonazis', 'nerd', 'nervous', 'neshl', 'ness', 'nessiewilliamz', 'net', 'netanyahou', 'netanyahu', 'netanyahuspeech', 'netflix', 'netflixissue', 'netherlands', 'network', 'networking', 'neutral', 'neutrality', 'neve', 'neveoolate', 'never', 'neverdelta', 'nevermypresident', 'neveroddoreven', 'neverump', 'neverumpâ\\x80¦', 'neville', 'nevr', 'new', 'newadventure', 'newalbum', 'newarkfestival', 'newblessings', 'newblood', 'newblood16', 'newbooks', 'newborn', 'newday', 'newelectricscrewdriver', 'newflat', 'newghostbusters', 'newmenu', 'newmummy', 'newmusic', 'newpaperand', 'newproduct', 'newproject', 'news', 'news24', 'newshow', 'newswithed', 'newukulele', 'newvideo', 'newyear', 'newyear2017', 'newyears', 'newyearseve', 'newyearsevemay', 'newyork', 'newyorkcity', 'newyorker', 'newyorkâ\\x80¦', 'newzeeland', 'newâ\\x80¦', 'next', 'nextgen', 'nextsingle', 'ngitingtagumpay', 'nhs', 'nia', 'nialhoranfacts', 'niall', 'niallerwins', 'nicaragua', 'nice', 'nicely', 'nicer', 'nick', 'nicknacks', 'nickname', 'nicola', 'niece', 'niga', 'nigelfarage', 'nigeria', 'nigeriaâ\\x80¦', 'nigga', 'niggas', 'niggaz', 'nigger', 'niggers', 'nighout', 'night', 'nightclub', 'nightmare', 'nights', 'nightsâ\\x80\\x99', 'nightyð\\x9f\\x98´', 'nightâ\\x9c¨â\\x9c¨â\\x9c¨', 'nightð\\x9f\\x92\\x95user', 'nightð\\x9f\\x92¤ð\\x9f\\x98´', 'nikita', 'nikkei', 'nimra', 'nimrod', 'ninja', 'ninomiya', 'ninomiyakazunari', 'nir', 'nissan', 'nite', 'njoyhit40', 'nm', 'noafd', 'noballs', 'nobað\\x9f\\x98\\x82', 'nobdy', 'nobelprize', 'noble', 'nobody', 'noborders', 'nochebuena', 'nocontrol', 'nocturne', 'nodejs', 'noedit', 'noexchangepolicy', 'nofascist2017', 'nofear', 'nofilter', 'nofur', 'noh', 'nohate', 'nohcarolina', 'nohern', 'nohope', 'noida', 'noise', 'nojustice', 'nokkk', 'nolefam', 'nolimit', 'nomakeup', 'nomandate', 'nominate', 'nominee', 'nomore', 'nomorecrackedscreen', 'non', 'nonazis', 'none', 'nonjews', 'nonprofitstatus', 'nonracist', 'nonsensical', 'nonsensâ\\x80¦', 'nonwhite', 'nooltham', 'noone', 'noooo', 'nope', 'nopegida', 'nordiques', 'norfolk', 'norm', 'norma', 'normal', 'normalcy', 'normalizing', 'norman', 'norrisgreen', 'norway', 'norwich', 'noschool', 'nose', 'nosie', 'nostrache', 'nosurprise', 'notallmen', 'notamericaschoice', 'notbaldanymore', 'notborderlands', 'note', 'notfit', 'notfunny', 'notgood', 'nothappy', 'nothing', 'nothng', 'notice', 'noticed', 'notifications', 'noting', 'notlongnow', 'notmine', 'notmypres', 'notmypresident', 'notmypresidenttheresistaâ\\x80¦', 'notmypresidentâ\\x80¦', 'notmypresidnet', 'notmyprez', 'notracist', 'notreally', 'notrump', 'nottingham', 'nottvshow', 'notð\\x9f\\x98\\x9cð\\x9f\\x98\\x91', 'nouveau', 'nov', 'novel', 'novela', 'november', 'novenatogodslove', 'novysposnovytowelsurfgear', 'nowadays', 'nowe', 'nowhere', 'nowi', 'nowine', 'nowplaying', 'nowthattheholidaysaredone', 'noyulin', 'nra', 'ns', 'nsfw', 'nu', 'nuanced', 'nuclear', 'nude', 'nudistâ\\x80¦', 'nudity', 'nudu', 'nuff', 'numb', 'number', 'number1', 'number1dad', 'numbers', 'nunes', 'nurse', 'nursery', 'nut', 'nutrition', 'nuts', 'nutshell', 'nvr', 'nword', 'nxtdublin', 'ny', 'nyc', 'nycÂ', 'nye', 'nye16', 'nyt', 'nytimes', 'nz', 'nzdusd', 'nzpol', 'o2wvgirl', 'oabâ\\x80¦', 'oakland', 'obama', 'obamacare', 'obamajarretts', 'obamalegacy', 'obamanation', 'obamas', 'obesity', 'objectification', 'objectify', 'objective', 'observation', 'obsidian', 'obstacles', 'obstruction', 'obtained', 'obvious', 'obviously', 'occupation', 'occupiers', 'occur', 'occurredâ\\x80\\x95just', 'ocean', 'oclock', 'october', 'odd', 'odds', 'odinserver', 'oecd', 'ofbham', 'ofc', 'ofcourse', 'ofeverything', 'offences', 'offended', 'offensive', 'offensivememes69', 'offer', 'offered', 'offering', 'offers', 'offical', 'office', 'officebearers', 'officer', 'officers', 'officerstaff', 'officerâ\\x80¦', 'official', 'officially', 'officials', 'offline', 'ofhowstrongyouareasa', 'oft', 'often', 'ofw', 'ofâ\\x80¦', 'oh', 'ohhhh', 'ohio', 'ohmybooks', 'oil', 'oiler', 'oils', 'oinb', 'oitnb', 'oitnbseason4', 'oj', 'ojmadeinamerica', 'ok', 'okay', 'okâ\\x80¦', 'olaysocks', 'old', 'oldest', 'olds', 'oldwoman', 'ole', 'oligarch', 'olivar', 'oltmans', 'olushola', 'olympic', 'olympics', 'omarosas', 'ombre', 'omfg', 'omg', 'omits', 'ommmy', 'onda', 'one', 'onelove', 'onemoreday', 'ones', 'oneteamlincoln', 'ongoing', 'online', 'onlyboyineed', 'onlywhitechristmas', 'onlyâ\\x80¦', 'onpoint', 'onsite', 'ontario', 'onto', 'ontoponpointhomealonepeaceful', 'ontothenextnovel', 'onwards', 'onâ\\x80¦', 'oooh', 'ooohhh', 'oops', 'oopsð\\x9f\\x98\\x89ð\\x9f\\x99\\x83', 'ootd', 'ootdwiwtmetodayfwisfashion', 'op', 'open', 'opendemocracy', 'opened', 'opening', 'openingday', 'openly', 'openrp', 'opens', 'openâ\\x80¦â\\x80¦', 'opera', 'opfleuren', 'opinion', 'opinionð\\x9f\\x92¨', 'opiâ\\x80¦', 'opkillingbay', 'opkillingbayã\\x80\\x80seashepherd', 'opkillingbayã\\x80\\x80thecove', 'opkkk', 'opponent', 'oppose', 'opposed', 'opposing', 'opposite', 'opposition', 'oppounity', 'oppress', 'oppressed', 'oppression', 'oppressive', 'oppressiâ\\x80¦', 'oppressor', 'oppressorsprivileged', 'oprah', 'oprollredroll', 'ops', 'opt', 'opticalillusion', 'optimism', 'optimist', 'optimistic', 'optimists', 'option', 'optrump', 'oral', 'orange', 'orangeisthenewblack', 'orantesprincet', 'orb', 'order', 'ordered', 'orders', 'ordinary', 'ordination', 'oregon', 'org', 'organic', 'organiser', 'organization', 'organizations', 'orgasmic', 'orgâ\\x80¦', 'origin', 'originally', 'originated', 'orlando', 'orlandoshooting', 'orlandostaystrong', 'orlandoâ\\x80¦', 'orr', 'orwellian', 'orâ\\x80¦', 'oscar', 'oskar', 'oslo', 'others', 'otherwise', 'ottawa', 'ottawaigers', 'ouch', 'ouchjunior', 'oughta', 'ourhomeâ\\x80¦', 'ourâ\\x80¦', 'oust', 'outburst', 'outdated', 'outdoor', 'outdoors', 'outdoorsâ\\x80¦', 'outfit', 'outfitoftheday', 'outhmm', 'outing', 'outlaw', 'outlets', 'outlining', 'outoftouch', 'outrage', 'outraged', 'outrageous', 'outside', 'outsider', 'outð\\x9f\\x98©ð\\x9f\\x98«ð\\x9f\\x98©ð\\x9f\\x98«ð\\x9f\\x98©ð\\x9f\\x98«ð\\x9f\\x98©ð\\x9f\\x98«ð\\x9f\\x98©ð\\x9f\\x98«ð\\x9f\\x98©ð\\x9f\\x98«ð\\x9f\\x98©', 'ouuh', 'ovarian', 'ove', 'oven', 'overall', 'overcharged', 'overcome', 'overexcited', 'overlap', 'overload', 'overloaded', 'overrode', 'overused', 'overwatch', 'overweight', 'overwhelmed', 'overwhelming', 'overwhelmingly', 'oveurning', 'oveâ\\x80¦', 'ovr', 'owens', 'owes', 'owned', 'owner', 'owâ\\x80¦', 'oxfam', 'oxford', 'oxygen', 'oye', 'ozen', 'p', 'p2', 'p21', 'pa', 'pack', 'package', 'packed', 'packing', 'packyourshitobama', 'padded', 'page', 'page3', 'pageant', 'paicipating', 'paicipation', 'paicularly', 'paid', 'paidnow', 'pain', 'painting', 'paintings', 'pair', 'paisanhack', 'pak', 'pakis', 'pakistan', 'pakistani', 'palace', 'paladino', 'paladinos', 'paladinoâ\\x80\\x99s', 'palestine', 'palestinian', 'palestinians', 'palindromeweek', 'palladino', 'palmademallorca', 'palpable', 'pamelaramseytaylor', 'pamelaramseytaylorpraised', 'pamgelleheracist', 'pamperingâ\\x80¦', 'pandy', 'panel', 'paner', 'paners', 'panthers', 'panties', 'pants', 'pap', 'papa', 'papalbull', 'papaya', 'papað\\x9f\\x98\\x87ð\\x9f\\x98\\x87', 'paperback', 'papers', 'para', 'parade', 'paradereadybeyou', 'paradise', 'paranormal', 'paratyphoid', 'parent', 'parentage', 'parenting', 'parents', 'paris', 'parisattack', 'parisianbreakfast', 'park', 'parking', 'parkridgechamber', 'parks', 'parliament', 'parroting', 'partakes', 'partying', 'pas', 'pass', 'passed', 'passengers', 'passes', 'passing', 'passion', 'passionate', 'passsed', 'passthecourvoisier', 'past', 'pasta', 'pastor', 'pastors', 'pasture', 'pasty', 'patentmcr', 'path', 'pathetic', 'paths', 'patience', 'patienceâ\\x99¥', 'patio', 'patiodesign', 'patioweather', 'patriarchal', 'patriarchy', 'patriotism', 'patriotwatch', 'patronise', 'patrons', 'pattismith', 'paul', 'pauline', 'pavillions', 'pawg', 'pay', 'payday', 'paying', 'payintheusa', 'payment', 'pays', 'paz', 'pc', 'pcgame', 'pcn', 'pdx', 'peace', 'peaceful', 'peacein2017', 'peacekeepers', 'peakyblinders', 'peale', 'peanut', 'peanutbutteralcohol', 'pearlman', 'pearly', 'peculiar', 'pedagogical', 'pedicure', 'pedophile', 'pedophiles', 'pedophilia', 'peds', 'peek', 'peeps', 'pegida', 'peh', 'pei', 'pelosi', 'pembroke', 'pen', 'pending', 'penis', 'penney', 'pennsylvania', 'pennyloafer', 'penting', 'peon', 'people', 'peoples', 'peopleâ\\x80\\x9d', 'peopleâ\\x80¦', 'peotus', 'peppa', 'per', 'perceived', 'percypigs', 'perfect', 'perfecttiming', 'perform', 'performance', 'performer', 'performing', 'perfumer', 'perhaps', 'perhapse', 'period', 'periscope', 'perks', 'permanently', 'permit', 'perpetuates', 'perpetuating', 'perry', 'perse', 'persecution', 'persiancat', 'person', 'personal', 'personalised', 'personality', 'personalizedrecovery', 'personaltrainer', 'persons', 'personð\\x9f\\x91\\x88ð\\x9f\\x8f»', 'perspective', 'peruvian', 'pet', 'pete', 'petite', 'petous', 'pets', 'petunia', 'pewpewlifeâ\\x80¦', 'peâ\\x80¦', 'pfft', 'pharrell', 'pharrellwilliams', 'phd', 'phed20hrs', 'phenomenon', 'philadelphia', 'philandocastile', 'philip', 'phillppines', 'phillysuppophilly', 'philosopher', 'philosophy', 'phone', 'phones', 'photo', 'photographer', 'photographerdubai', 'photographs', 'photography', 'photograpy', 'photooftheday', 'photos', 'photoshoot', 'photoshop', 'phrases', 'phuket', 'physical', 'piano', 'pic', 'pick', 'picked', 'picnic', 'picoftheday', 'picofthedayâ\\x80¦', 'pics', 'picture', 'picturebangladeshi', 'pictures', 'piece', 'pieces', 'pielcanela', 'piercer', 'piercing', 'piers', 'piersmorgan', 'pierss', 'pies', 'pig', 'piggy', 'pigs', 'pigsâ\\x80¦', 'pillbox', 'pillow', 'pillows', 'pin', 'pinata', 'pineapples', 'pink', 'pinoy', 'pipe', 'pipelinesektor', 'pippin', 'piss', 'pissed', 'pissedoffitalian', 'pisses', 'pissing', 'pitaji', 'pitch', 'pittsburgh', 'pivoâ\\x80¦', 'pixion', 'pixiv', 'pizza', 'pizzagate', 'pizzaslicepizzaslice2aoyamapizzayummydelicias', 'pizzaâ\\x9d¤ï¸\\x8f', 'place', 'places', 'plain', 'plak', 'plan', 'plane', 'planet', 'planetð\\x9f\\x92\\x8eð\\x9f\\x92\\x8e', 'planned', 'plannedparenthood', 'planning', 'plans', 'plant', 'plantation', 'planted', 'plants', 'plaster', 'plastic', 'plate', 'plated', 'platform', 'play', 'playa', 'played', 'player', 'players', 'playerâ\\x80¦', 'playground', 'playin', 'playing', 'playinggames', 'playlist', 'playoffs', 'plays', 'playstation', 'pleaaaseee', 'please', 'pleasedontchange', 'pleasure', 'plenty', 'plethora', 'plettenburgbay', 'plight', 'pls', 'plumeria', 'plusmodel', 'plutocrat', 'plz', 'pm', 'po', 'poalorigins', 'poaventura', 'poc', 'podcast', 'poem', 'poems', 'poet', 'poetry', 'pofolio', 'poi', 'point', 'pointed', 'pointer', 'pointers', 'points', 'pointscore', 'poke', 'pokemon', 'pokemonsunandmoon', 'pol', 'poland', 'polandhills', 'polar', 'polarisation', 'polaroid', 'pole', 'police', 'policebrutality', 'policebrutalityâ\\x80¦', 'policecivilian', 'policeman', 'policies', 'policing', 'policy', 'political', 'politicalcorrectness', 'politically', 'politicalmillennial', 'politician', 'politicians', 'politics', 'politicsâ\\x80¦', 'poll', 'polygamist', 'polygeny', 'ponytail', 'pooh4u', 'poohing', 'pool', 'poopin', 'poor', 'poorafghans', 'poorguy', 'poorâ\\x80¦', 'pop', 'popa', 'popefrancis', 'popey', 'popeyevillage', 'popular', 'popularvote', 'population', 'populationcontrol', 'populism', 'poray', 'porcelain', 'porchia', 'porcupine', 'porn', 'pornisforlosers', 'porns', 'pornstars', 'pos', 'pose', 'posing', 'position', 'positions', 'positive', 'positivementalattitude', 'positivevibes', 'positiveâ\\x80¦', 'positivity', 'positivityâ\\x80¦', 'possibility', 'possible', 'possibleâ\\x80¦', 'post', 'postbrexit', 'posted', 'poster', 'postholiday', 'posting', 'postion', 'postit', 'posts', 'pot', 'potatofilling', 'potential', 'potion', 'potp', 'potter', 'potus', 'pound', 'pounds', 'pouring', 'pov', 'povey', 'poweools', 'poweothewomen', 'power', 'powerful', 'powerhungrytraitors', 'powers', 'powerâ\\x80¦', 'ppl', 'pple', 'ppleeyan', 'ppls', 'ppoppo', 'ppoppobtsarmyhappydaysmilecutegooddaygoodnitesleepwell', 'pr', 'practical', 'practice', 'praised', 'prank', 'prankster', 'pray', 'prayer', 'prayers', 'prayfoheworld', 'prayforamerica', 'prayforhumanity', 'prayfororlando', 'prayforourworld', 'praying', 'pre', 'preach', 'precap', 'precisely', 'precisionâ\\x80¦', 'precrime', 'predatorâ\\x80¦', 'predictions', 'preferences', 'pregnant', 'prejudice', 'prejudiced', 'preorder', 'preordered', 'preprogrammed', 'prerequisites', 'pres', 'preschoolers', 'present', 'presentation', 'presented', 'presenter', 'presents', 'president', 'presidental', 'presidentelect', 'presidential', 'presidentobama', 'presidentpussygrabber', 'presidents', 'presidenttrump', 'presiding', 'press', 'pressconference', 'presses', 'pressie', 'pressure', 'pretending', 'pretheatre', 'prettiest', 'pretty', 'prettypussy', 'prevail', 'prevalent', 'prevent', 'preventable', 'prevented', 'prevents', 'preview', 'previous', 'preying', 'prez', 'prezzie', 'price', 'priceless', 'prices', 'prick', 'pride', 'pride2016', 'pridela', 'pridemake', 'priest', 'primaries', 'primed', 'prince', 'princecharles', 'princess', 'principal', 'principality', 'print', 'printed', 'printers', 'printing', 'prints', 'prioritized', 'prison', 'prisoners', 'prisonu', 'prisonâ\\x9a¡ï¸\\x8f', 'private', 'priviledge', 'privilege', 'priyankachopra', 'pro', 'probably', 'probabâ\\x80¦', 'probation', 'probe', 'probed', 'problem', 'problematic', 'problemofwhiteness', 'problems', 'process', 'procrastinate', 'procreate', 'producer', 'producers', 'product', 'production', 'productive', 'productivity', 'products', 'prof', 'profession', 'professions', 'professor', 'profile', 'profiled', 'profiling', 'profit', 'profitable', 'profiting', 'program', 'programme', 'progress', 'progressive', 'progressives', 'progressâ\\x80¦', 'progresverebel', 'prohibition', 'proimmigrant', 'project', 'projecting', 'projection', 'projects', 'prolapsed', 'promise', 'promises', 'promote', 'promoting', 'promotions', 'prompts', 'pron', 'proof', 'prooâ\\x80¦', 'propaganda', 'propalestine', 'proper', 'properly', 'propey', 'propoganda', 'propose', 'props', 'prorapist', 'pros', 'prosecute', 'prosecuted', 'prosecutor', 'prosecutorialmisconduct', 'prospect', 'prostitutes', 'protect', 'protecting', 'protection', 'protects', 'protest', 'protesters', 'protesting', 'protests', 'proud', 'proudly', 'proudmama', 'proudmother', 'proudtobeanamerican', 'proudâ\\x80¦', 'prove', 'proved', 'proven', 'provenâ\\x80¦', 'proverb', 'proves', 'provide', 'provider', 'provincial', 'provocateur', 'provoking', 'prowar', 'ps', 'ps4', 'psa', 'pse', 'pseudoscience', 'psycho', 'psychological', 'psychopath', 'psyco', 'pt', 'ptð\\x9f\\x99\\x84', 'pub', 'pubfriction', 'public', 'publicity', 'publicly', 'publicpolicy', 'publicserviceannouncement', 'publisherâ\\x80\\x9d', 'publishing', 'pueorico', 'puglife', 'pull', 'pulled', 'pulls', 'pulse', 'pulseclub', 'pulsenightclubshooting', 'pulseshooting', 'pumped', 'pumping', 'pumpkin', 'punching', 'pundits', 'punjab', 'punjabis', 'punks', 'pup', 'pupil', 'puppet', 'puppies', 'puppy', 'puppylove', 'pupsofsg', 'purchased', 'pure', 'puresweetness', 'purge', 'purpose', 'purposedly', 'push', 'pushing', 'pussies', 'pussy', 'pussygrabber', 'pussygrabberinchief', 'put', 'putin', 'putinism', 'putinplant', 'putinpuppet', 'putins', 'putinsbitch', 'putinschoice', 'putinspuppet', 'putinâ\\x80¦', 'puts', 'putting', 'pwcproud', 'python', 'python27', 'pâ\\x80¦', 'qal', 'qatar', 'qatil', 'qb', 'qotd', 'qpac', 'qua', 'quaer', 'qualifications', 'qualified', 'qualify', 'quality', 'quantico', 'quantities', 'quarantine', 'quay', 'quebec', 'quebecs', 'queen', 'queenat90', 'queenâ\\x80¦', 'quest', 'question', 'questioned', 'questions', 'queue', 'quexpark', 'quick', 'quicker', 'quickly', 'quiet', 'quietly', 'quit', 'quite', 'quitting', 'quiz', 'quotas', 'quote', 'quoted', 'quoteoftheday', 'quotes', 'quran', 'qusay', 'r', 'r1rockalldayer', 'raalhugandu', 'rabid', 'race', 'racebait', 'racebaiter', 'racebaiting', 'racecard', 'racemix', 'raceonly', 'raceplay', 'races', 'racetraitors', 'racewar', 'racewarchess', 'raceâ\\x80¦', 'rachelmaddow', 'racial', 'racialequity', 'racially', 'racing', 'raciolinguistics', 'racism', 'racismfacinghisâ\\x80¦', 'racismâ\\x80\\x99', 'racist', 'racistdeathwish', 'racists', 'racistsâ\\x80¦', 'racistâ\\x80\\x99', 'racisâ\\x80¦', 'racâ\\x80¦', 'radical', 'radicalisation', 'radicalislamic', 'radicalism', 'radio', 'radio1', 'radio2', 'rafalwojcicki', 'rage', 'raghuramrajan', 'raging', 'rags', 'raid', 'raids', 'rain', 'rainbow', 'raincoat', 'rained', 'rainwater', 'rainy', 'raise', 'raised', 'raising', 'raison', 'rajo', 'rally', 'rallypoland', 'ramadan', 'ramadankareem', 'rambling', 'ramdan', 'rampant', 'ran', 'randomly', 'rangers', 'rant', 'ranting', 'rants', 'rap', 'rapacious', 'rape', 'rapebut', 'rapechucktoddâ\\x80¦', 'rapeculture', 'rapeugee', 'rapflashback', 'rapist', 'rapists', 'rappist', 'rare', 'rarethousâ\\x80¦', 'rascalsâ\\x80¦', 'rashford', 'rat', 'rate', 'rates', 'rather', 'ratings', 'rational', 'rationchallenge', 'rats', 'raw', 'raygun', 'rayos', 'rays', 'raysup', 'razer', 'raâ\\x80¦', 'rb', 'rd', 'reach', 'reached', 'reaching', 'react', 'reaction', 'reactionary', 'reactionâ\\x80¦', 'reactors', 'read', 'reading', 'readingbuying', 'ready', 'readyfoheday', 'readymade', 'readyornot', 'readytowork', 'readyâ\\x80¦', 'reagan', 'reagans', 'real', 'realhousewives', 'realise', 'reality', 'realitycheck', 'realize', 'realized', 'realizing', 'realiâ\\x80¦', 'really', 'realm', 'realmvp', 'realtimechem', 'reappraise', 'rear', 'reason', 'reasonable', 'reasons', 'reassuring', 'rebel', 'rebelhea', 'rebellion', 'rebranded', 'rebranding', 'recast', 'received', 'recent', 'recently', 'reception', 'receptionist', 'recharge', 'reckons', 'recognize', 'recommend', 'reconciliation', 'reconsider', 'record', 'recordeven', 'records', 'recover', 'recovered', 'recovers', 'recovery', 'recruitment', 'rector', 'red', 'redacts', 'redcove', 'redditchbizhour', 'redeem', 'redhead', 'redo', 'redrain', 'redseason', 'redskelton', 'redtube', 'reducing', 'reefers', 'reel', 'reelection', 'reellifers', 'reemergence', 'ref', 'refer', 'referendum', 'referring', 'refers', 'refillable', 'reflect', 'reflected', 'reflections', 'reflective', 'reflects', 'refresher', 'refugee', 'refugees', 'refugeeswelcome', 'refugeeweek', 'refuse', 'refuses', 'refuted', 'reg', 'regarding', 'regards', 'regas', 'regime', 'reginald', 'region', 'register', 'registered', 'regnant', 'regrann', 'regressive', 'regret', 'regular', 'regularass', 'regulations', 'regurgitated', 'rehearse', 'rehired', 'reich', 'reinforced', 'reinventimpossible', 'reject', 'rejected', 'rejects', 'relates', 'relation', 'relations', 'relationship', 'relationshipgoals', 'relationships', 'relatives', 'relax', 'relaxation', 'relaxed', 'relaxing', 'release', 'released', 'releasing', 'relevant', 'reliability', 'relied', 'relief', 'religion', 'religionofpeace', 'religions', 'religious', 'remain', 'remained', 'remainers', 'remains', 'remake', 'remark', 'remarks', 'remarksâ\\x80¦', 'remarque', 'remastered', 'remedies', 'remember', 'remihontour', 'reminded', 'reminder', 'reminding', 'reminds', 'remote', 'remove', 'removed', 'removing', 'rendition', 'renowned', 'rep', 'reparations', 'repeat', 'repeating', 'repetitive', 'replacyclay', 'replies', 'reply', 'repo', 'repoed', 'repoer', 'repoing', 'repoingsystem', 'repos', 'repost', 'repostapp', 'repping', 'reprehensible', 'represent', 'representation', 'representations', 'represents', 'reproductiverights', 'republican', 'republicans', 'republicantrash', 'republicwhitepower', 'repug', 'repugnant', 'repulsion', 'repulsive', 'reputation', 'request', 'required', 'requirement', 'requires', 'rescued', 'rescuepup', 'research', 'researchers', 'resent', 'reserved', 'residents', 'resign', 'resignation', 'resignationâ\\x80\\x9d', 'resigned', 'resigns', 'resilience', 'resist', 'resistance', 'resnick', 'reso', 'resolution', 'resolutions', 'resolve', 'reson', 'resource', 'resources', 'respect', 'respectâ\\x80¦', 'respond', 'responded', 'respondersorlando', 'responding', 'responds', 'response', 'responsibilities', 'rest', 'restaurant', 'restaurants', 'resting', 'restinlovechristina', 'restinpiecechristina', 'restrained', 'restricted', 'restructure', 'result', 'resultant', 'results', 'resurrected', 'retail', 'retailtherapy', 'retard', 'rethinkdiscipline', 'retrain', 'retro', 'return', 'returning', 'returningcitizens', 'returnmyvinyl', 'returns', 'retweet', 'retweeted', 'retweetâ\\x80¦', 'reunite', 'reunited', 'reveal', 'revealed', 'reveals', 'revenge', 'revenue', 'reverse', 'reversed', 'revhealth', 'review', 'revival', 'revoltingly', 'revolution', 'revolutionschool', 'rewrite', 'rewrote', 'rexy', 'rhashtags', 'rhetoric', 'rhoaâ\\x80¦', 'rhonda', 'rhymes', 'rhythm', 'rica', 'rich', 'richardspencer', 'richie', 'rickastley50', 'rickityrick', 'riclswtravelbook', 'rid', 'riddance', 'ride', 'rider', 'riders', 'ridiculous', 'ridiculously', 'riding', 'rife', 'rifle', 'riga', 'right', 'righteous', 'rightfully', 'rightie', 'rightist', 'rightly', 'rightnow', 'rights', 'rightâ\\x80¦', 'rihanna', 'rileysteele', 'rima', 'ring', 'rinpoche', 'rip', 'ripchamp', 'ripchristina', 'ripchristinagrimmie', 'ripdolla', 'ripgop', 'ripinkylife', 'riporlando', 'ripped', 'ris', 'ris2016', 'risay18', 'risaypls', 'rise', 'rises', 'risha', 'risk', 'river', 'riverisland', 'riyadh', 'rn', 'rnc', 'rns16', 'ro', 'road', 'roads', 'roadtripâ\\x80¦', 'roamingaround', 'roar', 'robbiewilliams', 'robbing', 'robe', 'robinson', 'robsonkanu', 'rochester', 'rock', 'rocket', 'rockette', 'rocketð\\x9f\\x98\\x8d', 'rockineve', 'rocks', 'rocksteddy', 'rockthepark', 'rockâ\\x80¦', 'roelant', 'roger', 'rogergoodell', 'rohingya', 'rohingyas', 'role', 'rolemodel', 'roll', 'romance', 'romancehe', 'romances', 'romania', 'ronda', 'rondarousey', 'roof', 'rooftops', 'room', 'roommates', 'rooney', 'rooseveltâ\\x80¦', 'rooster', 'root', 'rooted', 'roots', 'rosaleeampaddie', 'rose', 'roses', 'rosie', 'rotakids', 'rotheather', 'rother', 'rotten', 'rotterdam', 'rottweilers', 'rough', 'roughly', 'roughwaters', 'round', 'rousey', 'route66', 'routine', 'row', 'royals', 'rozthediva', 'rr', 'rsf', 'rub', 'rubio', 'rude', 'rue', 'rugby', 'ruin', 'rule', 'rules', 'rulâ\\x80¦', 'rumi', 'run', 'runbeck', 'running', 'runs', 'rupemurdochs', 'rush', 'rushlimbaugh', 'russellbeckwith', 'russia', 'russiagate', 'russian', 'russiangirl', 'russianhack', 'russias', 'russiað\\x9f\\x96\\x95ð\\x9f\\x96\\x95ð\\x9f\\x96\\x95', 'rustic', 'ruthuteando', 'rutland', 'rwnj', 'ryderrideu', 'ryt', 'râ\\x80¦', 's1', 's2', 's6', 'saaaaaaaaa', 'saavoyagermiles', 'sabbath', 'sabinedrift', 'sabotage', 'sachintendulkar', 'sacrificed', 'sad', 'saddened', 'saddest', 'saddles', 'sadley', 'sadly', 'sadness', 'safarilive', 'safe', 'safehaven', 'safely', 'safety', 'saga', 'sagar', 'said', 'saidâ\\x80¦', 'sailing', 'sainsburys', 'saint', 'sajnani', 'sake', 'sakesstop', 'salad', 'sale', 'saleh', 'sales', 'salt', 'salty', 'salutbut', 'salute', 'salutethefather', 'salvation', 'sam', 'samachar', 'samaria', 'samehypocrite', 'sameshitnewyear', 'sammaki', 'samwu', 'san', 'sanasafinaz', 'sanders', 'sandiego', 'sandniggers', 'sands', 'sandwiches', 'sandy', 'sandyhook', 'sanfrancisco', 'sangriasaludcheers', 'sanjapan', 'sanogo', 'sans', 'santa', 'santaproject', 'santorini', 'sanya', 'sara', 'sarahð\\x9f\\x98\\x86', 'sarajevo', 'sarcasm', 'sarcasmâ\\x80¦', 'sarcastic', 'sas', 'saskatchewan', 'sasquatchbrewing', 'sat', 'satanists', 'satire', 'satisfaction', 'satisfy', 'satisfying', 'satnight', 'satnite', 'saturday', 'saturdayblogshareâ\\x80¦', 'saturdaynight', 'saturdays', 'saturdayð\\x9f\\x92\\x8bð\\x9f\\x92¨ð\\x9f\\x98¤', 'saturdaâ\\x80¦', 'saudi', 'savagery', 'save', 'savecharity', 'saved', 'saves', 'savor', 'saw', 'say', 'saydyslexia', 'sayeth', 'sayin', 'saying', 'says', 'saysomething', 'saâ\\x80¦', 'sblaar16', 'scalds', 'scale', 'scam', 'scan', 'scapegoat', 'scapelliti', 'scared', 'scarf', 'scars', 'scary', 'scatter', 'scene', 'scenery', 'scenes', 'schedule', 'schmidt', 'school', 'schools', 'schoolsupplies', 'schuster', 'schwandorfchwandorf', 'science', 'sciencefiction', 'scientists', 'scifi', 'scooting', 'scope', 'score', 'scores', 'scotiabank', 'scotland', 'scottieandrussell', 'scotus', 'scourge', 'scraggly', 'scrappy', 'scraps', 'scream', 'screaming', 'screamingâ\\x80¦', 'screen', 'screening', 'screens', 'screenshot', 'script', 'scrolls', 'scrubs', 'scrutinize', 'sctop10', 'scum', 'scumbag', 'scumbaggery', 'scumð\\x9f\\x98\\x82ð\\x9f\\x91\\x8dð\\x9f\\x8f¼', 'scurvy', 'sdcc', 'sdgs', 'sdl326am', 'sdlive', 'sdob', 'sdoh', 'sea', 'seahawks', 'seal', 'sealed', 'search', 'seashepherd', 'seasideheights', 'season', 'season4', 'seat', 'seats', 'seattle', 'seb5', 'sebbo', 'sebidigitaldays', 'sec', 'second', 'seconds', 'secondtime', 'secret', 'secretaryofstate', 'secretly', 'secrets', 'secure', 'secured', 'security', 'sedition', 'seductive', 'see', 'seed', 'seeing', 'seek', 'seeked', 'seekers', 'seeking', 'seeklearning', 'seeks', 'seem', 'seems', 'seen', 'sees', 'segregate', 'segregation', 'selah', 'selected', 'selectionâ\\x80¦', 'selena', 'selenaquintanilla', 'self', 'selfcare', 'selfharm', 'selfhating', 'selfie', 'selfimprovement', 'selfish', 'selfloathing', 'selflove', 'selfporait', 'selfserving', 'selfshot', 'sell', 'seller', 'selling', 'semantics', 'seminar', 'semiretarded', 'semitic', 'senad', 'senate', 'send', 'send4o404', 'sending', 'sends', 'sense', 'senseaboutmaths', 'senseandsensibility', 'senseless', 'senselessly', 'sent', 'sentence', 'sentiments', 'seo', 'separate', 'sepatu', 'sept', 'september', 'sequel', 'sequoia', 'serafini', 'serial', 'series', 'serious', 'seriously', 'seriouslyslow', 'servant', 'servants', 'serve', 'serves', 'service', 'serving', 'session', 'sessions', 'set', 'seth', 'setting', 'settle', 'settlement', 'settlements', 'seven', 'seventies', 'sewage', 'sewer', 'sex', 'sexest', 'sexism', 'sexist', 'sexliesnegosguess', 'sexoffender', 'sexpredator', 'sexting', 'sexual', 'sexualassultâ\\x80¦', 'sexualbullying', 'sexualharassment', 'sexuality', 'sexualpredator', 'sexy', 'sexybbw', 'sexysaturday', 'sgig', 'shabbatshalom×§×§ã\\x80\\x80user', 'shackles', 'shades', 'shadowed', 'shagged', 'shake', 'shakes', 'shakib', 'shakur', 'shalala', 'shall', 'shallow', 'shame', 'shameful', 'shameless', 'shamelessly', 'shamâ\\x80¦', 'shane', 'shanghai', 'shanghaidisneyland', 'shape', 'share', 'shares', 'sharethelove', 'sharia', 'sharing', 'sharks', 'sharp', 'sharpens', 'shatter', 'shedule', 'sheep', 'sheets', 'shegotmarried', 'shelvey', 'shepherd', 'sheree', 'sheriff', 'shes', 'sheð\\x9f¤\\x94', 'shhhhhhhe', 'shi', 'shift', 'shifts', 'shikar', 'shikari', 'shikarifull', 'shiless', 'shill', 'shine', 'shis', 'shit', 'shitfest', 'shitler', 'shitshow', 'shitty', 'shitz', 'sho', 'shoage', 'shock', 'shocked', 'shocker', 'shockfactor', 'shocking', 'shockingly', 'shoes', 'shofilm', 'shoot', 'shooter', 'shooters', 'shooting', 'shootings', 'shop', 'shopalyssas', 'shoppers', 'shopping', 'shoppingqueen', 'shopsmall', 'shore', 'shos', 'shosâ\\x80¦', 'shot', 'shotermlongdistance', 'shotgirl', 'shoulder', 'shouldnt', 'shout', 'shouts', 'shouâ\\x80¦', 'show', 'showcase', 'showed', 'shower', 'showering', 'showing', 'showmeyoureawoman', 'shown', 'shows', 'showtime', 'showyourjeepday', 'showâ\\x80\\x99', 'shrouded', 'shuckinandjivin', 'shut', 'shuts', 'shy', 'shyan', 'shâ\\x80¦', 'si', 'sic', 'sick', 'sickening', 'sid', 'siddique', 'side', 'sided', 'sides', 'sierra', 'sigamnos', 'sigh', 'sight', 'sightâ\\x80\\x99', 'sign', 'signal', 'signed', 'signing', 'signofthetimes', 'signs', 'sikh', 'silence', 'silent', 'silver', 'silveragatka', 'similar', 'simon', 'simple', 'simpleton', 'simplistic', 'simply', 'simpson', 'simulation', 'simulator', 'sin', 'since', 'sinceâ\\x80¦', 'sing', 'singapore', 'singaporemoments', 'singer', 'singing', 'single', 'singlelife', 'sinks', 'sinkthepink', 'sins', 'sir', 'sirf', 'siri', 'sirð\\x9f\\x99\\x8cð\\x9f\\x98\\x8a11', 'sis', 'sisko', 'siste', 'sister', 'sisteradventures', 'sisterinlaw', 'sisters', 'sistersofcolour', 'sis”', 'sit', 'site', 'sites', 'sitgesgaypride', 'sitting', 'situation', 'situmorang', 'situtation', 'sivakoratala', 'sixty', 'size', 'sizescuts', 'sjw', 'sjwlogic', 'sjws', 'skank', 'skate', 'sketches', 'sketchy', 'ski', 'skies', 'skills', 'skin', 'skinheads', 'skinned', 'skinny', 'sky', 'skynews', 'skyrim', 'skywilliams', 'slag', 'slammed', 'slander', 'slant', 'slap', 'slapcam', 'slash', 'slave', 'slavelabor', 'slaveowner', 'slavery', 'slaverâ\\x80¦', 'slaves', 'sleep', 'sleeping', 'sleepnumber', 'sleeps', 'sleeves', 'slew', 'sliced', 'slices', 'sliding', 'slime', 'slip', 'slit', 'slogan', 'slots', 'slow', 'slug', 'slugg', 'slumps', 'slur', 'slurs', 'slut', 'slutty', 'sm', 'sma', 'smackdown', 'smacks', 'smaer', 'smaimmigration', 'small', 'smallbiz', 'smaller', 'smallest', 'smallminded', 'smaphone', 'smark', 'smarkð\\x9f\\x92\\x8bâ\\x99¡', 'smashedâ\\x80¦and', 'sme', 'smell', 'smells', 'smh', 'smile', 'smileegsmile', 'smilelaugh', 'smilemore', 'smilepowerday', 'smiles', 'smilesblackandwhite', 'smileselenastyle', 'smilesâ\\x80¦', 'smileyong', 'smileâ\\x98ºï¸\\x8fð\\x9f\\x99\\x86', 'smileâ\\x9d¤ï¸\\x8fð\\x9f\\x97£ð\\x9f¤\\x98ð\\x9f\\x8f½', 'smiling', 'smith', 'smog', 'smoke', 'smoking', 'smooth', 'smoother', 'sms', 'smss', 'smth', 'smug', 'smythe', 'snake', 'snapchat', 'snappy', 'snaps', 'snapshot', 'snatch', 'snatched', 'sneak', 'sneakpeek', 'sneaky', 'sniff', 'snobs', 'snorkel', 'snowball', 'snowed', 'snowflake', 'snowflakes', 'snowpeople', 'soa', 'sob', 'soccer', 'social', 'socialclass', 'socialist', 'socialists', 'socialized', 'socialjustice', 'socialjusâ\\x80¦', 'socially', 'socialmedia', 'socialmooc', 'societies', 'society', 'societys', 'sociopath', 'sociopathic', 'socks', 'soed', 'sohappyâ\\x80¦', 'solaris', 'sold', 'soldiersâ\\x80¦', 'soldâ\\x80¦', 'solid', 'solidarity', 'solutions', 'solve', 'solved', 'somebody', 'somedaysomeone', 'somehow', 'someone', 'someonecomewithme', 'someones', 'someonesbihdaysomewhere', 'something', 'sometime', 'sometimes', 'somewhere', 'son', 'sonasays', 'song', 'songgreat', 'songs', 'songtell', 'songwords', 'sonrisa', 'sons', 'soo', 'soon', 'sooo', 'soooo', 'sooooo', 'sophisticated', 'soppy', 'sorana', 'soreloser', 'soroptimist', 'soros', 'sorrow', 'sorry', 'soslow', 'soul', 'soulmate', 'soulmates', 'soulmatethe', 'souls', 'soulâ\\x80¦', 'sound', 'soundbite', 'sounds', 'source', 'sourcenation', 'sources', 'south', 'southafrica', 'southern', 'southsudan', 'southsudankot', 'southyorks', 'southâ\\x80¦', 'sovereignty', 'sow', 'soâ\\x80¦', 'sp', 'spa', 'space', 'spaciba', 'spacing', 'spain', 'spam', 'spaniel', 'spanish', 'spanking', 'spark', 'sparkle', 'sparkles', 'sparkling', 'sparks', 'spaâ\\x80¦', 'speak', 'speaker', 'speaking', 'speaks', 'special', 'specialday', 'specific', 'specifically', 'spectrum', 'speech', 'speeches', 'speechless', 'speechà²\\x9cà³\\x80à²µà²¨', 'spell', 'spend', 'spent', 'spew', 'spice', 'spiced', 'spike', 'spiky', 'spin', 'spine', 'spinning', 'spirit', 'spirited', 'spirituality', 'spit', 'spitting', 'splendid', 'split', 'spo', 'spoilers', 'spoiling', 'spoilt', 'spoke', 'spokesperson', 'sponsored', 'spoon', 'spoonieproblems', 'spos', 'sposdirectshame', 'sposwriters', 'spot', 'spotify', 'spotlight', 'spotstudio', 'spoty', 'spray', 'sprayed', 'spread', 'spreadlovethischristmas', 'spree', 'spring', 'springhaul', 'springst', 'springstâ\\x80¦', 'sprinttriatholonâ\\x80¦', 'squad', 'squadgoals', 'srk', 'ss', 'ssms16', 'ssnaddresshome', 'ssnit', 'st', 'sta', 'stab', 'stable', 'stacy', 'stadium', 'staed', 'staff', 'staffordshirebullterrier', 'staffy', 'stafresh', 'stage', 'stages', 'staging', 'stain', 'staing', 'stalets', 'stalk', 'stalking', 'stamford', 'stance', 'stand', 'standard', 'standards', 'standing', 'stands', 'standwithisrael', 'standwithorlando', 'standâ\\x80¦', 'stanley', 'stanleycup', 'star', 'starawards', 'starbuck', 'starbucks', 'stared', 'starek', 'starkes', 'starmoviessecretscreening', 'stars', 'starsofthefuture', 'starspangledbanner', 'starstruck', 'starwars', 'starwarsrogueoneÂ', 'stas', 'state', 'stateampfederal', 'statement', 'statementdoubling', 'statements', 'statementâ\\x80¦', 'states', 'station', 'stats', 'status', 'staup', 'stay', 'stayed', 'staylocal', 'staystrong', 'staytuned', 'staywoke', 'steak', 'steakandshake', 'steaks', 'steal', 'stealing', 'stella', 'stellar', 'stem', 'step', 'steph', 'stephcurrys', 'stepmom', 'stepping', 'steps', 'stereophonics', 'stereotype', 'stereotypes', 'stereotyping', 'steubenville', 'steward', 'stick', 'sticker', 'stickers', 'still', 'stillwithher', 'stimulates', 'stinking', 'stirs', 'stitch', 'stl', 'stlouis', 'sto', 'stock', 'stockholm', 'stocking', 'stockpiles', 'stoked', 'stole', 'stolen', 'stomping', 'stone', 'stoned', 'stones', 'stoney', 'stood', 'stop', 'stopped', 'stoppeâ\\x80¦', 'stopping', 'stopracism', 'stops', 'stopsexism', 'stoptalking', 'stopthehate', 'stopthewars', 'store', 'stored', 'stores', 'stories', 'storm', 'storms', 'story', 'storytelling', 'storyville', 'stpaulslondon', 'stpp', 'str', 'straght', 'straight', 'strange', 'strangely', 'strategy', 'straw', 'strawberry', 'straya', 'stream', 'streamer', 'streams', 'street', 'streetautopia', 'streetfighter', 'streets', 'streetstyleâ\\x80¦', 'strength', 'stress', 'stressfree', 'stretch', 'strident', 'striker', 'strikes', 'strings', 'strip', 'stripe', 'strobe', 'stroke', 'stroller', 'strolling', 'strong', 'stronger', 'structure', 'struggle', 'struggles', 'struggling', 'stuakenyon81', 'stuck', 'stud', 'student', 'students', 'studied', 'studio', 'studioflow', 'studiotime', 'study', 'studying', 'stuff', 'stuffed', 'stumble', 'stunning', 'stupid', 'stupidest', 'stupidity', 'stupids', 'stupidthoughts', 'stupidto', 'sturgeon', 'style', 'stylemile', 'styles', 'stylish', 'suarezâ\\x80\\x99s', 'subdued', 'subhuman', 'subj', 'subjected', 'subscribe', 'substantially', 'substantive', 'subtle', 'subversive', 'success', 'successful', 'suck', 'sucked', 'suckin', 'suckiness', 'sucklahoma', 'sucks', 'sucksâ\\x80¦', 'sue', 'suffrage', 'sugar', 'suggest', 'suggests', 'suicidal', 'suicide', 'suicidegirls', 'suing', 'suit', 'suite', 'sukhbir', 'sulfur', 'summeime', 'summer', 'summer2016', 'summerevening', 'summerisbetter', 'summerâ\\x80¦', 'summev', 'sums', 'sun', 'sunbury', 'sunday', 'sundaybrunch', 'sundayfunday', 'sundaymorning', 'sundaynightgirlsasiangirlfun', 'sundayrewind', 'sundayð\\x9f\\x92\\x95', 'sunderland', 'sundown', 'sunflowers', 'sunglasses', 'sunndayð\\x9f\\x92\\x8b', 'sunny', 'sunnyday', 'sunnyskies', 'sunrise', 'sunset', 'sunshine', 'sup', 'super', 'superhero', 'superior', 'supermariorun', 'supermistict', 'superspoilt', 'superstar', 'superwomen', 'superxcited', 'supplies', 'supply', 'suppo', 'suppobg', 'suppoed', 'suppoer', 'suppoers', 'suppoindiefilm', 'suppoing', 'suppoive', 'support', 'suppos', 'supposed', 'supposedly', 'suppression', 'suppâ\\x80¦', 'supremacists', 'supremacy', 'supremecou', 'supremely', 'sure', 'surely', 'sureâ\\x80¦', 'surf', 'surface', 'surfday', 'surgery', 'surgical', 'surly', 'surprise', 'surprised', 'surprisethe', 'surrogate', 'surrounded', 'survey', 'surveys', 'survive', 'survived', 'survivor', 'susanna', 'suspected', 'suspects', 'suspend', 'suspended', 'sustainable', 'suv', 'suzanne', 'svpol', 'svsu', 'swagfringedayoffgoodday', 'swalscha', 'swamp', 'swampmonster', 'swap', 'swastika', 'swastikas', 'sway', 'swear', 'sweater', 'sweaty', 'sweep', 'sweepâ\\x80\\x9d', 'sweet', 'sweetbabins', 'sweethea', 'sweetie', 'sweetness', 'sweetpotato', 'sweets', 'sweety', 'swiftly', 'swim', 'swimming', 'swimwear', 'swimwhatever', 'swing', 'swinging', 'swingtanzenverboten', 'switch', 'switching', 'sydneyâ\\x80¦', 'symbol', 'symbols', 'sympathisers', 'sympathized', 'syndrome', 'syria', 'syrianrefugees', 'system', 'systemic', 'systemicracism', 'systems', 'sâ\\x80¦', 't9', 'ta', 'tabarez', 'tables', 'tackle', 'tackling', 'tacky', 'tacloban', 'taeyeon', 'tag', 'tagg', 'tagging', 'tags', 'tagsforlikebeautifulselfiegâ\\x80¦', 'tagsforlikes', 'taharrush', 'taharrushgamea', 'tahiti', 'tailss', 'tainting', 'takalot', 'take', 'taken', 'takes', 'taketime', 'takin', 'taking', 'takingoverâ\\x80¦', 'takuyakimura', 'tale', 'talend', 'talent', 'talented', 'taliban', 'talk', 'talked', 'talking', 'talkradio', 'talks', 'tamanna', 'tamirrice', 'tampa', 'tan', 'tank', 'tanned', 'tantrum', 'tap', 'tape', 'tapfoags', 'tara', 'taragon', 'target', 'targets', 'tarlac', 'tarnishing', 'tasar', 'task', 'tasksgrodner', 'taste', 'tasty', 'tat', 'tatay', 'tate', 'tattler', 'tattoo', 'tattoocollection', 'tattoos', 'tattoosleeves', 'taught', 'taunton', 'tax', 'taxevader', 'taxi', 'taxonomies', 'taxpayer', 'taxpayers', 'taxwriteoff', 'taylorswift1989', 'tbc', 'tbt', 'tbtâ\\x80¦', 'tbâ\\x80¦', 'tcashowroom', 'tcot', 'tdy', 'te', 'tea', 'teach', 'teacher', 'teaches', 'teaching', 'team', 'teamandre', 'teambts', 'teambtsâ\\x80¦', 'teamcancer', 'teamd', 'teammacb', 'teammichaelpalage', 'teams', 'teamsp', 'teamsschools', 'teamsuperjunior', 'teamsuperjuniorâ\\x80¦', 'teamworkmakesthedreamwork', 'teapay', 'tear', 'tearjerker', 'tears', 'tech', 'techie', 'techjunkiejhaltright', 'techjunkiejhâ\\x80\\x98the', 'tedatibm', 'teddy', 'tedinstitute', 'tedtalks', 'teen', 'teenager', 'teenagers', 'teenageson', 'teeny', 'teeth', 'tefugeeswelcome', 'tehaleh', 'tell', 'tellall', 'telling', 'tells', 'telltales', 'temper', 'temple', 'temporary', 'temptation', 'ten', 'tenacity', 'tend', 'tendencies', 'tenerife', 'tennessee', 'tens', 'tequila', 'teresa', 'terika', 'term', 'termed', 'terminamos', 'terminator', 'terming', 'terminology', 'terms', 'terraced', 'terrible', 'terribly', 'terrific', 'terrified', 'territoriohello', 'terror', 'terrorattack', 'terrorism', 'terrorismâ\\x80\\x9d', 'terrorist', 'terrorists', 'terrorize', 'terry', 'test', 'testimonials', 'testing', 'tests', 'tetanusimmunization', 'texas', 'texaspoker', 'tf', 'tg', 'tgif', 'tgifriday', 'th', 'tha', 'thailand', 'thailandnight', 'thank', 'thankful', 'thankfulthursday', 'thanks', 'thanksgiving', 'thanksjackasses', 'thankstomyspecialsomeone', 'thankstwitter', 'thankyou', 'thankyoufororderingcake', 'thankyouâ\\x80¦', 'thatblacklivesmatterâ\\x80¦', 'thatguy', 'thats', 'thatthen', 'thatzille', 'thatÂ', 'thatâ\\x80\\x99s', 'thatâ\\x80¦', 'thaâ\\x80¦', 'the1975', 'thealter', 'thebachelorette', 'thebomb', 'theboss', 'thecolorrun', 'thecomeback', 'thecove', 'thefuck', 'thefuture', 'thefutureisfemale', 'thegooddinosaur', 'thegoodlife', 'thegreenpalmcottage', 'thegrove', 'thehennarealm', 'thehighlight', 'theistic', 'thejourneybegins', 'thekilling', 'thekingsspeech', 'theme', 'themeowood', 'themes', 'themesong', 'themusketeers', 'themâ\\x80¦', 'theodore', 'thepeel', 'thependulum', 'thepoliticalmillennial', 'thequeenat90', 'therapy', 'therealdeal', 'therere', 'theres', 'theresamay', 'theresistance', 'thereâ\\x80\\x99s', 'theriveourberlin', 'thermal', 'thesexismproject', 'theshallows', 'thespicesndteaexchange', 'thesâ\\x80¦', 'thetrust', 'theultimateCF', 'theverdict', 'theview', 'thevoice', 'theyd', 'theyll', 'theyre', 'theyve', 'theyâ\\x80\\x99re', 'theâ\\x80¦', 'thi', 'thiccbeann', 'thieves', 'thighhigh', 'thin', 'thing', 'things', 'thingsgtgt', 'think', 'thinkbigsundaywithmarshað\\x9f\\x92\\x93ð\\x9f\\x99\\x8fð\\x9f\\x98\\x87', 'thinking', 'thinkingby', 'thinks', 'thinskinned', 'third', 'thirdworldcanada', 'thiss', 'thissuppoing', 'thisâ\\x80¦', 'thisâ\\x9d\\x93', 'thisð\\x9f\\x93ºð\\x9f\\x93»ð\\x9f\\x92©', 'thiza', 'thng', 'tho', 'thomas', 'thompson', 'though', 'thoughj', 'thought', 'thoughts', 'thoughtsandprayersâ\\x80¦', 'thoughtswithorlando', 'thousand', 'thousands', 'thouâ\\x80¦', 'thr', 'thread', 'threat', 'threaten', 'threatened', 'threatening', 'threats', 'three', 'threelions', 'thrilling', 'thrive', 'thriving', 'throat', 'throw', 'throwback', 'throwbackthursday', 'throwing', 'thrown', 'thru', 'tht', 'thug', 'thugs', 'thunder', 'thurs', 'thursday', 'thursdaymotivation', 'thwaed', 'thx', 'thy', 'thyini', 'thâ\\x80¦', 'tibetan', 'ticked', 'ticket', 'tickets', 'ticking', 'tie', 'tiesto', 'tiffany', 'tiger', 'tiggy', 'tiina', 'tikila', 'til', 'till', 'time', 'timebornlucky', 'timeflies', 'timenow', 'times', 'timesbe', 'timetogetmyjesuson', 'timeð\\x9f\\x98\\x80ð\\x9f\\x98¢', 'timing', 'timwise', 'tin', 'tinfoilhat', 'tinyfingeredpuppet', 'tinyhands', 'tip', 'tips', 'tipsforlife', 'tired', 'tis', 'title', 'titles', 'tits', 'titties', 'tittytuesday', 'tl', 'tlc', 'tlot', 'tma', 'tmaâ\\x80¦', 'tmrrw', 'tmrw', 'toa', 'toast', 'today', 'todays', 'todaywasagoodday', 'todayÂ\\x92s', 'todayâ\\x80¦', 'toddler', 'toddlerfriends', 'toddlerfun', 'todo', 'toes', 'together', 'togetherness', 'tohell', 'token', 'told', 'tolerance', 'tolerated', 'tolerateâ\\x80¦', 'tom', 'tomato', 'tomday', 'tomhiddleston', 'tomlin', 'tommorrow', 'tomorrow', 'tomorrowismondayð\\x9f\\x98©', 'tomorrowland', 'ton', 'tonight', 'tonights', 'tonto', 'tony', 'tonyawards', 'toocoldu', 'tooeasy', 'took', 'tool', 'toonsthemed', 'tooâ\\x80¦', 'top', 'topic', 'topless', 'topoli', 'topped', 'tops', 'toptags', 'toradora', 'toraya', 'toread', 'tories', 'torio', 'tornado', 'tornament', 'toronto', 'torrington', 'tory', 'tosser', 'tossing', 'total', 'totally', 'totalpolitician', 'touch', 'touched', 'touches', 'touching', 'tough', 'toured', 'toures', 'touring', 'tourney', 'toward', 'towards', 'town', 'townhouse', 'towns', 'toxic', 'toy', 'tpc', 'tracerequest', 'track', 'tracks', 'tracy', 'trade', 'trading', 'tradition', 'traditions', 'traffic', 'trafficking', 'tragedies', 'tragedy', 'tragic', 'trail', 'trailer', 'trailn2v3', 'trails', 'train', 'trainhard', 'training', 'trainâ\\x80¦', 'traitor', 'traitorump', 'trample', 'trampled', 'tranny', 'tranquil', 'transcripts', 'transfer', 'transformation', 'transformed', 'transforming', 'transition', 'transphobia', 'transsexy', 'trapped', 'trash', 'traumatic', 'travel', 'travelerslife', 'traveling', 'travelingram', 'travelled', 'travellers', 'travelso', 'traveltime', 'travelwise', 'travelâ\\x80¦', 'traâ\\x80¦', 'trc', 'treacherous', 'treacy', 'treadmill', 'treason', 'treasonoustrump', 'treasonâ\\x80¦', 'treat', 'treated', 'treating', 'treatment', 'treats', 'treatyourself', 'tree', 'treefriends', 'treeouts', 'trek', 'tremendous', 'trending', 'trendolizer', 'trendy', 'trendypappie', 'trentmaysâ\\x80¦', 'trht', 'trial', 'triathlete', 'triathlon', 'tribalismâ\\x80¦', 'tribune', 'trick', 'tried', 'tries', 'triggered', 'triggeredâ\\x80¦', 'triggerwarning', 'trims', 'trip', 'triste', 'triumph', 'troll', 'trolling', 'trolls', 'trompas', 'troopingthecolour', 'trophy', 'trouble', 'troubled', 'trough', 'tru', 'truckload', 'true', 'truelove', 'truestory', 'truism', 'truly', 'trulyhappybaby', 'trump', 'trump2016', 'trumpas', 'trumpconaist', 'trumpdarkzone', 'trumpgeorge', 'trumphate', 'trumpinauguration', 'trumpism', 'trumpisâ\\x80¦', 'trumpleaks', 'trumplies', 'trumpocalypseâ\\x80¦', 'trumpproofamerica', 'trumpracist', 'trumps', 'trumpsamerica', 'trumpswiddleblackbuddy', 'trumptler', 'trumptrain', 'trumptrainâ\\x80¦', 'trumpuniversity', 'trumpusa', 'trumpworld', 'trumpâ\\x80\\x99s', 'trumpâ\\x80¦', 'trust', 'trusted', 'truth', 'truthand', 'truthful', 'truthfully', 'truths', 'truthseekers', 'try', 'trying', 'trying…', 'trysomething', 'tsa', 'tsemtulku', 'tshis', 'tshiâ\\x80¦', 'tsumtsum', 'tube', 'tucker', 'tuckercarlson', 'tuckson', 'tuesday', 'tules', 'tulips', 'tulku', 'tulsa', 'tummies', 'tuned', 'tunein', 'tupac', 'tupacâ\\x80¦', 'tupacâ\\xad\\x90ð\\x9f\\x91¼ð\\x9f\\x99\\x8fð\\x9f\\x92\\x8bð\\x9f\\x92\\x9d', 'tupperwear', 'turds', 'turkey', 'turlock', 'turmoil', 'turn', 'turned', 'turning', 'turns', 'turnup', 'tv', 'tvk3fathersday', 'tvð\\x9f\\x92©', 'twatface', 'tweet', 'tweet4taiji', 'tweeted', 'tweeting', 'tweets', 'tweettweet', 'twice', 'twilight', 'twin', 'twinklatinboys', 'twins', 'twisted', 'twitch', 'twitter', 'twitterbot', 'twitteâ\\x80¦', 'two', 'twonitwittrumpsuppoers', 'tws', 'ty', 'tyler', 'type', 'types', 'typical', 'tyranny', 'tyrannyâ\\x80¦', 'tyrant', 'tyruswong', 'tyâ\\x80¦', 'tâ\\x80¦', 'u', 'uae', 'uber', 'uday', 'udt', 'udta', 'udtapunjab', 'ufc', 'ufc207', 'ugh', 'uglier', 'ugly', 'uglylady', 'uglyspat', 'ui', 'uk', 'ukconstruction', 'ukelele', 'ukip', 'ukr', 'ukraine', 'ukraineâ\\x80\\x99s', 'ukrainians', 'uks', 'uksâ\\x80¦', 'ukulele', 'ulit', 'ultimately', 'ultra', 'ultranationalism', 'ultraohodox', 'um', 'umbrelas', 'umm', 'un', 'unabated', 'unacceptableâ\\x80¦', 'unamerican', 'unappetizing', 'unashamedly', 'unbelievable', 'unbiased', 'unborn', 'unbornlivesmatter', 'unboâ\\x80¦', 'unbreakable', 'unchained', 'unchanged', 'uncivilised', 'uncle', 'uncomfortable', 'unconditionallove', 'uncovers', 'uncovâ\\x80¦', 'underestimate', 'underfire', 'underlying', 'undermine', 'underrate', 'understand', 'understanding', 'underwhelming', 'uneducated', 'unemployment', 'unequal', 'unethical', 'unexpected', 'unfair', 'unfit', 'unfittobeinpublicoffice', 'unforgettable', 'unforgettableâ\\x80¦', 'unforgiveable', 'unfounate', 'unfounately', 'unhappy', 'unhelpful', 'unicef', 'unificationsdayand', 'unifying', 'unintentionally', 'union', 'unite', 'uniteblue', 'united', 'unitedkingdom', 'unitednations', 'unitedstates', 'unitedstateschampion', 'uniting', 'unity', 'universe', 'universities', 'university', 'universityofwisconsinmadison', 'unjust', 'unleashed', 'unleashes', 'unless', 'unlike', 'unloads', 'unloved', 'unmasking', 'unnecessary', 'unnie', 'unpacks', 'unpatriotic', 'unprecedented', 'unpresidented', 'unreal', 'unsatisfied', 'unstable', 'unstoppable', 'unusual', 'unveiled', 'unwanted', 'unwell', 'unâ\\x80¦', 'uot', 'up2', 'upbeat', 'upcoming', 'update', 'updated', 'updates', 'upenn', 'upf', 'upload', 'uploadddddd', 'upon', 'uppity', 'upset', 'upsetting', 'upshow', 'upside', 'upsideofflorida', 'upwards', 'ur', 'urbex', 'urdu', 'urging', 'urð\\x9f\\x93±', 'us', 'usa', 'usa2017', 'usaâ\\x80¦', 'uschampion', 'usd', 'usdjpy', 'use', 'used', 'usedbytrump', 'usedtobeafathersday', 'useful', 'uselections2016', 'useless', 'user', 'users', 'uses', 'usgtgtgt', 'usher', 'ushers', 'ushistory', 'using', 'uskkk', 'usn', 'uspoli', 'usshootingsaccidentsabuse', 'ust', 'usual', 'usâ\\x80¦', 'usâ\\x9d£â\\x9d£â\\x9d£â\\x9d£â\\x9d£â\\x9d£â\\x9d£', 'utah', 'utter', 'uttered', 'utterly', 'uuuð\\x9f\\x98\\x82ð\\x9f\\x98', 'ux', 'uyanzeâ\\x80¦', 'v', 'v2s', 'v3s', 'vacation', 'vagina', 'vain', 'vaitacacommafiasdv', 'valid', 'validating', 'valley', 'valravn', 'value', 'valuechain', 'valued', 'values', 'valuesâ\\x80¦', 'vamoschile', 'vamoschilecarajo', 'vancitybuzzâ\\x80¦', 'vandalised', 'vandals', 'vanessakikijohanningâ\\x80¦', 'vanilla', 'vanity', 'vans', 'vape', 'vapefam', 'vapegirl', 'vapehappyâ\\x80¦', 'vapinglifestyle', 'various', 'varying', 'vaseegupurdantelflowersvizit', 'vast', 'vaw', 'vcsocam', 'vedic', 'vegan', 'veganbeerfest', 'vegas', 'vehicle', 'veiled', 'vendor', 'venezuela', 'vengeance', 'venice', 'venue', 'venues', 'verbal', 'verbalassault', 'verbally', 'verified', 'verizon', 'vermillionred', 'vermin', 'verona', 'versace', 'version', 'versus', 'vestal', 'veteran', 'veto', 'vets', 'vetting', 'vfest', 'vfiestarintl', 'via', 'viaâ\\x80¦', 'vibe', 'vibes', 'vicinity', 'vicious', 'victim', 'victimhood', 'victimise', 'victims', 'victoria', 'victorious', 'victory', 'victums', 'vid', 'vida', 'video', 'videogames', 'videos', 'vids', 'view', 'viewed', 'viewer', 'viewing', 'views', 'vigilfororlando', 'vile', 'village', 'villain', 'villy', 'vimeo', 'vincent', 'vine', 'vintage', 'vintagehour', 'vinyl', 'vinyls', 'violates', 'violence', 'violent', 'violently', 'violets', 'violin😂😂😂😂', 'vip', 'viper', 'viral', 'virgin', 'virginia', 'visit', 'visited', 'visiting', 'visualize', 'vital', 'viÃ±a', 'viâ\\x80¦', 'vlicobs', 'vloggerâ\\x80¦', 'vmin', 'vocabulary', 'vodpass', 'voez', 'vogue', 'voic', 'voice', 'voices', 'voicing', 'void', 'volatile', 'volodymyrviatrovych', 'volunteer', 'vomit', 'vote', 'voted', 'voteleave', 'voter', 'voterid', 'voters', 'votersuppression', 'votes', 'voting', 'votâ\\x80¦', 'vp', 'vps', 'vry', 'vs', 'vsco', 'vscobrasil', 'vscocam', 'vscocamph', 'vscocamphotos', 'vscophotoâ\\x80¦', 'vulgar', 'vw', 'w', 'wa', 'wacko', 'wade', 'waged', 'wages', 'wagon', 'wah', 'wahhhh', 'wahoo', 'wailed', 'waime', 'waino', 'wair', 'wait', 'waited', 'waiter', 'waiting', 'waiting4trump', 'waitingf', 'wake', 'wakemeupwhen', 'wakes', 'wakeup', 'wakeupamerica', 'wakeupamericaca', 'wakow', 'wal', 'wales', 'walk', 'walked', 'walkin', 'walking', 'walks', 'wall', 'wallpapers', 'walls', 'walrus', 'waltdisneyworld', 'wang', 'wanna', 'wanother', 'want', 'wanted', 'wants', 'wantâ\\x80¦', 'war', 'warcraft', 'warm', 'warmonger', 'warning', 'warns', 'warnung', 'waronchristmas', 'waronwomen', 'warriors', 'warriorscomeoutandplay', 'wars', 'warsforoil', 'washed', 'washing', 'washington', 'washout', 'wasi', 'wasnt', 'waste', 'wasted', 'watch', 'watchable', 'watched', 'watching', 'watchthisspace', 'watchtowers', 'watcâ\\x80¦', 'water', 'watering', 'wateringhole', 'watermelon', 'wathing', 'watson', 'wave', 'waves', 'way', 'ways', 'wb', 'wbencconf', 'wdc', 'wdcouncil', 'weak', 'weakening', 'weaker', 'weakest', 'wealthy', 'weapon', 'weaponry', 'wear', 'weare', 'wearing', 'weasel', 'weather', 'web', 'webdev', 'webmareting', 'webseries', 'wed', 'wedding', 'weddingcar', 'weddingdressâ\\x80¦', 'weddingpay', 'weddingplanning', 'weddings', 'wednesday', 'wednesdaymorning', 'wednesdaywisdom', 'wednâ\\x80¦', 'wedontwinanymore', 'wedâ\\x80¦', 'weed', 'weeeellll', 'weeheeeee', 'week', 'weekend', 'weekendblogshare', 'weekendis', 'weekendplans', 'weekends', 'weekendvibes', 'weekendð\\x9f\\x92\\x8b', 'weekly', 'weeks', 'weekð\\x9f\\x98¡', 'weenie', 'weezied', 'wehate', 'weho', 'wehoð\\x9f\\x8e\\x89ð\\x9f\\x8e\\x88ð\\x9f\\x98\\x98', 'weightloss', 'weiner', 'weinerdog', 'weird', 'weirdo', 'weirdos', 'welcome', 'welcomeludovica', 'well', 'wellbeing', 'wellduh', 'welleducated', 'wellness', 'wells', 'wellthese', 'welshwomensrugby', 'welsing', 'wembley', 'wembleystadium', 'wemissstevejobs', 'wen', 'weneed', 'wenger', 'went', 'weremissinghim', 'werent', 'west', 'westcoast', 'westerncape', 'westerners', 'weston', 'westpac', 'wests', 'wet', 'wetter', 'wetterwarnung', 'weve', 'wever', 'wew', 'weâ\\x80\\x99re', 'wh', 'whaling', 'what2inlieuof', 'whatajoke', 'whatbusiness', 'whate', 'whatever', 'whats', 'whatsoever', 'whatson', 'whatswrong', 'whatwasthat', 'whatâ\\x80\\x99s', 'whatâ\\x80¦', 'whe', 'wheelchair', 'whenever', 'wheneâ\\x80¦', 'whenrealtorscompeteyouwin', 'whenyourenotrightinyourhea', 'whererefreshingbegins', 'wheres', 'wheresallthenaturalphotos', 'wherford', 'whether', 'whicâ\\x80¦', 'whileâ\\x80¦', 'whilst', 'whiners', 'whingeing', 'whining', 'whisky', 'whit', 'white', 'whiteamerica', 'whiteaustralianpolicy', 'whiteboard', 'whitefeminism', 'whitefish', 'whitefragility', 'whitegenocide', 'whiteguy', 'whiteguys', 'whiteisis', 'whiteknight', 'whiteland', 'whiteman', 'whitenationalist', 'whiteness', 'whitepaper', 'whitepeople', 'whiteperson', 'whitepower', 'whiteprivelage', 'whiteprivilege', 'whiteprivâ\\x80¦', 'whiter', 'whiterace', 'whites', 'whitesboro', 'whitesheet', 'whiteskinned', 'whiteslavers', 'whiteslavery', 'whitesupremacist', 'whitesupremacists', 'whitesupremacy', 'whitewashing', 'whitey', 'whiteâ\\x80¦', 'whoa', 'whod', 'whoever', 'whoisjayr', 'whoknows', 'whole', 'wholesome', 'whoop', 'whopped', 'whores', 'whos', 'whose', 'whoâ\\x80¦', 'whyyyy', 'whyð\\x9f\\x98¯', 'whâ\\x80¦', 'widn', 'wife', 'wifebeaterâ\\x80¦', 'wig', 'wild', 'wildest', 'wildlife', 'wildlifefestival', 'wilfully', 'william', 'williams', 'willing', 'willoughbyâ\\x80\\x99s', 'willsmith', 'willâ\\x80¦', 'wilmington', 'wilson', 'wilsonâ\\x80\\x99s', 'wimbledon2016', 'win', 'window', 'windows', 'windows10', 'windy', 'wine', 'winfrey', 'wing', 'wingers', 'wings', 'wingym', 'winjob', 'winner', 'winning', 'wins', 'winter', 'winthisthing', 'winwritersfest', 'wisconsinmadison', 'wisdom', 'wisdoms', 'wise', 'wiseð\\x9f\\x98\\x8e', 'wish', 'wishes', 'wishesâ\\x80¦', 'wishing', 'wishiwasbetter', 'wishlist', 'within', 'withmom', 'without', 'withoâ\\x80¦', 'witness', 'wiunion', 'wlk', 'wme', 'wmn', 'wmuslim', 'wn', 'wnt', 'wo', 'wog', 'woh', 'wohless', 'wohy', 'woke', 'wokeup', 'wolves', 'woman', 'womandegrading', 'womans', 'womanâ\\x80\\x99s', 'womanâ\\x80¦', 'women', 'womenareamazing', 'womenissuesÂ', 'womenmalayalam', 'womenonly', 'womenrelated', 'womens', 'womensissues', 'womensmarch', 'womensordinationâ\\x80¦', 'womensrights', 'womensrighttochoose', 'womenvote', 'womenwednesdayâ\\x80¦', 'women…', 'wonder', 'wondered', 'wonderful', 'wont', 'wonthey', 'wonâ\\x80\\x99t', 'woobietuesday', 'wood', 'woodrow', 'woodrowwilson', 'woodwork', 'woohoo', 'woot', 'woow', 'word', 'wordpress', 'words', 'wordsalad', 'wordsofwisdom', 'work', 'workday', 'worked', 'workers', 'workersrights', 'workhard', 'working', 'workingdog', 'workingthe', 'workit', 'worknight', 'workplace', 'works', 'worksheet', 'workshop', 'workspace', 'workâ\\x80¦', 'workâ\\x9c\\x8cð\\x9f\\x8f¼', 'world', 'worldcampaign', 'worlddanger', 'worlds', 'worldsbreastdad', 'worldvery', 'worldview', 'worldwide', 'worldwidekÃ®Ã±gÃ§hiÃ±kÃ¸', 'worldâ\\x80\\x99s', 'worldâ\\x80¦', 'worried', 'worry', 'worrying', 'worse', 'worst', 'wotching', 'would', 'woulda', 'wouldbe', 'wouldnt', 'wouldnâ\\x80\\x99t', 'wouldn’t', 'wouldve', 'wounds', 'wout', 'wow', 'woysboys', 'woâ\\x80¦', 'wp', 'wrap', 'wrapping', 'wrc', 'wrenching', 'wrexham', 'write', 'writer', 'writing', 'written', 'wrong', 'wrongful', 'wrote', 'wru', 'wsaying', 'wso', 'wtf', 'wtf2016', 'wtfâ\\x80¦', 'wthose', 'wti', 'wud', 'wusâ\\x80¦', 'wuvip', 'ww', 'wwdc', 'wwdc2016', 'wwe', 'wwi', 'wwii', 'wwwflybcccom', 'wwwsmallgirlsexcom', 'wyears', 'wyou', 'wypipo', 'wâ\\x80¦', 'wð\\x9f\\x8c¶', 'w…', 'x', 'xbox', 'xboxone', 'xd', 'xenopbobiaâ\\x80¦', 'xenophobe', 'xenophobia', 'xenophobic', 'xgamer', 'xi', 'xians', 'xiii', 'xmas', 'xo', 'xoxo', 'xoxosamantha', 'xskinnybeautyxo', 'xtra', 'xtremeair5k', 'xx', 'xxx', 'ya', 'yaaaaaass', 'yaaay', 'yalit', 'yall', 'yang', 'yap', 'yass', 'yassbitch', 'yassssss', 'yavin', 'yay', 'yayyy', 'yayyyy', 'yea', 'yeah', 'year', 'year8', 'yearly', 'years', 'yeaâ\\x80¦', 'yeg', 'yegas', 'yegaâ\\x80¦', 'yegâ\\x80¦', 'yehtut', 'yelchin', 'yelchinmet', 'yelling', 'yellow', 'yellowjackets', 'yellowâ\\x80¦', 'yellâ\\x80¦', 'yep', 'yes', 'yesterday', 'yesu', 'yesâ\\x80\\x9d', 'yet', 'yfmghana', 'yiannopoulos', 'yiannopoulosis', 'yields', 'yiruma', 'ynwa', 'yo', 'yoga', 'yogaeverywhereâ\\x80¦', 'yogalife', 'yogalove', 'yolo', 'yoloâ\\x80¦', 'yong', 'york', 'yorkers', 'yoube', 'youd', 'youdisgustme', 'youll', 'young', 'younger', 'youngturks', 'youre', 'youreinpainisjustanexample', 'yourhea', 'yourâ\\x80¦', 'yousuck', 'youth', 'youtu', 'youtube', 'youtuber', 'youve', 'youâ\\x80¦', 'youð\\x9f\\x91\\x91ð\\x9f\\x8c¼', 'youð\\x9f\\x99\\x8fsoo', 'you’re', 'yoy', 'yoyas', 'yr', 'yrkkh', 'yrs', 'ytinny', 'yugyoem', 'yuhuuuuu', 'yuki', 'yum', 'yummy', 'yummyfood', 'yunho', 'yup', 'yur', 'yusuf', 'yvr', 'yyc', 'y’all', 'zayne', 'zaz', 'ze', 'zealand', 'zedd', 'zeenews', 'zelda', 'zen', 'zero', 'zeroattacks', 'zilles', 'zim', 'zimbabwe', 'zionazi', 'zionazis', 'zionism', 'zionist', 'zionists', 'zit', 'ziy', 'zoing', 'zone', 'zones', 'zoo', 'zorbbs', 'zpamdelacruz', 'zulu', 'zuma', 'zumba', 'zurich', '\\x83æ\\x98¥', '\\x9a', '\\x9aã\\x80\\x80ç¦\\x8få³¶ã\\x81¿ã\\x81\\x9aã\\x81»', '´æ\\x89\\x80ã\\x81«å\\x90\\x91ã\\x81\\x8bã\\x81£ã\\x81\\x9fã\\x81\\x91ã\\x81©w', 'Â', 'Â£12', 'Â£2', 'Â£20', 'Â£5', 'Â£7', 'Â¤Â¤', 'Ã¨', 'Ñ\\x83Ð»Ñ\\x8bÐ±ÐºÐ°', 'Ø§Ù\\x84Ø¬Ù', 'Ø¹Ù\\x87â\\x80¦', 'Ù\\x8aÙ\\x88Ù', 'Ù\\x8aâ\\x80¦', 'à²¸à²¾à²°à³\\x8dà²¥à²\\x95user', 'à¹\\x84à¸\\xadà¸\\x94à¸\\xadà¸¥', 'â\\x80\\x93', 'â\\x80\\x94', 'â\\x80\\x94ambrose', 'â\\x80\\x94anne', 'â\\x80\\x98antiislamistâ\\x80\\x99', 'â\\x80\\x98ape', 'â\\x80\\x98brexitâ\\x80\\x99', 'â\\x80\\x98daily', 'â\\x80\\x98enemiesâ\\x80\\x99', 'â\\x80\\x98let', 'â\\x80\\x98missing', 'â\\x80\\x98out', 'â\\x80\\x98reverse', 'â\\x80\\x98rude', 'â\\x80\\x98â\\x80\\x99', 'â\\x80\\x9917', 'â\\x80\\x9ccharles', 'â\\x80\\x9ccharlespaladinos', 'â\\x80\\x9ccrusaderâ\\x80\\x9d', 'â\\x80\\x9cdo', 'â\\x80\\x9cfeeling', 'â\\x80\\x9ci', 'â\\x80\\x9cinvisible', 'â\\x80\\x9cislamic', 'â\\x80\\x9cit', 'â\\x80\\x9cmy', 'â\\x80\\x9csaudi', 'â\\x80\\x9cstick', 'â\\x80\\x9cthe', 'â\\x80\\x9ctoday', 'â\\x80\\x9cwe', 'â\\x80\\x9câ\\x80\\x98all', 'â\\x80¢', 'â\\x80¢â\\x80¢â\\x80¢', 'â\\x80¦', 'â\\x80¦and', 'â\\x80¦on', 'â\\x80¦you', 'â\\x80¦â\\x80¦', 'â\\x80¼ï¸\\x8fâ\\x9d¤ï¸\\x8f', 'â\\x81°music', 'â\\x82¬', 'â\\x86\\x9d', 'â\\x86º', 'â\\x88©â\\x88©im', 'â\\x8fª', 'â\\x8f®', 'â\\x96¶', 'â\\x96¸', 'â\\x96ºwhy', 'â\\x97\\x8fâ\\x97\\x8bâ\\x80¢Â°â\\x98\\x86', 'â\\x98\\x80sunshine', 'â\\x98\\x80ï¸\\x8f', 'â\\x98\\x80ï¸\\x8fhellosunday', 'â\\x98\\x80ï¸\\x8fð\\x9f\\x8c\\x8a', 'â\\x98\\x80ï¸\\x8fð\\x9f\\x8c»â\\x98\\x80ï¸\\x8fð\\x9f\\x8c»â\\x98\\x80ï¸\\x8f', 'â\\x98\\x81gray', 'â\\x98\\x86Â°â\\x80¢â\\x97\\x8bâ\\x97\\x8f', 'â\\x98\\x91ï¸\\x8f', 'â\\x98®ï¸\\x8f', 'â\\x98º', 'â\\x98ºâ\\x98º', 'â\\x98ºï¸\\x8f', 'â\\x98ºï¸\\x8fð\\x9f\\x98\\x8d', 'â\\x98ºï¸\\x8fð\\x9f\\x98\\x8dð\\x9f\\x92\\x83ð\\x9f\\x8f½', 'â\\x99\\x8bï¸\\x8f', 'â\\x99¡', 'â\\x99¡â\\x99¡â\\x99¡', 'â\\x99¥venusexchangeâ\\x99¥', 'â\\x99«', 'â\\x9a¡', 'â\\x9a¡ï¸\\x8f', 'â\\x9c\\x88ï¸\\x8fð\\x9f\\x8f\\x9dð\\x9f\\x95\\x8cð\\x9f\\x90\\x98ð\\x9f¦\\x81ð\\x9f\\x90¯â\\x9c¨â\\x9c¨', 'â\\x9c\\x8b', 'â\\x9c\\x8cð\\x9f\\x8f»ï¸\\x8f', 'â\\x9c\\x8cð\\x9f\\x8f¼ï¸\\x8fð\\x9f\\x87ºð\\x9f\\x87¸ð\\x9f\\x8f\\x99', 'â\\x9c\\x8cð\\x9f\\x91\\x8dð\\x9f\\x91\\x8cð\\x9f\\x98\\x87â\\x98º', 'â\\x9c\\x94ï¸\\x8f', 'â\\x9c¨', 'â\\x9c¨â\\x9c¨', 'â\\x9d\\x84', 'â\\x9d\\x84â\\x9b\\x84â\\x9d\\x84', 'â\\x9d\\x87', 'â\\x9d¤', 'â\\x9d¤â\\x9d¤â\\x9d¤', 'â\\x9d¤â\\x9d¤â\\x9d¤his', 'â\\x9d¤ï¸\\x8e', 'â\\x9d¤ï¸\\x8f', 'â\\x9d¤ï¸\\x8fâ\\x80¦', 'â\\x9d¤ï¸\\x8fâ\\x9d¤ï¸\\x8f', 'â\\x9d¤ï¸\\x8fâ\\x9d¤ï¸\\x8fmickeymouse', 'â\\x9d¤ï¸\\x8fð\\x9f\\x90»ð\\x9f\\x8d\\x93', 'â\\x9d¤ï¸\\x8fð\\x9f\\x92\\x95â\\x9d¤ï¸\\x8f', 'â\\x9d¤ï¸\\x8fð\\x9f\\x92\\x96', 'â\\x9d¤ï¸\\x8fð\\x9f\\x94\\x91', 'â\\x9d¤ï¸\\x8fð\\x9f\\x98\\x80ð\\x9f\\x8f', 'â\\x9d¤ï¸\\x8fð\\x9f\\x98\\x98', 'â\\x9d¤ï¸\\x8fó¾\\x81\\x86', 'â\\x9d¤ð\\x9f\\x93·â\\x98\\x80', 'â\\x9d¤ð\\x9f\\x98\\x8d', 'â\\x9e¡ï¸\\x8f', 'â¬\\x87', 'â\\xad\\x90â\\xad\\x90â\\xad\\x90â\\xad\\x90â\\xad\\x90', 'â\\xad\\x90ï¸\\x8f', 'ã\\x80\\x8aã\\x80\\x8aã\\x80\\x8aplay', 'ã\\x80\\x8bã\\x80\\x8b', 'ã\\x80\\x90botã\\x80\\x91', 'ã\\x81©ã\\x82\\x8bã\\x81\\x88ã\\x82\\x8câ\\x80¦', 'ã\\x81»ã\\x82\\x93ã\\x81\\x98ã\\x82\\x83ã\\x82\\x89ã\\x82\\x89ã\\x81°ã\\x81\\x84â\\x98\\x86', 'ã\\x82\\x82ã\\x81\\x86ã\\x81\\x8aäº\\x92ã\\x81\\x84é\\x81\\x95ã\\x81\\x86å', 'ã\\x82\\x84ã\\x81£ã\\x81¨ã\\x81\\x97ã\\x81¦ã\\x81\\x8fã\\x82\\x8cã\\x81\\x9f', 'ã\\x82\\x86ã\\x82\\x8aã\\x81\\x9dã\\x82\\x93', 'ã\\x83\\x84', 'ã\\x83»', 'ã\\x83»ã\\x83»ã\\x83»', 'ä½\\x90é\\x87\\x8eå', 'ä½\\x95ç»´å»º', 'å\\x81¥å¤ªã\\x83\\x9dã\\x83¼ã\\x82º', 'å\\x81¶å\\x83\\x8f', 'å\\x8f\\x8dæ\\x8a\\x97æ\\x9c\\x9f', 'å±±æ\\x9c¬å¤ªé\\x83\\x8e', 'æ\\x94¾èª²å¾\\x8c', 'æ\\x97¥æ\\x9c¬ä¼\\x9aè\\xad°japan', 'æ\\x9c\\x89ç\\x94°è\\x8a³ç\\x94\\x9fã\\x80\\x80æ°\\x91é\\x80²å', 'æ\\x9c´å®\\x9då\\x89\\x910616ç\\x94\\x9fæ\\x97¥å¿«ä¹\\x90', 'ç¤¾æ°\\x91å', 'ç¬\\x91', 'ê·¸ê¸¸ì\\x97\\x90ì\\x84\\x9c', 'ë\\x8b¤ì\\x9d´ì\\x95\\x84ê·¸ê¸¸ì\\x97\\x90ì\\x84\\x9cì\\x8a¤í\\x8a¸ë¦¬ë°\\x8d', 'ì\\x95\\x84ì\\x9d´ë\\x8f\\x8c', 'ì\\x97°ì\\x8aµì\\x83\\x9d', 'ï¸\\x8fð\\x9f\\x91\\x89', 'ï¼\\x83cute', 'ï¼\\x83madeinjapan', 'ð\\x9f\\x87¦ð\\x9f\\x87º', 'ð\\x9f\\x87¨ð\\x9f\\x87¦ð\\x9f\\x87¨ð\\x9f\\x87¦ð\\x9f\\x87¨ð\\x9f\\x87¦', 'ð\\x9f\\x87µð\\x9f\\x87¸', 'ð\\x9f\\x87ºð\\x9f\\x87¸', 'ð\\x9f\\x87¿ð\\x9f\\x87¦ð\\x9f\\x8d»', 'ð\\x9f\\x8c\\x8d', 'ð\\x9f\\x8c\\x8e', 'ð\\x9f\\x8c\\x8eð\\x9f\\x8c·', 'ð\\x9f\\x8c\\x8f', 'ð\\x9f\\x8c\\x8fâ\\x9c\\x88â\\x9c\\x88ð\\x9f\\x97½', 'ð\\x9f\\x8c\\x99', 'ð\\x9f\\x8c\\x9e', 'ð\\x9f\\x8c\\x9eð\\x9f\\x90', 'ð\\x9f\\x8c\\x9f', 'ð\\x9f\\x8c\\x9fð\\x9f\\x8c\\x9fð\\x9f\\x8c\\x9fð\\x9f\\x8c\\x9fð\\x9f\\x8c\\x9f', 'ð\\x9f\\x8c¤ð\\x9f\\x8c\\x9eð\\x9f\\x8c', 'ð\\x9f\\x8c¤ð\\x9f\\x8c¤ð\\x9f\\x8c¤', 'ð\\x9f\\x8c¥ð\\x9f\\x8d·ð\\x9f\\x91\\x8dð\\x9f\\x8f½ð\\x9f\\x98\\x8að\\x9f\\x91\\x8cð\\x9f\\x8f½ð\\x9f\\x8c¶', 'ð\\x9f\\x8c´ð\\x9f\\x8c\\x8aâ\\x98\\x80', 'ð\\x9f\\x8c´ð\\x9f\\x8d\\x89ð\\x9f\\x91\\x99', 'ð\\x9f\\x8c¸ð\\x9f\\x8c»ð\\x9f\\x8c¼ð\\x9f\\x8d\\x83ð\\x9f\\x8cº', 'ð\\x9f\\x8c¸ð\\x9f\\x8d¦ð\\x9f\\x91\\xadð\\x9f\\x8d¨ð\\x9f\\x8c¸', 'ð\\x9f\\x8c¹ð\\x9f\\x8c·ð\\x9f\\x92', 'ð\\x9f\\x8d\\x83', 'ð\\x9f\\x8d\\x89', 'ð\\x9f\\x8d\\x8d', 'ð\\x9f\\x8d\\x95ð\\x9f\\x8d\\x95ð\\x9f\\x8d\\x95', 'ð\\x9f\\x8d§', 'ð\\x9f\\x8d¬', 'ð\\x9f\\x8d°ð\\x9f\\x8d©ð\\x9f\\x8d¬ð\\x9f\\x8d\\xadð\\x9f\\x8d«â\\x9c¨', 'ð\\x9f\\x8d´ð\\x9f¤\\x97', 'ð\\x9f\\x8d¸user', 'ð\\x9f\\x8dº', 'ð\\x9f\\x8d»', 'ð\\x9f\\x8d½ð\\x9f\\x8d¢ð\\x9f\\x8d®ð\\x9f\\x8d¢ð\\x9f\\x8d¢ð\\x9f\\x8d§', 'ð\\x9f\\x8d¾ð\\x9f\\x8d¾ð\\x9f\\x8d¾', 'ð\\x9f\\x8d¾ð\\x9f\\x8e\\x89ð\\x9f\\x92\\x95ð\\x9f\\x91°ð\\x9f\\x8f¼ð\\x9f\\x8e©', 'ð\\x9f\\x8e', 'ð\\x9f\\x8e\\x82', 'ð\\x9f\\x8e\\x82â\\x9d¤ï¸\\x8fð\\x9f\\x8d§ð\\x9f\\x8d»', 'ð\\x9f\\x8e\\x87ð\\x9f\\x8e\\x87ð\\x9f\\x8e\\x87ð\\x9f\\x92\\x83ð\\x9f\\x8f»ð\\x9f\\x92\\x83ð\\x9f\\x8f»ð\\x9f\\x92\\x83ð\\x9f\\x8f»ð\\x9f\\x98\\x81ð\\x9f\\x98\\x81ð\\x9f\\x98\\x81', 'ð\\x9f\\x8e\\x88ð\\x9f\\x8e\\x89', 'ð\\x9f\\x8e\\x88ð\\x9f\\x90¶ð\\x9f\\x8e\\x89ð\\x9f\\x8e\\x82ð\\x9f\\x8e\\x81', 'ð\\x9f\\x8e\\x89', 'ð\\x9f\\x8e\\x89ð\\x9f\\x8e\\x89', 'ð\\x9f\\x8e\\x89ð\\x9f\\x8e\\x89ð\\x9f\\x8e\\x82ð\\x9f\\x8e\\x89ð\\x9f\\x8e\\x89', 'ð\\x9f\\x8e\\x89ð\\x9f\\x8eµð\\x9f\\x8e\\x89ð\\x9f\\x8e¤ð\\x9f\\x99\\x8cð\\x9f\\x8f¾â\\x9c\\x8cð\\x9f\\x8f¾ï¸\\x8f', 'ð\\x9f\\x8e\\x89ð\\x9f\\x98\\x8e', 'ð\\x9f\\x8e\\x8að\\x9f\\x8e\\x82ð\\x9f\\x8e\\x89', 'ð\\x9f\\x8e\\x93', 'ð\\x9f\\x8e\\x99ï¸\\x8f', 'ð\\x9f\\x8e¤ð\\x9f\\x98\\x8a', 'ð\\x9f\\x8e®', 'ð\\x9f\\x8e¶ð\\x9f\\x98\\x81ð\\x9f\\x91\\x8d', 'ð\\x9f\\x8e¾ð\\x9f\\x8e¾', 'ð\\x9f\\x8f\\x89ð\\x9f\\x92ªð\\x9f\\x8f»ð\\x9f\\x91\\x8dð\\x9f\\x8f¼', 'ð\\x9f\\x8f\\x8a', 'ð\\x9f\\x8f»', 'ð\\x9f\\x8f»ð\\x9f\\x92', 'ð\\x9f\\x8f»ð\\x9f\\x92\\x8b', 'ð\\x9f\\x8f¼ð\\x9f\\x91\\x84ð\\x9f\\x91', 'ð\\x9f\\x90', 'ð\\x9f\\x90\\x95', 'ð\\x9f\\x90\\x9a', 'ð\\x9f\\x90\\x9d', 'ð\\x9f\\x90\\x9f', 'ð\\x9f\\x90±', 'ð\\x9f\\x90¶', 'ð\\x9f\\x90¶â\\x99¡', 'ð\\x9f\\x90¶ð\\x9f\\x92\\x8a', 'ð\\x9f\\x90¶ð\\x9f\\x92\\x95', 'ð\\x9f\\x90¾', 'ð\\x9f\\x91', 'ð\\x9f\\x91\\x80ð\\x9f\\x98\\x81', 'ð\\x9f\\x91\\x87', 'ð\\x9f\\x91\\x89ð\\x9f\\x8f»pretendingtobe', 'ð\\x9f\\x91\\x8cð\\x9f\\x8e\\x8að\\x9f\\x8e\\x89', 'ð\\x9f\\x91\\x8cð\\x9f\\x8f»â\\x9d¤ï¸\\x8fð\\x9f\\x94\\x90', 'ð\\x9f\\x91\\x8d', 'ð\\x9f\\x91\\x8dð\\x9f\\x8f»', 'ð\\x9f\\x91\\x8dð\\x9f\\x8f¼â\\x98\\x80ï¸\\x8fð\\x9f\\x90ªð\\x9f\\x95·ð\\x9f\\x90§ð\\x9f\\x90\\x92ð\\x9f\\x90\\x84ð\\x9f\\x90\\x94ð\\x9f\\x90®', 'ð\\x9f\\x91\\x8dð\\x9f\\x8f¼ð\\x9f\\x8d»ð\\x9f\\x8e¸ð\\x9f\\x8e¤â\\x98\\x80ï¸\\x8fð\\x9f\\x92\\x83', 'ð\\x9f\\x91\\x8dð\\x9f\\x8f½', 'ð\\x9f\\x91\\x8eð\\x9f\\x8f¾ð\\x9f\\x91\\x8eð\\x9f\\x8f¾', 'ð\\x9f\\x91\\x8eð\\x9f\\x98¬', 'ð\\x9f\\x91\\x8fð\\x9f\\x8f¼dog', 'ð\\x9f\\x91\\x8fð\\x9f\\x8f½ð\\x9f\\x91\\x8fð\\x9f\\x8f½ð\\x9f\\x91\\x8fð\\x9f\\x8f½', 'ð\\x9f\\x91\\x91ð\\x9f\\x8e¤', 'ð\\x9f\\x91\\x93ð\\x9f\\x93\\x9að\\x9f\\x93\\x9að\\x9f\\x93\\x9að\\x9f\\x93\\x96ð\\x9f\\x93\\x91englishteacher', 'ð\\x9f\\x91\\x94happy', 'ð\\x9f\\x91\\x99ð\\x9f\\x91\\x98ð\\x9f\\x92\\x84ð\\x9f\\x92\\x8bð\\x9f\\x91', 'ð\\x9f\\x91©â\\x80\\x8dâ\\x9d¤ï¸\\x8fâ\\x80\\x8dð\\x9f\\x91©', 'ð\\x9f\\x91©â\\x80\\x8dâ\\x9d¤ï¸\\x8fâ\\x80\\x8dð\\x9f\\x92\\x8bâ\\x80\\x8dð\\x9f\\x91©', 'ð\\x9f\\x91«', 'ð\\x9f\\x91«ð\\x9f\\x92\\x83ð\\x9f\\x8f»ð\\x9f\\x92\\x95', 'ð\\x9f\\x91¯', 'ð\\x9f\\x91¯â\\x9d¤ï¸\\x8fâ\\x9d¤ï¸\\x8fâ\\x9d¤ï¸\\x8f', 'ð\\x9f\\x91¯ð\\x9f\\x92\\x95', 'ð\\x9f\\x91°ð\\x9f\\x8f¼', 'ð\\x9f\\x91°ð\\x9f\\x91°ð\\x9f\\x91°ð\\x9f\\x91«ð\\x9f\\x91«', 'ð\\x9f\\x91¶ð\\x9f\\x8f¼', 'ð\\x9f\\x91¸ð\\x9f\\x8f¼', 'ð\\x9f\\x91¸ð\\x9f\\x8f½', 'ð\\x9f\\x91¹', 'ð\\x9f\\x91¹user', 'ð\\x9f\\x91»', 'ð\\x9f\\x91¿', 'ð\\x9f\\x92', 'ð\\x9f\\x92\\x80', 'ð\\x9f\\x92\\x80ð\\x9f\\x92\\x97', 'ð\\x9f\\x92\\x81ð\\x9f\\x8f»ð\\x9f\\x92\\x81ð\\x9f\\x8f½ð\\x9f\\x92\\x81ð\\x9f\\x8f¿ð\\x9f\\x92\\x81ð\\x9f\\x8f¼ð\\x9f\\x8e\\x80ð\\x9f\\x99\\x8cð\\x9f\\x8f¼ð\\x9f\\x92', 'ð\\x9f\\x92\\x81ð\\x9f\\x92¥ð\\x9f\\x92¥ð\\x9f\\x8e\\x89ð\\x9f\\x8e\\x89', 'ð\\x9f\\x92\\x83', 'ð\\x9f\\x92\\x83ð\\x9f\\x8f»', 'ð\\x9f\\x92\\x83ð\\x9f\\x8f»â\\x9c¨â\\x9d¤ï¸\\x8fð\\x9f\\x99\\x8fð\\x9f\\x8f»', 'ð\\x9f\\x92\\x83ð\\x9f\\x8f¼ð\\x9f\\x92\\x83ð\\x9f\\x8f¼ð\\x9f\\x92\\x83ð\\x9f\\x8f¼ð\\x9f\\x92\\x83ð\\x9f\\x8f¼ð\\x9f\\x92\\x83ð\\x9f\\x8f¼', 'ð\\x9f\\x92\\x86ð\\x9f\\x8f»', 'ð\\x9f\\x92\\x89', 'ð\\x9f\\x92\\x8b', 'ð\\x9f\\x92\\x8dlovemeinstagoodfollowphotooftheday', 'ð\\x9f\\x92\\x8eâ\\x80¦', 'ð\\x9f\\x92\\x92', 'ð\\x9f\\x92\\x93', 'ð\\x9f\\x92\\x93ð\\x9f\\x92\\x93ð\\x9f\\x92\\x93ð\\x9f\\x92\\x93', 'ð\\x9f\\x92\\x94', 'ð\\x9f\\x92\\x95', 'ð\\x9f\\x92\\x95ð\\x9f\\x98\\x98', 'ð\\x9f\\x92\\x96', 'ð\\x9f\\x92\\x96ð\\x9f\\x92\\x96ð\\x9f\\x92\\x96', 'ð\\x9f\\x92\\x97', 'ð\\x9f\\x92\\x97todays', 'ð\\x9f\\x92\\x97ð\\x9f\\x92\\x97', 'ð\\x9f\\x92\\x97ð\\x9f\\x92\\x97ð\\x9f\\x92\\x97', 'ð\\x9f\\x92\\x97ð\\x9f\\x92\\x97ð\\x9f\\x92\\x97ð\\x9f\\x92\\x97ð\\x9f\\x92\\x97', 'ð\\x9f\\x92\\x97ð\\x9f\\x92\\x9cð\\x9f\\x92\\x99ð\\x9f\\x92\\x9að\\x9f\\x92\\x9bâ\\x9d¤ï¸\\x8f', 'ð\\x9f\\x92\\x98', 'ð\\x9f\\x92\\x99', 'ð\\x9f\\x92\\x99healthy', 'ð\\x9f\\x92\\x9a', 'ð\\x9f\\x92\\x9að\\x9f\\x91\\x91', 'ð\\x9f\\x92\\x9b', 'ð\\x9f\\x92\\x9c', 'ð\\x9f\\x92\\x9cð\\x9f\\x92\\x9cð\\x9f\\x92\\x9c', 'ð\\x9f\\x92\\x9cð\\x9f\\x99\\x8cð\\x9f\\x8f½', 'ð\\x9f\\x92\\x9e', 'ð\\x9f\\x92¡', 'ð\\x9f\\x92¡ð\\x9f\\x91\\x89â\\x80¦', 'ð\\x9f\\x92¦ð\\x9f\\x92¦ð\\x9f\\x92¦', 'ð\\x9f\\x92©', 'ð\\x9f\\x92©ð\\x9f\\x92©ð\\x9f\\x92©', 'ð\\x9f\\x92ª', 'ð\\x9f\\x92ªð\\x9f\\x8f»ð\\x9f\\x9a¶ð\\x9f\\x8f¼', 'ð\\x9f\\x92«', 'ð\\x9f\\x92«we', 'ð\\x9f\\x92¯ð\\x9f\\x91\\x91ð\\x9f\\x92\\x9c', 'ð\\x9f\\x92¯ð\\x9f\\x98\\xad', 'ð\\x9f\\x93\\x8dspotted', 'ð\\x9f\\x93\\x96ð\\x9f\\x93\\x96ð\\x9f\\x93\\x96', 'ð\\x9f\\x93¡', 'ð\\x9f\\x93·', 'ð\\x9f\\x93¸', 'ð\\x9f\\x93¸ð\\x9f\\x93¸ð\\x9f\\x93¸', 'ð\\x9f\\x93¹', 'ð\\x9f\\x94\\x8cs', 'ð\\x9f\\x94\\x9cð\\x9f\\x91¸ð\\x9f\\x8f¼', 'ð\\x9f\\x94\\x9d', 'ð\\x9f\\x94¥', 'ð\\x9f\\x94¥ð\\x9f\\x8e\\x89ð\\x9f\\x92\\x83ð\\x9f\\x8f»ð\\x9f\\x8e¶', 'ð\\x9f\\x94¥ð\\x9f\\x92\\x98', 'ð\\x9f\\x94¥ð\\x9f\\x94¥', 'ð\\x9f\\x94¥ð\\x9f\\x94¥ð\\x9f\\x94¥ð\\x9f\\x94¥ð\\x9f\\x94¥', 'ð\\x9f\\x94®ð\\x9f\\x8c\\x8cð\\x9f\\x92«', 'ð\\x9f\\x94´', 'ð\\x9f\\x96\\x95', 'ð\\x9f\\x96\\x95ð\\x9f\\x96\\x95ð\\x9f\\x96\\x95', 'ð\\x9f\\x96\\x95ð\\x9f\\x96\\x95ð\\x9f\\x96\\x95ð\\x9f\\x96\\x95ð\\x9f\\x98', 'ð\\x9f\\x97\\x93', 'ð\\x9f\\x97½', 'ð\\x9f\\x98', 'ð\\x9f\\x98\\x80', 'ð\\x9f\\x98\\x80ð\\x9f\\x91\\x8dð\\x9f\\x8f»ð\\x9f\\x98\\x8a', 'ð\\x9f\\x98\\x80ð\\x9f\\x98\\x80ð\\x9f\\x98\\x80', 'ð\\x9f\\x98\\x81', 'ð\\x9f\\x98\\x81ð\\x9f\\x91\\x84ð\\x9f\\x92\\x81ð\\x9f\\x8f»', 'ð\\x9f\\x98\\x81ð\\x9f\\x98\\x80', 'ð\\x9f\\x98\\x81ð\\x9f\\x98\\x81', 'ð\\x9f\\x98\\x81ð\\x9f\\x98\\x81ð\\x9f\\x98\\x81', 'ð\\x9f\\x98\\x81ð\\x9f\\x98\\x81ð\\x9f\\x98\\x81â\\x9d¤ï¸\\x8f', 'ð\\x9f\\x98\\x81ð\\x9f\\x98\\x81ð\\x9f\\x98\\x81ð\\x9f\\x98\\x81', 'ð\\x9f\\x98\\x81ð\\x9f\\x98\\x82ð\\x9f\\x98\\x81', 'ð\\x9f\\x98\\x81ð\\x9f\\x98\\x8dð\\x9f\\x98³ð\\x9f\\x98\\x98ð\\x9f\\x98»ð\\x9f\\x98¸ð\\x9f\\x92\\x9cð\\x9f\\x92\\x93ð\\x9f\\x92\\x9e', 'ð\\x9f\\x98\\x82', 'ð\\x9f\\x98\\x82although', 'ð\\x9f\\x98\\x82ð\\x9f\\x92\\x96ð\\x9f\\x92\\x95ð\\x9f\\x92\\x95ð\\x9f\\x98\\x98', 'ð\\x9f\\x98\\x82ð\\x9f\\x92\\x99', 'ð\\x9f\\x98\\x82ð\\x9f\\x98\\x82', 'ð\\x9f\\x98\\x82ð\\x9f\\x98\\x82ð\\x9f\\x92\\x80', 'ð\\x9f\\x98\\x82ð\\x9f\\x98\\x82ð\\x9f\\x98\\x82', 'ð\\x9f\\x98\\x82ð\\x9f\\x98\\x82ð\\x9f\\x98\\x82ð\\x9f\\x98\\x82ð\\x9f\\x98\\x82ð\\x9f\\x98\\x82ð\\x9f\\x98\\x82ð\\x9f\\x98\\x82ð\\x9f\\x98\\x82ð\\x9f\\x98\\x82ð\\x9f\\x98\\x82', 'ð\\x9f\\x98\\x82ð\\x9f\\x98\\x8dð\\x9f\\x98\\x8dð\\x9f\\x98\\x8d', 'ð\\x9f\\x98\\x82ð\\x9f\\x98\\xadð\\x9f\\x98\\xadð\\x9f\\x98\\x82ð\\x9f\\x98©', 'ð\\x9f\\x98\\x83', 'ð\\x9f\\x98\\x84', 'ð\\x9f\\x98\\x84ð\\x9f\\x91\\x8dð\\x9f\\x8f»ð\\x9f\\x9b³', 'ð\\x9f\\x98\\x84ð\\x9f\\x92\\x81ð\\x9f\\x8f»', 'ð\\x9f\\x98\\x84ð\\x9f\\x92ª', 'ð\\x9f\\x98\\x84ð\\x9f\\x98\\x83', 'ð\\x9f\\x98\\x84ð\\x9f\\x98\\x84', 'ð\\x9f\\x98\\x84ð\\x9f\\x99\\x8câ\\x9d¤ð\\x9f\\x98\\x8d', 'ð\\x9f\\x98\\x86', 'ð\\x9f\\x98\\x86ð\\x9f\\x92\\x95ð\\x9f\\x8c\\x9fð\\x9f\\x92\\x93â\\x9c¨â\\xad\\x90ï¸\\x8f', 'ð\\x9f\\x98\\x86ð\\x9f\\x98\\x86ð\\x9f\\x98\\x86', 'ð\\x9f\\x98\\x86ð\\x9f\\x98\\x86ð\\x9f\\x98\\x86ð\\x9f\\x98\\x86', 'ð\\x9f\\x98\\x86ð\\x9f\\x98\\x86ð\\x9f\\x98±ð\\x9f\\x91\\x8a', 'ð\\x9f\\x98\\x87', 'ð\\x9f\\x98\\x88', 'ð\\x9f\\x98\\x89', 'ð\\x9f\\x98\\x89ð\\x9f\\x98\\x89ð\\x9f\\x98\\x89â\\x80¦', 'ð\\x9f\\x98\\x89ð\\x9f\\x98\\x89ð\\x9f\\x98\\x98', 'ð\\x9f\\x98\\x89ð\\x9f\\x98\\x9bð\\x9f\\x98\\x8að\\x9f\\x92\\x8b', 'ð\\x9f\\x98\\x8a', 'ð\\x9f\\x98\\x8aâ\\x98\\x80ï¸\\x8fð\\x9f\\x8c¼ð\\x9f\\x8c»', 'ð\\x9f\\x98\\x8aâ\\x9d¤', 'ð\\x9f\\x98\\x8aâ\\x9d¤ï¸\\x8f', 'ð\\x9f\\x98\\x8aâ\\x9d¤ï¸\\x8fð\\x9f\\x91¯ð\\x9f\\x8e\\x89', 'ð\\x9f\\x98\\x8aâ\\x9d¤ï¸\\x8fð\\x9f\\x91¶', 'ð\\x9f\\x98\\x8að\\x9f\\x92\\x95', 'ð\\x9f\\x98\\x8að\\x9f\\x92ªð\\x9f\\x8f»ð\\x9f\\x92ªð\\x9f\\x8f»ð\\x9f\\x92ªð\\x9f\\x8f»', 'ð\\x9f\\x98\\x8að\\x9f\\x98\\x81', 'ð\\x9f\\x98\\x8að\\x9f\\x98\\x84ð\\x9f\\x98\\x8að\\x9f\\x98\\x84ð\\x9f\\x98\\x8a', 'ð\\x9f\\x98\\x8að\\x9f\\x98\\x89ð\\x9f\\x98\\x98ð\\x9f\\x98\\x9a', 'ð\\x9f\\x98\\x8að\\x9f\\x98\\x8a', 'ð\\x9f\\x98\\x8að\\x9f\\x98\\x8að\\x9f\\x98\\x8a', 'ð\\x9f\\x98\\x8að\\x9f\\x98\\x98â\\x9d¤ï¸\\x8f', 'ð\\x9f\\x98\\x8c', 'ð\\x9f\\x98\\x8d', 'ð\\x9f\\x98\\x8dchicago', 'ð\\x9f\\x98\\x8dâ\\x9c¨ð\\x9f\\x98\\x8b', 'ð\\x9f\\x98\\x8dð\\x9f\\x8e\\x89', 'ð\\x9f\\x98\\x8dð\\x9f\\x92\\x95', 'ð\\x9f\\x98\\x8dð\\x9f\\x94\\x9c', 'ð\\x9f\\x98\\x8dð\\x9f\\x94¥ð\\x9f\\x8e\\x89ð\\x9f\\x8e\\x82', 'ð\\x9f\\x98\\x8dð\\x9f\\x98\\x86', 'ð\\x9f\\x98\\x8dð\\x9f\\x98\\x8d', 'ð\\x9f\\x98\\x8dð\\x9f\\x98\\x8dð\\x9f\\x98\\x84ð\\x9f\\x98\\x84ð\\x9f\\x98\\x84ð\\x9f\\x98\\x84ð\\x9f\\x98\\x84', 'ð\\x9f\\x98\\x8dð\\x9f\\x98\\x8dð\\x9f\\x98\\x8d', 'ð\\x9f\\x98\\x8dð\\x9f\\x98\\x8dð\\x9f\\x98\\x8dâ\\x9d¤ï¸\\x8fâ\\x9d¤ï¸\\x8fâ\\x9d¤ï¸\\x8f', 'ð\\x9f\\x98\\x8dð\\x9f\\x98\\x8dð\\x9f\\x98\\x8dð\\x9f\\x98\\x8dð\\x9f\\x98\\x8dð\\x9f\\x98\\x8dð\\x9f\\x98\\x8dð\\x9f\\x98\\x8d', 'ð\\x9f\\x98\\x8dð\\x9f\\x98\\x8dð\\x9f\\x98\\x98â\\x9d¤ð\\x9f\\x92\\x83ð\\x9f\\x92\\x83ð\\x9f\\x99\\x88', 'ð\\x9f\\x98\\x8dð\\x9f\\x98\\x8dð\\x9f\\x98\\x98ð\\x9f\\x98\\x98', 'ð\\x9f\\x98\\x8dð\\x9f\\x98\\x98', 'ð\\x9f\\x98\\x8e', 'ð\\x9f\\x98\\x8eð\\x9f\\x98\\x8d', 'ð\\x9f\\x98\\x8eð\\x9f\\x98\\x8e', 'ð\\x9f\\x98\\x8eð\\x9f\\x98\\x8eð\\x9f\\x98\\x8eð\\x9f\\x8c\\x9eð\\x9f\\x8c\\x9eð\\x9f\\x8c\\x9eó¾®\\x9eð\\x9f\\x8f»', 'ð\\x9f\\x98\\x8eð\\x9f\\x98\\x8eð\\x9f\\x98\\x8eð\\x9f\\x8dº', 'ð\\x9f\\x98\\x8f', 'ð\\x9f\\x98\\x92', 'ð\\x9f\\x98\\x92ð\\x9f\\x98\\x92ð\\x9f\\x98\\x92', 'ð\\x9f\\x98\\x93', 'ð\\x9f\\x98\\x94', 'ð\\x9f\\x98\\x94ð\\x9f\\x99\\x8fð\\x9f\\x8f»', 'ð\\x9f\\x98\\x95', 'ð\\x9f\\x98\\x98', 'ð\\x9f\\x98\\x98â\\x80¦', 'ð\\x9f\\x98\\x98ð\\x9f\\x92\\x95', 'ð\\x9f\\x98\\x98ð\\x9f\\x98\\x98ð\\x9f\\x98\\x98', 'ð\\x9f\\x98\\x99ð\\x9f\\x91\\x8c', 'ð\\x9f\\x98\\x99ð\\x9f\\x98\\x8eð\\x9f\\x91\\x84ð\\x9f\\x91', 'ð\\x9f\\x98\\x9a', 'ð\\x9f\\x98\\x9að\\x9f\\x98\\x9að\\x9f\\x98\\x8eð\\x9f\\x98\\x8eð\\x9f\\x98\\x8eð\\x9f\\x98\\x8e', 'ð\\x9f\\x98\\x9c', 'ð\\x9f\\x98\\x9cð\\x9f\\x98\\x88', 'ð\\x9f\\x98\\x9cð\\x9f\\x98\\x8d', 'ð\\x9f\\x98\\x9cð\\x9f\\x98\\x9cð\\x9f\\x92\\x96ð\\x9f\\x92\\x96ð\\x9f\\x92\\x90ð\\x9f\\x8d¾ð\\x9f\\x8d¾', 'ð\\x9f\\x98\\x9cð\\x9f\\x99\\x8c', 'ð\\x9f\\x98\\x9d', 'ð\\x9f\\x98\\x9e', 'ð\\x9f\\x98\\x9eð\\x9f\\x98\\x82ð\\x9f\\x98\\x8a', 'ð\\x9f\\x98\\x9eð\\x9f\\x98\\x9e', 'ð\\x9f\\x98¡', 'ð\\x9f\\x98¡ð\\x9f\\x92©', 'ð\\x9f\\x98¡ð\\x9f\\x98¡loveislove', 'ð\\x9f\\x98¡ð\\x9f\\x98¡ð\\x9f\\x98¡', 'ð\\x9f\\x98¢', 'ð\\x9f\\x98¢ð\\x9f\\x92\\x89ð\\x9f\\x9a\\x91', 'ð\\x9f\\x98¢ð\\x9f\\x92\\x94', 'ð\\x9f\\x98¢ð\\x9f\\x98\\x82', 'ð\\x9f\\x98¤ð\\x9f\\x98¢', 'ð\\x9f\\x98¤ð\\x9f\\x98¤', 'ð\\x9f\\x98¨', 'ð\\x9f\\x98©', 'ð\\x9f\\x98©the', 'ð\\x9f\\x98©ð\\x9f\\x8c¹ð\\x9f\\x8d·', 'ð\\x9f\\x98ª', 'ð\\x9f\\x98ªð\\x9f\\x92\\x94', 'ð\\x9f\\x98¬', 'ð\\x9f\\x98¬ð\\x9f\\x98¬', 'ð\\x9f\\x98\\xad', 'ð\\x9f\\x98\\xadpeople', 'ð\\x9f\\x98\\xadð\\x9f\\x92\\x94ð\\x9f\\x92\\x94', 'ð\\x9f\\x98\\xadð\\x9f\\x98\\xad', 'ð\\x9f\\x98\\xadð\\x9f\\x98\\xadð\\x9f\\x98\\xad', 'ð\\x9f\\x98\\xadð\\x9f\\x99\\x8fð\\x9f\\x8f½', 'ð\\x9f\\x98®', 'ð\\x9f\\x98±', 'ð\\x9f\\x98±ð\\x9f\\x90\\x87ð\\x9f\\x8d°â\\x98ºï¸\\x8fâ\\x9d¤ï¸\\x8f', 'ð\\x9f\\x98±ð\\x9f\\x91\\x8að\\x9f\\x8f¼', 'ð\\x9f\\x98±ð\\x9f\\x98¢', 'ð\\x9f\\x98³', 'ð\\x9f\\x98¹', 'ð\\x9f\\x99\\x82', 'ð\\x9f\\x99\\x83', 'ð\\x9f\\x99\\x83ð\\x9f¤\\x93ð\\x9f\\x99\\x84ð\\x9f\\x98\\x8fð\\x9f\\x98\\x8eð\\x9f\\x98\\x80ð\\x9f\\x98\\x86ð\\x9f\\x98\\x84', 'ð\\x9f\\x99\\x84', 'ð\\x9f\\x99\\x88', 'ð\\x9f\\x99\\x88â\\x9d¤ï¸\\x8fð\\x9f\\x98\\x8d', 'ð\\x9f\\x99\\x88ð\\x9f\\x98³', 'ð\\x9f\\x99\\x8að\\x9f\\x8e\\x81', 'ð\\x9f\\x99\\x8b', 'ð\\x9f\\x99\\x8c', 'ð\\x9f\\x99\\x8cð\\x9f\\x8f»ð\\x9f\\x99\\x8cð\\x9f\\x8f»', 'ð\\x9f\\x99\\x8cð\\x9f\\x8f¼', 'ð\\x9f\\x99\\x8cð\\x9f\\x8f½ð\\x9f\\x8f¡ð\\x9f\\x98\\x84', 'ð\\x9f\\x99\\x8cð\\x9f\\x99\\x8c', 'ð\\x9f\\x99\\x8cð\\x9f\\x99\\x8câ\\x9c¨ð\\x9f\\x92\\x83ð\\x9f\\x92\\x83ð\\x9f\\x8eµð\\x9f\\x8c\\x88ð\\x9f\\x98\\x8aâ\\x98ºð\\x9f\\x92\\x95', 'ð\\x9f\\x99\\x8f', 'ð\\x9f\\x99\\x8fquote', 'ð\\x9f\\x99\\x8fð\\x9f\\x8f»', 'ð\\x9f\\x99\\x8fð\\x9f\\x8f»ð\\x9f\\x99\\x8fð\\x9f\\x8f»ð\\x9f\\x99\\x8fð\\x9f\\x8f»', 'ð\\x9f\\x99\\x8fð\\x9f\\x99\\x8fð\\x9f\\x99\\x8f', 'ð\\x9f\\x9a\\x97', 'ð\\x9f\\x9a\\x99', 'ð\\x9f\\x9a¨whitegenocide', 'ð\\x9f¤\\x91ð\\x9f\\x98', 'ð\\x9f¤\\x94', 'ð\\x9f¤\\x94ð\\x9f\\x98\\x82', 'ð\\x9f¤\\x94ð\\x9f\\x98\\x92', 'ð\\x9f¤\\x97', 'ð\\x9f¤\\x97ð\\x9f\\x98\\x8d', 'ð\\x9f¤\\x98ð\\x9f\\x8f»', 'ð\\x9f¤£ð\\x9f\\x98\\x9b', 'ð\\x9f¤°ð\\x9f\\x8f¼sâ\\x80¦', 'ð\\x9f¦\\x81ð\\x9f\\x90¯ð\\x9f\\x91¯', 'ð\\x9f¦\\x84', 'ó¾\\x86\\x90', 'ó¾\\x86\\x9f', 'ó¾\\x86\\x9fó¾\\x86\\x9fó¾\\x86\\x9f', 'ó¾\\x8c§', 'ó¾\\x8c¬ó¾\\x8c¬', 'ó¾\\x8cµ', 'ó¾\\x93\\x94ó¾\\x94\\x9b', 'ó¾®\\x97ó¾\\x8cµó¾\\xad»', '‘top', '‘you', '“Suck', '“Use', '“everything', '👀', '💀', '😕', '😦', '😭', '😮\\u200d💨😮\\u200d💨😮\\u200d💨😮\\u200d💨😮\\u200d💨😮\\u200d💨', '🙃', '🤡', '🤣']\n"
     ]
    },
    {
     "name": "stderr",
     "output_type": "stream",
     "text": [
      "c:\\Users\\Reinhart\\AppData\\Local\\Programs\\Python\\Python39\\lib\\site-packages\\sklearn\\utils\\deprecation.py:87: FutureWarning: Function get_feature_names is deprecated; get_feature_names is deprecated in 1.0 and will be removed in 1.2. Please use get_feature_names_out instead.\n",
      "  warnings.warn(msg, category=FutureWarning)\n"
     ]
    }
   ],
   "source": [
    "print(vectorizer.get_feature_names())\n"
   ]
  },
  {
   "cell_type": "markdown",
   "metadata": {
    "id": "jIVxZdZ1USAz"
   },
   "source": [
    "# Step 5: Train and Evaluate Logistic Regression Model"
   ]
  },
  {
   "cell_type": "code",
   "execution_count": 120,
   "metadata": {
    "id": "VzFqwyR77j2R"
   },
   "outputs": [],
   "source": [
    "# We exclude the last 100 data since it contains the Andrew Tate tweets that we're going to analyze\n",
    "# We dont want the training model to access testing data\n",
    "X_modeling = X_all[:-100]\n",
    "y_modeling = df_all.iloc[:-100]['label']\n"
   ]
  },
  {
   "cell_type": "code",
   "execution_count": 121,
   "metadata": {
    "id": "8QhKKuA88Sdr"
   },
   "outputs": [],
   "source": [
    "#splitting the data into train and test\n",
    "from sklearn.model_selection import train_test_split\n",
    "X_train, X_test, y_train, y_test = train_test_split(X_modeling, y_modeling, test_size=0.2)\n"
   ]
  },
  {
   "cell_type": "code",
   "execution_count": 122,
   "metadata": {
    "colab": {
     "base_uri": "https://localhost:8080/",
     "height": 421
    },
    "id": "s_aULZ3-uSDJ",
    "outputId": "8a9ff66f-7738-4edb-e725-fa66f5eaafb4"
   },
   "outputs": [
    {
     "name": "stdout",
     "output_type": "stream",
     "text": [
      "              precision    recall  f1-score   support\n",
      "\n",
      "           0       0.84      0.87      0.86       439\n",
      "           1       0.87      0.84      0.86       458\n",
      "\n",
      "    accuracy                           0.86       897\n",
      "   macro avg       0.86      0.86      0.86       897\n",
      "weighted avg       0.86      0.86      0.86       897\n",
      "\n"
     ]
    },
    {
     "data": {
      "image/png": "[encoded data removed]",
      "text/plain": [
       "<Figure size 432x288 with 2 Axes>"
      ]
     },
     "metadata": {
      "needs_background": "light"
     },
     "output_type": "display_data"
    }
   ],
   "source": [
    "from sklearn.linear_model import LogisticRegression\n",
    "from sklearn.metrics import classification_report, confusion_matrix\n",
    "\n",
    "# Applying Logistic Regression model\n",
    "model = LogisticRegression()\n",
    "model.fit(X_train, y_train)\n",
    "\n",
    "y_pred = model.predict(X_test)\n",
    "\n",
    "\n",
    "#Generating confusion Matrix and classification report\n",
    "cm = confusion_matrix(y_pred, y_test)\n",
    "sns.heatmap(cm, annot = True, fmt = 'g')\n",
    "\n",
    "print(classification_report(y_test, y_pred))"
   ]
  },
  {
   "cell_type": "markdown",
   "metadata": {
    "id": "MNiEgcKx_Mro"
   },
   "source": [
    "# Step 6: Applying the model to Andrew Tate related tweets"
   ]
  },
  {
   "cell_type": "code",
   "execution_count": 123,
   "metadata": {
    "colab": {
     "base_uri": "https://localhost:8080/"
    },
    "id": "ogz49SnpS0U3",
    "outputId": "9e3522e3-eab5-4585-f102-82b87b647aab"
   },
   "outputs": [
    {
     "name": "stderr",
     "output_type": "stream",
     "text": [
      "C:\\Users\\Reinhart\\AppData\\Local\\Temp\\ipykernel_12004\\4263689131.py:3: SettingWithCopyWarning: \n",
      "A value is trying to be set on a copy of a slice from a DataFrame.\n",
      "Try using .loc[row_indexer,col_indexer] = value instead\n",
      "\n",
      "See the caveats in the documentation: https://pandas.pydata.org/pandas-docs/stable/user_guide/indexing.html#returning-a-view-versus-a-copy\n",
      "  df_all.iloc[-100:]['label'] = y_predict_tate\n"
     ]
    },
    {
     "data": {
      "text/plain": [
       "array([0, 0, 0, 0, 0, 0, 0, 0, 0, 0, 1, 1, 1, 0, 0, 0, 0, 1, 0, 0, 0, 0,\n",
       "       1, 0, 0, 0, 0, 0, 0, 0, 1, 0, 0, 0, 0, 0, 0, 0, 0, 1, 0, 0, 0, 0,\n",
       "       0, 0, 0, 1, 0, 0, 0, 0, 0, 1, 0, 0, 1, 0, 0, 0, 0, 0, 0, 0, 1, 0,\n",
       "       1, 1, 0, 0, 0, 1, 0, 0, 0, 1, 0, 0, 0, 0, 0, 0, 1, 1, 0, 1, 0, 0,\n",
       "       0, 0, 0, 0, 0, 1, 1, 1, 0, 0, 0, 0], dtype=int64)"
      ]
     },
     "execution_count": 123,
     "metadata": {},
     "output_type": "execute_result"
    }
   ],
   "source": [
    "#Testing the model on Andrew Tate tweets\n",
    "y_predict_tate = model.predict(X_all[-100:])\n",
    "df_all.iloc[-100:]['label'] = y_predict_tate\n",
    "df_tate = df_all.iloc[-100:]\n",
    "y_predict_tate"
   ]
  },
  {
   "cell_type": "code",
   "execution_count": 124,
   "metadata": {},
   "outputs": [
    {
     "name": "stdout",
     "output_type": "stream",
     "text": [
      "The number of negative labeled tweets out of 100 are : \n",
      "21\n",
      "The number of positive labeled tweets out of 100 are : \n",
      "79\n"
     ]
    }
   ],
   "source": [
    "print(\"The number of negative labeled tweets out of 100 are : \")\n",
    "print(len(y_predict_tate[y_predict_tate == 1]))\n",
    "print(\"The number of positive labeled tweets out of 100 are : \")\n",
    "print(len(y_predict_tate[y_predict_tate == 0]))"
   ]
  },
  {
   "cell_type": "code",
   "execution_count": 126,
   "metadata": {},
   "outputs": [
    {
     "data": {
      "image/png": "[encoded data removed]",
      "text/plain": [
       "<Figure size 720x504 with 1 Axes>"
      ]
     },
     "metadata": {},
     "output_type": "display_data"
    }
   ],
   "source": [
    "# Creating dataset\n",
    "sentiment = [ 'negative', 'positive']\n",
    " \n",
    "data = [len(y_predict_tate[y_predict_tate == 1]), len(y_predict_tate[y_predict_tate == 0])]\n",
    " \n",
    "# Creating plot\n",
    "fig = plt.figure(figsize =(10, 7))\n",
    "plt.pie(data, labels = sentiment)\n",
    " \n",
    "# show plot\n",
    "plt.show()"
   ]
  }
 ],
 "metadata": {
  "accelerator": "GPU",
  "colab": {
   "collapsed_sections": [],
   "provenance": []
  },
  "kernelspec": {
   "display_name": "Python 3 (ipykernel)",
   "language": "python",
   "name": "python3"
  },
  "language_info": {
   "codemirror_mode": {
    "name": "ipython",
    "version": 3
   },
   "file_extension": ".py",
   "mimetype": "text/x-python",
   "name": "python",
   "nbconvert_exporter": "python",
   "pygments_lexer": "ipython3",
   "version": "3.9.4"
  },
  "vscode": {
   "interpreter": {
    "hash": "ea268660bf9799aa722b9ccff49a6824aee27341d761f91e3e3f5251bc05ecef"
   }
  }
 },
 "nbformat": 4,
 "nbformat_minor": 1
}
