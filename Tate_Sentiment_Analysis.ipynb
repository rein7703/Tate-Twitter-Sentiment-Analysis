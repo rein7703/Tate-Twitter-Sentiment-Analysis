{
  "cells": [
    {
      "cell_type": "markdown",
      "metadata": {
        "id": "DVyZ9vieC8-W"
      },
      "source": [
        "# Twitter Sentiment Analysis: The Rise (or Fall) of Andrew Tate"
      ]
    },
    {
      "cell_type": "markdown",
      "metadata": {
        "id": "7pbY85jFDFA_"
      },
      "source": [
        "Overview:\n",
        "We're going to analyze people's perception of Andrew Tate on twitter with positive sentiment represented with label '1' and negative sentiment represented with label '0'. We use Logistic Regression algorithm to classify each tweets"
      ]
    },
    {
      "cell_type": "markdown",
      "metadata": {
        "id": "sUUWxpNzvlPs"
      },
      "source": [
        "Training Dataset Source: https://www.coursera.org/projects/twitter-sentiment-analysis\n",
        "\n",
        "Testing dataset to get insight about Andrew Tate from Twitter API\n"
      ]
    },
    {
      "cell_type": "markdown",
      "metadata": {
        "id": "uAE6Icc0uylP"
      },
      "source": [
        "# Step 1: IMPORT LIBRARIES AND DATASETS"
      ]
    },
    {
      "cell_type": "code",
      "execution_count": 1,
      "metadata": {
        "id": "YBp2qDPb8pDo"
      },
      "outputs": [],
      "source": [
        "import pandas as pd\n",
        "import numpy as np\n",
        "import seaborn as sns\n",
        "import matplotlib.pyplot as plt"
      ]
    },
    {
      "cell_type": "code",
      "execution_count": 2,
      "metadata": {
        "id": "tjIiJdM4u1IE"
      },
      "outputs": [],
      "source": [
        "# Load the data\n",
        "df = pd.read_csv('twitter.csv')"
      ]
    },
    {
      "cell_type": "markdown",
      "metadata": {
        "id": "N_oxtwQWwtjo"
      },
      "source": [
        "As we can see from the result below, the data is imbalanced. There are way more positive labeled tweets in comparison to the negatively labeled"
      ]
    },
    {
      "cell_type": "code",
      "execution_count": 3,
      "metadata": {
        "colab": {
          "base_uri": "https://localhost:8080/"
        },
        "id": "c1RCreTIwOk1",
        "outputId": "a6825bd1-dcc3-4bf9-f4e3-640fbfffe625"
      },
      "outputs": [
        {
          "name": "stdout",
          "output_type": "stream",
          "text": [
            "The shape of negative labeled tweets: \n",
            "(2242, 3)\n",
            "The shape of positive labeled tweets: \n",
            "(29720, 3)\n"
          ]
        }
      ],
      "source": [
        "# seeing the number of negative and positive labeled data\n",
        "print(\"The shape of negative labeled tweets: \")\n",
        "print(df[df['label']== 1].shape)\n",
        "print(\"The shape of positive labeled tweets: \")\n",
        "print(df[df['label'] == 0].shape)"
      ]
    },
    {
      "cell_type": "markdown",
      "metadata": {
        "id": "T8-oryGrxTQb"
      },
      "source": [
        "To prevent the bias towards positive labeling, we're sampling the positive labeled tweet to match the amount of the negative labeled tweets, 2242 tweets for each labels"
      ]
    },
    {
      "cell_type": "code",
      "execution_count": 4,
      "metadata": {
        "colab": {
          "base_uri": "https://localhost:8080/"
        },
        "id": "q4_wPDKCu5Uc",
        "outputId": "4361d3b3-c3de-44ae-ba82-eb41a0e2b0b3"
      },
      "outputs": [
        {
          "name": "stderr",
          "output_type": "stream",
          "text": [
            "C:\\Users\\Reinhart\\AppData\\Local\\Temp\\ipykernel_8252\\3220590225.py:5: SettingWithCopyWarning: \n",
            "A value is trying to be set on a copy of a slice from a DataFrame\n",
            "\n",
            "See the caveats in the documentation: https://pandas.pydata.org/pandas-docs/stable/user_guide/indexing.html#returning-a-view-versus-a-copy\n",
            "  df_label_zero.drop(df_label_zero.index[2242:], axis=0, inplace=True)\n"
          ]
        }
      ],
      "source": [
        "df_label_one = df[df['label']==1]\n",
        "df_label_one\n",
        "\n",
        "df_label_zero = df[df['label']==0]\n",
        "df_label_zero.drop(df_label_zero.index[2242:], axis=0, inplace=True)\n",
        "df_label_zero\n",
        "\n",
        "frames_1 = [df_label_zero, df_label_one]\n",
        "pd.set_option('display.max_rows', 10)\n",
        "tweets_df= pd.concat(frames_1, ignore_index = True)"
      ]
    },
    {
      "cell_type": "code",
      "execution_count": 5,
      "metadata": {
        "colab": {
          "base_uri": "https://localhost:8080/"
        },
        "id": "kbG0axf0CGzB",
        "outputId": "92a74e8e-f14a-4f7f-80bd-9006f377c75f"
      },
      "outputs": [
        {
          "name": "stdout",
          "output_type": "stream",
          "text": [
            "(2242, 3)\n",
            "(2242, 3)\n"
          ]
        }
      ],
      "source": [
        "print(df_label_one.shape)\n",
        "print(df_label_zero.shape)"
      ]
    },
    {
      "cell_type": "code",
      "execution_count": 6,
      "metadata": {
        "colab": {
          "base_uri": "https://localhost:8080/"
        },
        "id": "RUt2ON_UxyYk",
        "outputId": "1e198627-56f0-4903-baaf-6ffc00281317"
      },
      "outputs": [
        {
          "name": "stdout",
          "output_type": "stream",
          "text": [
            "<class 'pandas.core.frame.DataFrame'>\n",
            "RangeIndex: 4484 entries, 0 to 4483\n",
            "Data columns (total 3 columns):\n",
            " #   Column  Non-Null Count  Dtype \n",
            "---  ------  --------------  ----- \n",
            " 0   id      4484 non-null   int64 \n",
            " 1   label   4484 non-null   int64 \n",
            " 2   tweet   4484 non-null   object\n",
            "dtypes: int64(2), object(1)\n",
            "memory usage: 105.2+ KB\n"
          ]
        }
      ],
      "source": [
        "tweets_df.info()"
      ]
    },
    {
      "cell_type": "code",
      "execution_count": 7,
      "metadata": {
        "colab": {
          "base_uri": "https://localhost:8080/",
          "height": 424
        },
        "id": "hMq3-KWOx0e1",
        "outputId": "73eaa448-b023-4e34-acc0-9b4611c831dd"
      },
      "outputs": [
        {
          "data": {
            "text/html": [
              "<div>\n",
              "<style scoped>\n",
              "    .dataframe tbody tr th:only-of-type {\n",
              "        vertical-align: middle;\n",
              "    }\n",
              "\n",
              "    .dataframe tbody tr th {\n",
              "        vertical-align: top;\n",
              "    }\n",
              "\n",
              "    .dataframe thead th {\n",
              "        text-align: right;\n",
              "    }\n",
              "</style>\n",
              "<table border=\"1\" class=\"dataframe\">\n",
              "  <thead>\n",
              "    <tr style=\"text-align: right;\">\n",
              "      <th></th>\n",
              "      <th>id</th>\n",
              "      <th>label</th>\n",
              "      <th>tweet</th>\n",
              "    </tr>\n",
              "  </thead>\n",
              "  <tbody>\n",
              "    <tr>\n",
              "      <th>0</th>\n",
              "      <td>1</td>\n",
              "      <td>0</td>\n",
              "      <td>@user when a father is dysfunctional and is s...</td>\n",
              "    </tr>\n",
              "    <tr>\n",
              "      <th>1</th>\n",
              "      <td>2</td>\n",
              "      <td>0</td>\n",
              "      <td>@user @user thanks for #lyft credit i can't us...</td>\n",
              "    </tr>\n",
              "    <tr>\n",
              "      <th>2</th>\n",
              "      <td>3</td>\n",
              "      <td>0</td>\n",
              "      <td>bihday your majesty</td>\n",
              "    </tr>\n",
              "    <tr>\n",
              "      <th>3</th>\n",
              "      <td>4</td>\n",
              "      <td>0</td>\n",
              "      <td>#model   i love u take with u all the time in ...</td>\n",
              "    </tr>\n",
              "    <tr>\n",
              "      <th>4</th>\n",
              "      <td>5</td>\n",
              "      <td>0</td>\n",
              "      <td>factsguide: society now    #motivation</td>\n",
              "    </tr>\n",
              "    <tr>\n",
              "      <th>...</th>\n",
              "      <td>...</td>\n",
              "      <td>...</td>\n",
              "      <td>...</td>\n",
              "    </tr>\n",
              "    <tr>\n",
              "      <th>4479</th>\n",
              "      <td>31935</td>\n",
              "      <td>1</td>\n",
              "      <td>lady banned from kentucky mall. @user  #jcpenn...</td>\n",
              "    </tr>\n",
              "    <tr>\n",
              "      <th>4480</th>\n",
              "      <td>31947</td>\n",
              "      <td>1</td>\n",
              "      <td>@user omfg i'm offended! i'm a  mailbox and i'...</td>\n",
              "    </tr>\n",
              "    <tr>\n",
              "      <th>4481</th>\n",
              "      <td>31948</td>\n",
              "      <td>1</td>\n",
              "      <td>@user @user you don't have the balls to hashta...</td>\n",
              "    </tr>\n",
              "    <tr>\n",
              "      <th>4482</th>\n",
              "      <td>31949</td>\n",
              "      <td>1</td>\n",
              "      <td>makes you ask yourself, who am i? then am i a...</td>\n",
              "    </tr>\n",
              "    <tr>\n",
              "      <th>4483</th>\n",
              "      <td>31961</td>\n",
              "      <td>1</td>\n",
              "      <td>@user #sikh #temple vandalised in in #calgary,...</td>\n",
              "    </tr>\n",
              "  </tbody>\n",
              "</table>\n",
              "<p>4484 rows × 3 columns</p>\n",
              "</div>"
            ],
            "text/plain": [
              "         id  label                                              tweet\n",
              "0         1      0   @user when a father is dysfunctional and is s...\n",
              "1         2      0  @user @user thanks for #lyft credit i can't us...\n",
              "2         3      0                                bihday your majesty\n",
              "3         4      0  #model   i love u take with u all the time in ...\n",
              "4         5      0             factsguide: society now    #motivation\n",
              "...     ...    ...                                                ...\n",
              "4479  31935      1  lady banned from kentucky mall. @user  #jcpenn...\n",
              "4480  31947      1  @user omfg i'm offended! i'm a  mailbox and i'...\n",
              "4481  31948      1  @user @user you don't have the balls to hashta...\n",
              "4482  31949      1   makes you ask yourself, who am i? then am i a...\n",
              "4483  31961      1  @user #sikh #temple vandalised in in #calgary,...\n",
              "\n",
              "[4484 rows x 3 columns]"
            ]
          },
          "execution_count": 7,
          "metadata": {},
          "output_type": "execute_result"
        }
      ],
      "source": [
        "tweets_df.describe()\n",
        "tweets_df"
      ]
    },
    {
      "cell_type": "code",
      "execution_count": 8,
      "metadata": {
        "colab": {
          "base_uri": "https://localhost:8080/",
          "height": 424
        },
        "id": "pMjxoiu_3bs5",
        "outputId": "a2adb9e6-b8a0-46d9-a873-2d9915edfb88"
      },
      "outputs": [
        {
          "data": {
            "text/html": [
              "<div>\n",
              "<style scoped>\n",
              "    .dataframe tbody tr th:only-of-type {\n",
              "        vertical-align: middle;\n",
              "    }\n",
              "\n",
              "    .dataframe tbody tr th {\n",
              "        vertical-align: top;\n",
              "    }\n",
              "\n",
              "    .dataframe thead th {\n",
              "        text-align: right;\n",
              "    }\n",
              "</style>\n",
              "<table border=\"1\" class=\"dataframe\">\n",
              "  <thead>\n",
              "    <tr style=\"text-align: right;\">\n",
              "      <th></th>\n",
              "      <th>label</th>\n",
              "      <th>tweet</th>\n",
              "    </tr>\n",
              "  </thead>\n",
              "  <tbody>\n",
              "    <tr>\n",
              "      <th>0</th>\n",
              "      <td>0</td>\n",
              "      <td>@user when a father is dysfunctional and is s...</td>\n",
              "    </tr>\n",
              "    <tr>\n",
              "      <th>1</th>\n",
              "      <td>0</td>\n",
              "      <td>@user @user thanks for #lyft credit i can't us...</td>\n",
              "    </tr>\n",
              "    <tr>\n",
              "      <th>2</th>\n",
              "      <td>0</td>\n",
              "      <td>bihday your majesty</td>\n",
              "    </tr>\n",
              "    <tr>\n",
              "      <th>3</th>\n",
              "      <td>0</td>\n",
              "      <td>#model   i love u take with u all the time in ...</td>\n",
              "    </tr>\n",
              "    <tr>\n",
              "      <th>4</th>\n",
              "      <td>0</td>\n",
              "      <td>factsguide: society now    #motivation</td>\n",
              "    </tr>\n",
              "    <tr>\n",
              "      <th>...</th>\n",
              "      <td>...</td>\n",
              "      <td>...</td>\n",
              "    </tr>\n",
              "    <tr>\n",
              "      <th>4479</th>\n",
              "      <td>1</td>\n",
              "      <td>lady banned from kentucky mall. @user  #jcpenn...</td>\n",
              "    </tr>\n",
              "    <tr>\n",
              "      <th>4480</th>\n",
              "      <td>1</td>\n",
              "      <td>@user omfg i'm offended! i'm a  mailbox and i'...</td>\n",
              "    </tr>\n",
              "    <tr>\n",
              "      <th>4481</th>\n",
              "      <td>1</td>\n",
              "      <td>@user @user you don't have the balls to hashta...</td>\n",
              "    </tr>\n",
              "    <tr>\n",
              "      <th>4482</th>\n",
              "      <td>1</td>\n",
              "      <td>makes you ask yourself, who am i? then am i a...</td>\n",
              "    </tr>\n",
              "    <tr>\n",
              "      <th>4483</th>\n",
              "      <td>1</td>\n",
              "      <td>@user #sikh #temple vandalised in in #calgary,...</td>\n",
              "    </tr>\n",
              "  </tbody>\n",
              "</table>\n",
              "<p>4484 rows × 2 columns</p>\n",
              "</div>"
            ],
            "text/plain": [
              "      label                                              tweet\n",
              "0         0   @user when a father is dysfunctional and is s...\n",
              "1         0  @user @user thanks for #lyft credit i can't us...\n",
              "2         0                                bihday your majesty\n",
              "3         0  #model   i love u take with u all the time in ...\n",
              "4         0             factsguide: society now    #motivation\n",
              "...     ...                                                ...\n",
              "4479      1  lady banned from kentucky mall. @user  #jcpenn...\n",
              "4480      1  @user omfg i'm offended! i'm a  mailbox and i'...\n",
              "4481      1  @user @user you don't have the balls to hashta...\n",
              "4482      1   makes you ask yourself, who am i? then am i a...\n",
              "4483      1  @user #sikh #temple vandalised in in #calgary,...\n",
              "\n",
              "[4484 rows x 2 columns]"
            ]
          },
          "execution_count": 8,
          "metadata": {},
          "output_type": "execute_result"
        }
      ],
      "source": [
        "# Drop the 'id' column\n",
        "tweets_df = tweets_df.drop(['id'], axis=1)\n",
        "tweets_df"
      ]
    },
    {
      "cell_type": "markdown",
      "metadata": {
        "id": "kGmZtjZI2k5G"
      },
      "source": [
        "# Step 2: Importing data from Twitter API"
      ]
    },
    {
      "cell_type": "code",
      "execution_count": 9,
      "metadata": {
        "id": "rC7PWufWKgNl"
      },
      "outputs": [],
      "source": [
        "from tweepy import API \n",
        "from tweepy import Cursor\n",
        "from tweepy.streaming import StreamListener\n",
        "from tweepy import OAuthHandler\n",
        "from tweepy import Stream\n",
        "\n",
        "from textblob import TextBlob\n",
        "import re\n"
      ]
    },
    {
      "cell_type": "code",
      "execution_count": 10,
      "metadata": {
        "id": "FCHXz03SNhB-"
      },
      "outputs": [],
      "source": [
        "# For twitter API credentials\n",
        "class Credentials():\n",
        "  def __init__(self, access_token, access_token_secret, consumer_key, consumer_secret):\n",
        "    self.ACCESS_TOKEN = access_token\n",
        "    self.ACCESS_TOKEN_SECRET = access_token_secret\n",
        "    self.CONSUMER_KEY = consumer_key\n",
        "    self.CONSUMER_SECRET = consumer_secret\n",
        "ACCESS_TOKEN = \"1153291455340765184-AH0fD3WMlIOmdChkVMmAtWV18zD8OE\"\n",
        "ACCESS_TOKEN_SECRET = \"b8QtThweLDp0hGEiawIqRxFZAtCKILpCh3keWcft56AO4\"\n",
        "CONSUMER_KEY = \"i9UvhwXbvVxWCI6ymXb6gUuSv\"\n",
        "CONSUMER_SECRET = \"fRAzewVdYvjDt2edPh8EhCZMVBniTMKCtNaSqpELa9Ka63IQr8\"\n",
        "twitter_credentials = Credentials(ACCESS_TOKEN, ACCESS_TOKEN_SECRET, CONSUMER_KEY, CONSUMER_SECRET)\n",
        "\n",
        "#To Authenticate the access to twitter API\n",
        "class TwitterAuthenticator():\n",
        "    def authenticate_twitter_app(self):\n",
        "        auth = OAuthHandler(twitter_credentials.CONSUMER_KEY, twitter_credentials.CONSUMER_SECRET)\n",
        "        auth.set_access_token(twitter_credentials.ACCESS_TOKEN, twitter_credentials.ACCESS_TOKEN_SECRET)\n",
        "        return auth\n",
        "\n",
        "class TwitterClient():\n",
        "    def __init__(self, twitter_user=None):\n",
        "        self.auth = TwitterAuthenticator().authenticate_twitter_app()\n",
        "        self.twitter_client = API(self.auth)\n",
        "\n",
        "        self.twitter_user = twitter_user\n",
        "    def get_twitter_client_api(self):\n",
        "      return self.twitter_client\n",
        "\n",
        "#To convert the JSON data to pandas dataframe\n",
        "class TweetAnalyzer():\n",
        "\n",
        "    def tweets_to_data_frame(self, tweets):\n",
        "        df = pd.DataFrame(data=[tweet.text for tweet in tweets], columns=['tweet'])\n",
        "\n",
        "        return df\n",
        "\n"
      ]
    },
    {
      "cell_type": "markdown",
      "metadata": {
        "id": "BjXsTyJhCceU"
      },
      "source": [
        "We then combine the data from the dataset and the twitter API into df_all dataframe. This is important to ensure equal number of features for both dataset"
      ]
    },
    {
      "cell_type": "code",
      "execution_count": 11,
      "metadata": {
        "id": "oAGD2BzEO8N6"
      },
      "outputs": [],
      "source": [
        "twitter_client = TwitterClient()\n",
        "tweet_analyzer = TweetAnalyzer()\n",
        "api = twitter_client.get_twitter_client_api()\n",
        "tweets = api.search(q = \"\\\"andrew tate\\\" lang:en until:2022-10-08 since:2022-09-01 -filter:links\", count=100)\n",
        "df_tate = tweet_analyzer.tweets_to_data_frame(tweets)\n"
      ]
    },
    {
      "cell_type": "markdown",
      "metadata": {
        "id": "QY6gFe5QD4DC"
      },
      "source": [
        "The data from twitter API is not labeled. Therefore, for the sake of dataset completeness to make it possible to combine both dataframe, we assign all tweets with label '1'. This doesnt matter because the label won't be used as an input to the classifier model. It's done with the code below:"
      ]
    },
    {
      "cell_type": "code",
      "execution_count": 12,
      "metadata": {
        "colab": {
          "base_uri": "https://localhost:8080/",
          "height": 424
        },
        "id": "8QLsKCe1D0mO",
        "outputId": "cde176d0-d448-490a-b6e8-30e0b81d799d"
      },
      "outputs": [
        {
          "data": {
            "text/html": [
              "<div>\n",
              "<style scoped>\n",
              "    .dataframe tbody tr th:only-of-type {\n",
              "        vertical-align: middle;\n",
              "    }\n",
              "\n",
              "    .dataframe tbody tr th {\n",
              "        vertical-align: top;\n",
              "    }\n",
              "\n",
              "    .dataframe thead th {\n",
              "        text-align: right;\n",
              "    }\n",
              "</style>\n",
              "<table border=\"1\" class=\"dataframe\">\n",
              "  <thead>\n",
              "    <tr style=\"text-align: right;\">\n",
              "      <th></th>\n",
              "      <th>label</th>\n",
              "      <th>tweet</th>\n",
              "    </tr>\n",
              "  </thead>\n",
              "  <tbody>\n",
              "    <tr>\n",
              "      <th>0</th>\n",
              "      <td>0</td>\n",
              "      <td>@user when a father is dysfunctional and is s...</td>\n",
              "    </tr>\n",
              "    <tr>\n",
              "      <th>1</th>\n",
              "      <td>0</td>\n",
              "      <td>@user @user thanks for #lyft credit i can't us...</td>\n",
              "    </tr>\n",
              "    <tr>\n",
              "      <th>2</th>\n",
              "      <td>0</td>\n",
              "      <td>bihday your majesty</td>\n",
              "    </tr>\n",
              "    <tr>\n",
              "      <th>3</th>\n",
              "      <td>0</td>\n",
              "      <td>#model   i love u take with u all the time in ...</td>\n",
              "    </tr>\n",
              "    <tr>\n",
              "      <th>4</th>\n",
              "      <td>0</td>\n",
              "      <td>factsguide: society now    #motivation</td>\n",
              "    </tr>\n",
              "    <tr>\n",
              "      <th>...</th>\n",
              "      <td>...</td>\n",
              "      <td>...</td>\n",
              "    </tr>\n",
              "    <tr>\n",
              "      <th>4579</th>\n",
              "      <td>1</td>\n",
              "      <td>Piers Morgan &amp;amp; Andrew Tate converse. Enter...</td>\n",
              "    </tr>\n",
              "    <tr>\n",
              "      <th>4580</th>\n",
              "      <td>1</td>\n",
              "      <td>@emilyhewertson Putin, Piers Morgan, Jeremy Co...</td>\n",
              "    </tr>\n",
              "    <tr>\n",
              "      <th>4581</th>\n",
              "      <td>1</td>\n",
              "      <td>RT @SheerOpulence2: @RockiiiiRoadd I feel like...</td>\n",
              "    </tr>\n",
              "    <tr>\n",
              "      <th>4582</th>\n",
              "      <td>1</td>\n",
              "      <td>@RyanGellatly Mario - Still Captain Lou\\nLuigi...</td>\n",
              "    </tr>\n",
              "    <tr>\n",
              "      <th>4583</th>\n",
              "      <td>1</td>\n",
              "      <td>I wonder why @piersmorgan was so compassionate...</td>\n",
              "    </tr>\n",
              "  </tbody>\n",
              "</table>\n",
              "<p>4584 rows × 2 columns</p>\n",
              "</div>"
            ],
            "text/plain": [
              "      label                                              tweet\n",
              "0         0   @user when a father is dysfunctional and is s...\n",
              "1         0  @user @user thanks for #lyft credit i can't us...\n",
              "2         0                                bihday your majesty\n",
              "3         0  #model   i love u take with u all the time in ...\n",
              "4         0             factsguide: society now    #motivation\n",
              "...     ...                                                ...\n",
              "4579      1  Piers Morgan &amp; Andrew Tate converse. Enter...\n",
              "4580      1  @emilyhewertson Putin, Piers Morgan, Jeremy Co...\n",
              "4581      1  RT @SheerOpulence2: @RockiiiiRoadd I feel like...\n",
              "4582      1  @RyanGellatly Mario - Still Captain Lou\\nLuigi...\n",
              "4583      1  I wonder why @piersmorgan was so compassionate...\n",
              "\n",
              "[4584 rows x 2 columns]"
            ]
          },
          "execution_count": 12,
          "metadata": {},
          "output_type": "execute_result"
        }
      ],
      "source": [
        "one_label = [1 for i in range(100)]\n",
        "df_tate['label'] = one_label #assigning all tweets with label '1'\n",
        "\n",
        "# Combining model and testing dataset\n",
        "frames = [tweets_df, df_tate]\n",
        "pd.set_option('display.max_rows', 10)\n",
        "df_all= pd.concat(frames, ignore_index = True)\n",
        "df_all"
      ]
    },
    {
      "cell_type": "markdown",
      "metadata": {
        "id": "2geMzGITbZPJ"
      },
      "source": [
        "# Step 3: Removing Punctuations and Stopwords"
      ]
    },
    {
      "cell_type": "markdown",
      "metadata": {
        "id": "ywXejZ2AEVLZ"
      },
      "source": [
        "To ensure the value of each data, both the punctuations and stopwords will be removed"
      ]
    },
    {
      "cell_type": "code",
      "execution_count": 13,
      "metadata": {
        "colab": {
          "base_uri": "https://localhost:8080/"
        },
        "id": "RtLrFyNuy_XE",
        "outputId": "d4d25b1a-75cd-4e03-f0d9-f861f31962b4"
      },
      "outputs": [
        {
          "name": "stderr",
          "output_type": "stream",
          "text": [
            "[nltk_data] Downloading package stopwords to\n",
            "[nltk_data]     C:\\Users\\Reinhart\\AppData\\Roaming\\nltk_data...\n",
            "[nltk_data]   Package stopwords is already up-to-date!\n"
          ]
        }
      ],
      "source": [
        "import string\n",
        "import nltk\n",
        "nltk.download('stopwords')\n",
        "from nltk.corpus import stopwords"
      ]
    },
    {
      "cell_type": "code",
      "execution_count": 14,
      "metadata": {
        "id": "WHJnbIDeSmlm"
      },
      "outputs": [],
      "source": [
        "\n",
        "# Remove Punctuation and Stopwords\n",
        "def message_cleaning(message):\n",
        "    Test_punc_removed = [char for char in message if char not in string.punctuation]\n",
        "    Test_punc_removed_join = ''.join(Test_punc_removed)\n",
        "    Test_punc_removed_join_clean = [word for word in Test_punc_removed_join.split() if word.lower() not in stopwords.words('english')]\n",
        "    return Test_punc_removed_join_clean"
      ]
    },
    {
      "cell_type": "code",
      "execution_count": 15,
      "metadata": {
        "id": "TxAYpIXXSmoZ"
      },
      "outputs": [],
      "source": [
        "# Trying the function\n",
        "df_all_cleaned = df_all['tweet'].apply(message_cleaning)"
      ]
    },
    {
      "cell_type": "code",
      "execution_count": 16,
      "metadata": {
        "colab": {
          "base_uri": "https://localhost:8080/"
        },
        "id": "DXnYj4Q8SmrH",
        "outputId": "f3fa5c75-c274-4f7e-f349-5d543031ba3b"
      },
      "outputs": [
        {
          "name": "stdout",
          "output_type": "stream",
          "text": [
            "['RT', 'Limonadaman', 'think', 'Andrew', 'Tate', 'bought', 'NFT', 'Curious']\n"
          ]
        }
      ],
      "source": [
        "print(df_all_cleaned.iloc[-10]) # show the cleaned up version"
      ]
    },
    {
      "cell_type": "code",
      "execution_count": 17,
      "metadata": {
        "colab": {
          "base_uri": "https://localhost:8080/"
        },
        "id": "ygy78EHZTGTD",
        "outputId": "a7041f32-803b-4451-8235-d12aeef7d826"
      },
      "outputs": [
        {
          "name": "stdout",
          "output_type": "stream",
          "text": [
            "RT @Limonadaman: You think Andrew Tate has bought an NFT? Curious.\n"
          ]
        }
      ],
      "source": [
        "print(df_all.iloc[-10]['tweet']) # show the original version"
      ]
    },
    {
      "cell_type": "code",
      "execution_count": 18,
      "metadata": {
        "id": "PlGAcCZf700a"
      },
      "outputs": [],
      "source": [
        "df_all['tweet'] = df_all_cleaned"
      ]
    },
    {
      "cell_type": "markdown",
      "metadata": {
        "id": "BeKsIy3qzRtS"
      },
      "source": [
        "# Step 4: Performing Vectorization"
      ]
    },
    {
      "cell_type": "markdown",
      "metadata": {
        "id": "3yG_ufuiEgAs"
      },
      "source": [
        "To ensure model fitting can happen, we convert the tweet data into vectors through vectorization"
      ]
    },
    {
      "cell_type": "code",
      "execution_count": 19,
      "metadata": {
        "colab": {
          "base_uri": "https://localhost:8080/"
        },
        "id": "lBMfXgw5YEtP",
        "outputId": "61be26ad-f862-4192-fea8-e3bfb04d1d5d"
      },
      "outputs": [
        {
          "name": "stdout",
          "output_type": "stream",
          "text": [
            "      0     1     2     3     4     5     6     7     8     9     ...  4227  \\\n",
            "0        0     0     0     0     0     0     0     0     0     0  ...     0   \n",
            "1        0     0     0     0     0     0     0     0     0     0  ...     0   \n",
            "2        0     0     0     0     0     0     0     0     0     0  ...     0   \n",
            "3        0     0     0     0     0     0     0     0     0     0  ...     0   \n",
            "4        0     0     0     0     0     0     0     0     0     0  ...     0   \n",
            "...    ...   ...   ...   ...   ...   ...   ...   ...   ...   ...  ...   ...   \n",
            "4579     0     0     0     0     0     0     0     0     0     0  ...     0   \n",
            "4580     0     0     0     0     0     0     0     0     0     0  ...     0   \n",
            "4581     0     0     0     0     0     0     0     0     0     0  ...     0   \n",
            "4582     0     0     0     0     0     0     0     0     0     0  ...     0   \n",
            "4583     0     0     0     0     0     0     0     0     0     0  ...     0   \n",
            "\n",
            "      4228  4229  4230  4231  4232  4233  4234  4235  4236  \n",
            "0        0     0     0     0     0     0     0     0     0  \n",
            "1        0     0     0     0     0     0     0     0     0  \n",
            "2        0     0     0     0     0     0     0     0     0  \n",
            "3        0     0     0     0     0     0     0     0     0  \n",
            "4        0     0     0     0     0     0     0     0     0  \n",
            "...    ...   ...   ...   ...   ...   ...   ...   ...   ...  \n",
            "4579     0     0     0     0     0     0     0     0     0  \n",
            "4580     0     0     0     0     0     0     0     0     0  \n",
            "4581     0     0     0     0     0     0     0     0     0  \n",
            "4582     0     0     0     0     0     0     0     0     0  \n",
            "4583     0     0     0     0     0     0     0     0     0  \n",
            "\n",
            "[4584 rows x 4237 columns]\n"
          ]
        }
      ],
      "source": [
        "from sklearn.feature_extraction.text import CountVectorizer\n",
        "vectorizer = CountVectorizer(analyzer = message_cleaning, dtype = np.uint8)\n",
        "tweets_countvectorizer = vectorizer.fit_transform(df_all['tweet'])\n",
        "X_all = pd.DataFrame(tweets_countvectorizer.toarray())\n",
        "print(X_all)"
      ]
    },
    {
      "cell_type": "markdown",
      "metadata": {
        "id": "jIVxZdZ1USAz"
      },
      "source": [
        "# Step 5: Train and Evaluate Logistic Regression Model"
      ]
    },
    {
      "cell_type": "code",
      "execution_count": 20,
      "metadata": {
        "id": "VzFqwyR77j2R"
      },
      "outputs": [],
      "source": [
        "# We exclude the last 100 data since it contains the Andrew Tate tweets that we're going to analyze\n",
        "# We dont want the training model to access testing data\n",
        "X_modeling = X_all[:-100]\n",
        "y_modeling = df_all.iloc[:-100]['label']\n"
      ]
    },
    {
      "cell_type": "code",
      "execution_count": 21,
      "metadata": {
        "id": "8QhKKuA88Sdr"
      },
      "outputs": [],
      "source": [
        "#splitting the data into train and test\n",
        "from sklearn.model_selection import train_test_split\n",
        "X_train, X_test, y_train, y_test = train_test_split(X_modeling, y_modeling, test_size=0.2)\n"
      ]
    },
    {
      "cell_type": "code",
      "execution_count": 22,
      "metadata": {
        "colab": {
          "base_uri": "https://localhost:8080/",
          "height": 421
        },
        "id": "s_aULZ3-uSDJ",
        "outputId": "8a9ff66f-7738-4edb-e725-fa66f5eaafb4"
      },
      "outputs": [
        {
          "name": "stdout",
          "output_type": "stream",
          "text": [
            "              precision    recall  f1-score   support\n",
            "\n",
            "           0       0.56      1.00      0.72       475\n",
            "           1       1.00      0.11      0.20       422\n",
            "\n",
            "    accuracy                           0.58       897\n",
            "   macro avg       0.78      0.56      0.46       897\n",
            "weighted avg       0.77      0.58      0.48       897\n",
            "\n"
          ]
        },
        {
          "data": {
            "image/png": "[encoded data removed]",
            "text/plain": [
              "<Figure size 432x288 with 2 Axes>"
            ]
          },
          "metadata": {
            "needs_background": "light"
          },
          "output_type": "display_data"
        }
      ],
      "source": [
        "from sklearn.linear_model import LogisticRegression\n",
        "from sklearn.metrics import classification_report, confusion_matrix\n",
        "\n",
        "# Applying Logistic Regression model\n",
        "model = LogisticRegression()\n",
        "model.fit(X_train, y_train)\n",
        "\n",
        "y_pred = model.predict(X_test)\n",
        "\n",
        "\n",
        "#Generating confusion Matrix and classification report\n",
        "cm = confusion_matrix(y_pred, y_test)\n",
        "sns.heatmap(cm, annot = True, fmt = 'g')\n",
        "\n",
        "print(classification_report(y_test, y_pred))"
      ]
    },
    {
      "cell_type": "markdown",
      "metadata": {
        "id": "MNiEgcKx_Mro"
      },
      "source": [
        "#Step 5: Applying the model to Andrew Tate related tweets"
      ]
    },
    {
      "cell_type": "code",
      "execution_count": 23,
      "metadata": {
        "colab": {
          "base_uri": "https://localhost:8080/"
        },
        "id": "ogz49SnpS0U3",
        "outputId": "9e3522e3-eab5-4585-f102-82b87b647aab"
      },
      "outputs": [
        {
          "name": "stderr",
          "output_type": "stream",
          "text": [
            "C:\\Users\\Reinhart\\AppData\\Local\\Temp\\ipykernel_8252\\4263689131.py:3: SettingWithCopyWarning: \n",
            "A value is trying to be set on a copy of a slice from a DataFrame.\n",
            "Try using .loc[row_indexer,col_indexer] = value instead\n",
            "\n",
            "See the caveats in the documentation: https://pandas.pydata.org/pandas-docs/stable/user_guide/indexing.html#returning-a-view-versus-a-copy\n",
            "  df_all.iloc[-100:]['label'] = y_predict_tate\n"
          ]
        },
        {
          "data": {
            "text/plain": [
              "array([0, 0, 0, 0, 0, 0, 0, 0, 0, 0, 0, 0, 0, 0, 0, 0, 0, 0, 0, 0, 0, 0,\n",
              "       0, 0, 0, 0, 0, 0, 0, 0, 0, 0, 0, 0, 0, 0, 0, 0, 0, 0, 0, 0, 0, 0,\n",
              "       0, 0, 0, 0, 0, 0, 0, 0, 0, 0, 0, 0, 0, 0, 0, 0, 0, 0, 0, 0, 0, 0,\n",
              "       0, 0, 0, 0, 0, 0, 0, 0, 0, 0, 0, 0, 0, 0, 0, 0, 0, 0, 0, 0, 0, 0,\n",
              "       0, 0, 0, 0, 0, 0, 0, 0, 0, 0, 0, 0], dtype=int64)"
            ]
          },
          "execution_count": 23,
          "metadata": {},
          "output_type": "execute_result"
        }
      ],
      "source": [
        "#Testing the model on Andrew Tate tweets\n",
        "y_predict_tate = model.predict(X_all[-100:])\n",
        "df_all.iloc[-100:]['label'] = y_predict_tate\n",
        "df_tate = df_all.iloc[-100:]\n",
        "y_predict_tate"
      ]
    }
  ],
  "metadata": {
    "accelerator": "GPU",
    "colab": {
      "collapsed_sections": [],
      "provenance": []
    },
    "kernelspec": {
      "display_name": "Python 3.9.4 64-bit",
      "language": "python",
      "name": "python3"
    },
    "language_info": {
      "codemirror_mode": {
        "name": "ipython",
        "version": 3
      },
      "file_extension": ".py",
      "mimetype": "text/x-python",
      "name": "python",
      "nbconvert_exporter": "python",
      "pygments_lexer": "ipython3",
      "version": "3.9.4"
    },
    "vscode": {
      "interpreter": {
        "hash": "ea268660bf9799aa722b9ccff49a6824aee27341d761f91e3e3f5251bc05ecef"
      }
    }
  },
  "nbformat": 4,
  "nbformat_minor": 0
}
